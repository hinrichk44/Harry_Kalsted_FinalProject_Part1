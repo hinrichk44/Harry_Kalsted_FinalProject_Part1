{
 "cells": [
  {
   "cell_type": "markdown",
   "metadata": {},
   "source": [
    "# The Dataset"
   ]
  },
  {
   "cell_type": "markdown",
   "metadata": {},
   "source": [
    "The dataset I am using for my final project is a documentation of property sales in Brooklyn from 2003-2017. The target variable I would like to predict in this dataset is the sale price of the properties. I believe the ability to predict the sales price could benefit both buyers and sellers by making these often large transactions more transparent and informative. I will beging with a rudimentary model that uses all the features to predict sales price. Depending on the outcome, I will narrow the features down. I am currently eyeing things like square feet and zip code as good feature variables to predict the sale prices. My ultimate goal is to get a R-squared/target score of 80%. I think the biggest risk or limitation is the overwhelming amount of data included in the dataset. This could make things difficult in terms of finding the right variables to predict the target variable. "
   ]
  },
  {
   "cell_type": "code",
   "execution_count": 1,
   "metadata": {},
   "outputs": [],
   "source": [
    "#Here I am importing all the necessary libraries I may need for analysis\n",
    "\n",
    "\n",
    "import matplotlib.pyplot as plt\n",
    "import numpy as np\n",
    "import pandas as pd\n",
    "import seaborn as sns\n",
    "plt.style.use('fivethirtyeight')\n",
    "%matplotlib inline"
   ]
  },
  {
   "cell_type": "code",
   "execution_count": 2,
   "metadata": {},
   "outputs": [],
   "source": [
    "#Reading in of the dataset\n",
    "\n",
    "brooklyn = pd.read_csv(\"brooklyn_sales_map.csv\")"
   ]
  },
  {
   "cell_type": "code",
   "execution_count": 3,
   "metadata": {},
   "outputs": [
    {
     "data": {
      "text/html": [
       "<div>\n",
       "<style scoped>\n",
       "    .dataframe tbody tr th:only-of-type {\n",
       "        vertical-align: middle;\n",
       "    }\n",
       "\n",
       "    .dataframe tbody tr th {\n",
       "        vertical-align: top;\n",
       "    }\n",
       "\n",
       "    .dataframe thead th {\n",
       "        text-align: right;\n",
       "    }\n",
       "</style>\n",
       "<table border=\"1\" class=\"dataframe\">\n",
       "  <thead>\n",
       "    <tr style=\"text-align: right;\">\n",
       "      <th></th>\n",
       "      <th>Unnamed: 0</th>\n",
       "      <th>borough</th>\n",
       "      <th>neighborhood</th>\n",
       "      <th>building_class_category</th>\n",
       "      <th>tax_class</th>\n",
       "      <th>block</th>\n",
       "      <th>lot</th>\n",
       "      <th>building_class</th>\n",
       "      <th>address</th>\n",
       "      <th>zip_code</th>\n",
       "      <th>...</th>\n",
       "      <th>XCoord</th>\n",
       "      <th>YCoord</th>\n",
       "      <th>ZoneMap</th>\n",
       "      <th>ZMCode</th>\n",
       "      <th>Sanborn</th>\n",
       "      <th>TaxMap</th>\n",
       "      <th>EDesigNum</th>\n",
       "      <th>Version</th>\n",
       "      <th>SHAPE_Leng</th>\n",
       "      <th>SHAPE_Area</th>\n",
       "    </tr>\n",
       "  </thead>\n",
       "  <tbody>\n",
       "    <tr>\n",
       "      <th>0</th>\n",
       "      <td>1</td>\n",
       "      <td>3</td>\n",
       "      <td>DOWNTOWN-METROTECH</td>\n",
       "      <td>28  COMMERCIAL CONDOS</td>\n",
       "      <td>4</td>\n",
       "      <td>140</td>\n",
       "      <td>1001</td>\n",
       "      <td>R5</td>\n",
       "      <td>330 JAY STREET</td>\n",
       "      <td>11201</td>\n",
       "      <td>...</td>\n",
       "      <td>NaN</td>\n",
       "      <td>NaN</td>\n",
       "      <td>NaN</td>\n",
       "      <td>NaN</td>\n",
       "      <td>NaN</td>\n",
       "      <td>NaN</td>\n",
       "      <td>NaN</td>\n",
       "      <td>NaN</td>\n",
       "      <td>NaN</td>\n",
       "      <td>NaN</td>\n",
       "    </tr>\n",
       "    <tr>\n",
       "      <th>1</th>\n",
       "      <td>2</td>\n",
       "      <td>3</td>\n",
       "      <td>DOWNTOWN-FULTON FERRY</td>\n",
       "      <td>29  COMMERCIAL GARAGES</td>\n",
       "      <td>4</td>\n",
       "      <td>54</td>\n",
       "      <td>1</td>\n",
       "      <td>G7</td>\n",
       "      <td>85 JAY STREET</td>\n",
       "      <td>11201</td>\n",
       "      <td>...</td>\n",
       "      <td>988208.0</td>\n",
       "      <td>195011.0</td>\n",
       "      <td>12d</td>\n",
       "      <td>NaN</td>\n",
       "      <td>302 016</td>\n",
       "      <td>30101.0</td>\n",
       "      <td>NaN</td>\n",
       "      <td>17V1.1</td>\n",
       "      <td>1560.0</td>\n",
       "      <td>140132.0</td>\n",
       "    </tr>\n",
       "    <tr>\n",
       "      <th>2</th>\n",
       "      <td>3</td>\n",
       "      <td>3</td>\n",
       "      <td>BROOKLYN HEIGHTS</td>\n",
       "      <td>21  OFFICE BUILDINGS</td>\n",
       "      <td>4</td>\n",
       "      <td>204</td>\n",
       "      <td>1</td>\n",
       "      <td>O6</td>\n",
       "      <td>29 COLUMBIA HEIGHTS</td>\n",
       "      <td>11201</td>\n",
       "      <td>...</td>\n",
       "      <td>985952.0</td>\n",
       "      <td>195007.0</td>\n",
       "      <td>12d</td>\n",
       "      <td>NaN</td>\n",
       "      <td>302 004</td>\n",
       "      <td>30106.0</td>\n",
       "      <td>NaN</td>\n",
       "      <td>17V1.1</td>\n",
       "      <td>891.0</td>\n",
       "      <td>34656.0</td>\n",
       "    </tr>\n",
       "    <tr>\n",
       "      <th>3</th>\n",
       "      <td>4</td>\n",
       "      <td>3</td>\n",
       "      <td>MILL BASIN</td>\n",
       "      <td>22  STORE BUILDINGS</td>\n",
       "      <td>4</td>\n",
       "      <td>8470</td>\n",
       "      <td>55</td>\n",
       "      <td>K6</td>\n",
       "      <td>5120 AVENUE U</td>\n",
       "      <td>11234</td>\n",
       "      <td>...</td>\n",
       "      <td>1006597.0</td>\n",
       "      <td>161424.0</td>\n",
       "      <td>23b</td>\n",
       "      <td>NaN</td>\n",
       "      <td>319 077</td>\n",
       "      <td>32502.0</td>\n",
       "      <td>NaN</td>\n",
       "      <td>17V1.1</td>\n",
       "      <td>3730.0</td>\n",
       "      <td>797555.0</td>\n",
       "    </tr>\n",
       "    <tr>\n",
       "      <th>4</th>\n",
       "      <td>5</td>\n",
       "      <td>3</td>\n",
       "      <td>BROOKLYN HEIGHTS</td>\n",
       "      <td>26 OTHER HOTELS</td>\n",
       "      <td>4</td>\n",
       "      <td>230</td>\n",
       "      <td>1</td>\n",
       "      <td>H8</td>\n",
       "      <td>21 CLARK STREET</td>\n",
       "      <td>11201</td>\n",
       "      <td>...</td>\n",
       "      <td>985622.0</td>\n",
       "      <td>193713.0</td>\n",
       "      <td>12d</td>\n",
       "      <td>NaN</td>\n",
       "      <td>302 014</td>\n",
       "      <td>30106.0</td>\n",
       "      <td>NaN</td>\n",
       "      <td>17V1.1</td>\n",
       "      <td>621.0</td>\n",
       "      <td>21360.0</td>\n",
       "    </tr>\n",
       "  </tbody>\n",
       "</table>\n",
       "<p>5 rows × 82 columns</p>\n",
       "</div>"
      ],
      "text/plain": [
       "   Unnamed: 0  borough           neighborhood building_class_category  \\\n",
       "0           1        3     DOWNTOWN-METROTECH   28  COMMERCIAL CONDOS   \n",
       "1           2        3  DOWNTOWN-FULTON FERRY  29  COMMERCIAL GARAGES   \n",
       "2           3        3       BROOKLYN HEIGHTS    21  OFFICE BUILDINGS   \n",
       "3           4        3             MILL BASIN     22  STORE BUILDINGS   \n",
       "4           5        3       BROOKLYN HEIGHTS         26 OTHER HOTELS   \n",
       "\n",
       "  tax_class  block   lot building_class              address  zip_code  \\\n",
       "0         4    140  1001             R5       330 JAY STREET     11201   \n",
       "1         4     54     1             G7        85 JAY STREET     11201   \n",
       "2         4    204     1             O6  29 COLUMBIA HEIGHTS     11201   \n",
       "3         4   8470    55             K6        5120 AVENUE U     11234   \n",
       "4         4    230     1             H8      21 CLARK STREET     11201   \n",
       "\n",
       "      ...         XCoord    YCoord  ZoneMap  ZMCode  Sanborn   TaxMap  \\\n",
       "0     ...            NaN       NaN      NaN     NaN      NaN      NaN   \n",
       "1     ...       988208.0  195011.0      12d     NaN  302 016  30101.0   \n",
       "2     ...       985952.0  195007.0      12d     NaN  302 004  30106.0   \n",
       "3     ...      1006597.0  161424.0      23b     NaN  319 077  32502.0   \n",
       "4     ...       985622.0  193713.0      12d     NaN  302 014  30106.0   \n",
       "\n",
       "   EDesigNum Version  SHAPE_Leng  SHAPE_Area  \n",
       "0        NaN     NaN         NaN         NaN  \n",
       "1        NaN  17V1.1      1560.0    140132.0  \n",
       "2        NaN  17V1.1       891.0     34656.0  \n",
       "3        NaN  17V1.1      3730.0    797555.0  \n",
       "4        NaN  17V1.1       621.0     21360.0  \n",
       "\n",
       "[5 rows x 82 columns]"
      ]
     },
     "execution_count": 3,
     "metadata": {},
     "output_type": "execute_result"
    }
   ],
   "source": [
    "#What does the dataset look like?\n",
    "\n",
    "brooklyn.head()"
   ]
  },
  {
   "cell_type": "code",
   "execution_count": 4,
   "metadata": {},
   "outputs": [
    {
     "data": {
      "text/html": [
       "<div>\n",
       "<style scoped>\n",
       "    .dataframe tbody tr th:only-of-type {\n",
       "        vertical-align: middle;\n",
       "    }\n",
       "\n",
       "    .dataframe tbody tr th {\n",
       "        vertical-align: top;\n",
       "    }\n",
       "\n",
       "    .dataframe thead th {\n",
       "        text-align: right;\n",
       "    }\n",
       "</style>\n",
       "<table border=\"1\" class=\"dataframe\">\n",
       "  <thead>\n",
       "    <tr style=\"text-align: right;\">\n",
       "      <th></th>\n",
       "      <th>Unnamed: 0</th>\n",
       "      <th>borough</th>\n",
       "      <th>neighborhood</th>\n",
       "      <th>building_class_category</th>\n",
       "      <th>tax_class</th>\n",
       "      <th>block</th>\n",
       "      <th>lot</th>\n",
       "      <th>building_class</th>\n",
       "      <th>address</th>\n",
       "      <th>zip_code</th>\n",
       "      <th>...</th>\n",
       "      <th>XCoord</th>\n",
       "      <th>YCoord</th>\n",
       "      <th>ZoneMap</th>\n",
       "      <th>ZMCode</th>\n",
       "      <th>Sanborn</th>\n",
       "      <th>TaxMap</th>\n",
       "      <th>EDesigNum</th>\n",
       "      <th>Version</th>\n",
       "      <th>SHAPE_Leng</th>\n",
       "      <th>SHAPE_Area</th>\n",
       "    </tr>\n",
       "  </thead>\n",
       "  <tbody>\n",
       "    <tr>\n",
       "      <th>390876</th>\n",
       "      <td>390877</td>\n",
       "      <td>3</td>\n",
       "      <td>WYCKOFF HEIGHTS</td>\n",
       "      <td>29  COMMERCIAL GARAGES</td>\n",
       "      <td>4</td>\n",
       "      <td>3371</td>\n",
       "      <td>21</td>\n",
       "      <td>G9</td>\n",
       "      <td>1402 MADISON STREET</td>\n",
       "      <td>11237</td>\n",
       "      <td>...</td>\n",
       "      <td>1009164.0</td>\n",
       "      <td>193491.0</td>\n",
       "      <td>13d</td>\n",
       "      <td>NaN</td>\n",
       "      <td>309 053</td>\n",
       "      <td>31107.0</td>\n",
       "      <td>NaN</td>\n",
       "      <td>17V1.1</td>\n",
       "      <td>206.0</td>\n",
       "      <td>1697.0</td>\n",
       "    </tr>\n",
       "    <tr>\n",
       "      <th>390877</th>\n",
       "      <td>390878</td>\n",
       "      <td>3</td>\n",
       "      <td>WYCKOFF HEIGHTS</td>\n",
       "      <td>29  COMMERCIAL GARAGES</td>\n",
       "      <td>NaN</td>\n",
       "      <td>3379</td>\n",
       "      <td>58</td>\n",
       "      <td>NaN</td>\n",
       "      <td>802 WYCKOFF AVENUE</td>\n",
       "      <td>11237</td>\n",
       "      <td>...</td>\n",
       "      <td>NaN</td>\n",
       "      <td>NaN</td>\n",
       "      <td>NaN</td>\n",
       "      <td>NaN</td>\n",
       "      <td>NaN</td>\n",
       "      <td>NaN</td>\n",
       "      <td>NaN</td>\n",
       "      <td>NaN</td>\n",
       "      <td>NaN</td>\n",
       "      <td>NaN</td>\n",
       "    </tr>\n",
       "    <tr>\n",
       "      <th>390878</th>\n",
       "      <td>390879</td>\n",
       "      <td>3</td>\n",
       "      <td>WYCKOFF HEIGHTS</td>\n",
       "      <td>31  COMMERCIAL VACANT LAND</td>\n",
       "      <td>1</td>\n",
       "      <td>3337</td>\n",
       "      <td>19</td>\n",
       "      <td>C0</td>\n",
       "      <td>364 LINDEN STREET</td>\n",
       "      <td>11237</td>\n",
       "      <td>...</td>\n",
       "      <td>1008466.0</td>\n",
       "      <td>194283.0</td>\n",
       "      <td>13b</td>\n",
       "      <td>NaN</td>\n",
       "      <td>309 052</td>\n",
       "      <td>31106.0</td>\n",
       "      <td>NaN</td>\n",
       "      <td>17V1.1</td>\n",
       "      <td>244.0</td>\n",
       "      <td>2501.0</td>\n",
       "    </tr>\n",
       "    <tr>\n",
       "      <th>390879</th>\n",
       "      <td>390880</td>\n",
       "      <td>3</td>\n",
       "      <td>WYCKOFF HEIGHTS</td>\n",
       "      <td>31  COMMERCIAL VACANT LAND</td>\n",
       "      <td>1</td>\n",
       "      <td>3337</td>\n",
       "      <td>19</td>\n",
       "      <td>C0</td>\n",
       "      <td>364 LINDEN STREET</td>\n",
       "      <td>11237</td>\n",
       "      <td>...</td>\n",
       "      <td>1008466.0</td>\n",
       "      <td>194283.0</td>\n",
       "      <td>13b</td>\n",
       "      <td>NaN</td>\n",
       "      <td>309 052</td>\n",
       "      <td>31106.0</td>\n",
       "      <td>NaN</td>\n",
       "      <td>17V1.1</td>\n",
       "      <td>244.0</td>\n",
       "      <td>2501.0</td>\n",
       "    </tr>\n",
       "    <tr>\n",
       "      <th>390880</th>\n",
       "      <td>390881</td>\n",
       "      <td>3</td>\n",
       "      <td>WYCKOFF HEIGHTS</td>\n",
       "      <td>41  TAX CLASS 4 - OTHER</td>\n",
       "      <td>4</td>\n",
       "      <td>3280</td>\n",
       "      <td>50</td>\n",
       "      <td>Z9</td>\n",
       "      <td>383 HARMAN STREET</td>\n",
       "      <td>11237</td>\n",
       "      <td>...</td>\n",
       "      <td>1007172.0</td>\n",
       "      <td>194967.0</td>\n",
       "      <td>13b</td>\n",
       "      <td>NaN</td>\n",
       "      <td>309 050</td>\n",
       "      <td>31104.0</td>\n",
       "      <td>NaN</td>\n",
       "      <td>17V1.1</td>\n",
       "      <td>231.0</td>\n",
       "      <td>2796.0</td>\n",
       "    </tr>\n",
       "  </tbody>\n",
       "</table>\n",
       "<p>5 rows × 82 columns</p>\n",
       "</div>"
      ],
      "text/plain": [
       "        Unnamed: 0  borough     neighborhood     building_class_category  \\\n",
       "390876      390877        3  WYCKOFF HEIGHTS      29  COMMERCIAL GARAGES   \n",
       "390877      390878        3  WYCKOFF HEIGHTS      29  COMMERCIAL GARAGES   \n",
       "390878      390879        3  WYCKOFF HEIGHTS  31  COMMERCIAL VACANT LAND   \n",
       "390879      390880        3  WYCKOFF HEIGHTS  31  COMMERCIAL VACANT LAND   \n",
       "390880      390881        3  WYCKOFF HEIGHTS     41  TAX CLASS 4 - OTHER   \n",
       "\n",
       "       tax_class  block  lot building_class              address  zip_code  \\\n",
       "390876         4   3371   21             G9  1402 MADISON STREET     11237   \n",
       "390877       NaN   3379   58            NaN   802 WYCKOFF AVENUE     11237   \n",
       "390878         1   3337   19             C0    364 LINDEN STREET     11237   \n",
       "390879         1   3337   19             C0    364 LINDEN STREET     11237   \n",
       "390880         4   3280   50             Z9    383 HARMAN STREET     11237   \n",
       "\n",
       "           ...         XCoord    YCoord  ZoneMap  ZMCode  Sanborn   TaxMap  \\\n",
       "390876     ...      1009164.0  193491.0      13d     NaN  309 053  31107.0   \n",
       "390877     ...            NaN       NaN      NaN     NaN      NaN      NaN   \n",
       "390878     ...      1008466.0  194283.0      13b     NaN  309 052  31106.0   \n",
       "390879     ...      1008466.0  194283.0      13b     NaN  309 052  31106.0   \n",
       "390880     ...      1007172.0  194967.0      13b     NaN  309 050  31104.0   \n",
       "\n",
       "        EDesigNum Version  SHAPE_Leng  SHAPE_Area  \n",
       "390876        NaN  17V1.1       206.0      1697.0  \n",
       "390877        NaN     NaN         NaN         NaN  \n",
       "390878        NaN  17V1.1       244.0      2501.0  \n",
       "390879        NaN  17V1.1       244.0      2501.0  \n",
       "390880        NaN  17V1.1       231.0      2796.0  \n",
       "\n",
       "[5 rows x 82 columns]"
      ]
     },
     "execution_count": 4,
     "metadata": {},
     "output_type": "execute_result"
    }
   ],
   "source": [
    "#Further look at the dataset\n",
    "\n",
    "brooklyn.tail()"
   ]
  },
  {
   "cell_type": "code",
   "execution_count": 5,
   "metadata": {},
   "outputs": [],
   "source": [
    "#I am getting rid of the first column since it's just added space\n",
    "\n",
    "brooklyn = brooklyn.drop(brooklyn.columns[0], axis=1)"
   ]
  },
  {
   "cell_type": "code",
   "execution_count": 6,
   "metadata": {},
   "outputs": [
    {
     "data": {
      "text/plain": [
       "(390881, 81)"
      ]
     },
     "execution_count": 6,
     "metadata": {},
     "output_type": "execute_result"
    }
   ],
   "source": [
    "#How many rows and columns are in the dataset?\n",
    "\n",
    "brooklyn.shape"
   ]
  },
  {
   "cell_type": "code",
   "execution_count": 7,
   "metadata": {},
   "outputs": [
    {
     "data": {
      "text/plain": [
       "Index(['borough', 'neighborhood', 'building_class_category', 'tax_class',\n",
       "       'block', 'lot', 'building_class', 'address', 'zip_code',\n",
       "       'residential_units', 'commercial_units', 'total_units', 'land_sqft',\n",
       "       'gross_sqft', 'year_built', 'tax_class_at_sale',\n",
       "       'building_class_at_sale', 'sale_price', 'year_of_sale', 'CD', 'CT2010',\n",
       "       'CB2010', 'SchoolDist', 'Council', 'ZipCode', 'FireComp', 'PolicePrct',\n",
       "       'HealthCent', 'HealthArea', 'SanitBoro', 'SanitDistr', 'SanitSub',\n",
       "       'Address', 'ZoneDist1', 'SplitZone', 'BldgClass', 'LandUse',\n",
       "       'Easements', 'OwnerType', 'OwnerName', 'LotArea', 'BldgArea', 'ComArea',\n",
       "       'ResArea', 'AreaSource', 'NumBldgs', 'NumFloors', 'UnitsRes',\n",
       "       'UnitsTotal', 'LotFront', 'LotDepth', 'BldgFront', 'BldgDepth',\n",
       "       'ProxCode', 'IrrLotCode', 'LotType', 'BsmtCode', 'AssessLand',\n",
       "       'AssessTot', 'ExemptLand', 'ExemptTot', 'YearBuilt', 'YearAlter1',\n",
       "       'YearAlter2', 'BuiltFAR', 'ResidFAR', 'CommFAR', 'FacilFAR', 'BoroCode',\n",
       "       'BBL', 'Tract2010', 'XCoord', 'YCoord', 'ZoneMap', 'ZMCode', 'Sanborn',\n",
       "       'TaxMap', 'EDesigNum', 'Version', 'SHAPE_Leng', 'SHAPE_Area'],\n",
       "      dtype='object')"
      ]
     },
     "execution_count": 7,
     "metadata": {},
     "output_type": "execute_result"
    }
   ],
   "source": [
    "#What are the columns I am working with?\n",
    "\n",
    "brooklyn.columns"
   ]
  },
  {
   "cell_type": "code",
   "execution_count": 8,
   "metadata": {},
   "outputs": [
    {
     "data": {
      "text/plain": [
       "borough                      int64\n",
       "neighborhood                object\n",
       "building_class_category     object\n",
       "tax_class                   object\n",
       "block                        int64\n",
       "lot                          int64\n",
       "building_class              object\n",
       "address                     object\n",
       "zip_code                     int64\n",
       "residential_units            int64\n",
       "commercial_units             int64\n",
       "total_units                  int64\n",
       "land_sqft                  float64\n",
       "gross_sqft                 float64\n",
       "year_built                   int64\n",
       "tax_class_at_sale            int64\n",
       "building_class_at_sale      object\n",
       "sale_price                   int64\n",
       "year_of_sale                 int64\n",
       "CD                         float64\n",
       "CT2010                     float64\n",
       "CB2010                     float64\n",
       "SchoolDist                 float64\n",
       "Council                    float64\n",
       "ZipCode                    float64\n",
       "FireComp                    object\n",
       "PolicePrct                 float64\n",
       "HealthCent                 float64\n",
       "HealthArea                 float64\n",
       "SanitBoro                  float64\n",
       "                            ...   \n",
       "BldgFront                  float64\n",
       "BldgDepth                  float64\n",
       "ProxCode                   float64\n",
       "IrrLotCode                  object\n",
       "LotType                    float64\n",
       "BsmtCode                   float64\n",
       "AssessLand                 float64\n",
       "AssessTot                  float64\n",
       "ExemptLand                 float64\n",
       "ExemptTot                  float64\n",
       "YearBuilt                  float64\n",
       "YearAlter1                 float64\n",
       "YearAlter2                 float64\n",
       "BuiltFAR                   float64\n",
       "ResidFAR                   float64\n",
       "CommFAR                    float64\n",
       "FacilFAR                   float64\n",
       "BoroCode                   float64\n",
       "BBL                        float64\n",
       "Tract2010                  float64\n",
       "XCoord                     float64\n",
       "YCoord                     float64\n",
       "ZoneMap                     object\n",
       "ZMCode                      object\n",
       "Sanborn                     object\n",
       "TaxMap                     float64\n",
       "EDesigNum                   object\n",
       "Version                     object\n",
       "SHAPE_Leng                 float64\n",
       "SHAPE_Area                 float64\n",
       "Length: 81, dtype: object"
      ]
     },
     "execution_count": 8,
     "metadata": {},
     "output_type": "execute_result"
    }
   ],
   "source": [
    "#What are the data types of each column?\n",
    "\n",
    "brooklyn.dtypes"
   ]
  },
  {
   "cell_type": "code",
   "execution_count": 9,
   "metadata": {},
   "outputs": [
    {
     "data": {
      "text/plain": [
       "borough                         0\n",
       "neighborhood                    0\n",
       "building_class_category        83\n",
       "tax_class                    6932\n",
       "block                           0\n",
       "lot                             0\n",
       "building_class               6932\n",
       "address                         1\n",
       "zip_code                        0\n",
       "residential_units               0\n",
       "commercial_units                0\n",
       "total_units                     0\n",
       "land_sqft                       0\n",
       "gross_sqft                      0\n",
       "year_built                      0\n",
       "tax_class_at_sale               0\n",
       "building_class_at_sale          0\n",
       "sale_price                      0\n",
       "year_of_sale                    0\n",
       "CD                          87153\n",
       "CT2010                      87445\n",
       "CB2010                      88366\n",
       "SchoolDist                  87193\n",
       "Council                     87153\n",
       "ZipCode                     87153\n",
       "FireComp                    87401\n",
       "PolicePrct                  87153\n",
       "HealthCent                  87153\n",
       "HealthArea                  87153\n",
       "SanitBoro                   87643\n",
       "                            ...  \n",
       "BldgFront                   87153\n",
       "BldgDepth                   87153\n",
       "ProxCode                    87175\n",
       "IrrLotCode                  87175\n",
       "LotType                     87175\n",
       "BsmtCode                    87175\n",
       "AssessLand                  87153\n",
       "AssessTot                   87153\n",
       "ExemptLand                  87153\n",
       "ExemptTot                   87153\n",
       "YearBuilt                   87153\n",
       "YearAlter1                  87153\n",
       "YearAlter2                  87153\n",
       "BuiltFAR                    87153\n",
       "ResidFAR                    87153\n",
       "CommFAR                     87153\n",
       "FacilFAR                    87153\n",
       "BoroCode                    87153\n",
       "BBL                         87153\n",
       "Tract2010                   87153\n",
       "XCoord                      87153\n",
       "YCoord                      87153\n",
       "ZoneMap                     87153\n",
       "ZMCode                     384769\n",
       "Sanborn                     87171\n",
       "TaxMap                      87171\n",
       "EDesigNum                  387327\n",
       "Version                     87153\n",
       "SHAPE_Leng                  87153\n",
       "SHAPE_Area                  87153\n",
       "Length: 81, dtype: int64"
      ]
     },
     "execution_count": 9,
     "metadata": {},
     "output_type": "execute_result"
    }
   ],
   "source": [
    "#How many null values are in each column?\n",
    "\n",
    "#It looks like some columns have an enormous amount of null values, so a good amount of cleaning will need to be done.\n",
    "\n",
    "brooklyn.isna().sum()"
   ]
  },
  {
   "cell_type": "code",
   "execution_count": 10,
   "metadata": {},
   "outputs": [
    {
     "data": {
      "text/html": [
       "<div>\n",
       "<style scoped>\n",
       "    .dataframe tbody tr th:only-of-type {\n",
       "        vertical-align: middle;\n",
       "    }\n",
       "\n",
       "    .dataframe tbody tr th {\n",
       "        vertical-align: top;\n",
       "    }\n",
       "\n",
       "    .dataframe thead th {\n",
       "        text-align: right;\n",
       "    }\n",
       "</style>\n",
       "<table border=\"1\" class=\"dataframe\">\n",
       "  <thead>\n",
       "    <tr style=\"text-align: right;\">\n",
       "      <th></th>\n",
       "      <th>borough</th>\n",
       "      <th>block</th>\n",
       "      <th>lot</th>\n",
       "      <th>zip_code</th>\n",
       "      <th>residential_units</th>\n",
       "      <th>commercial_units</th>\n",
       "      <th>total_units</th>\n",
       "      <th>land_sqft</th>\n",
       "      <th>gross_sqft</th>\n",
       "      <th>year_built</th>\n",
       "      <th>...</th>\n",
       "      <th>CommFAR</th>\n",
       "      <th>FacilFAR</th>\n",
       "      <th>BoroCode</th>\n",
       "      <th>BBL</th>\n",
       "      <th>Tract2010</th>\n",
       "      <th>XCoord</th>\n",
       "      <th>YCoord</th>\n",
       "      <th>TaxMap</th>\n",
       "      <th>SHAPE_Leng</th>\n",
       "      <th>SHAPE_Area</th>\n",
       "    </tr>\n",
       "  </thead>\n",
       "  <tbody>\n",
       "    <tr>\n",
       "      <th>count</th>\n",
       "      <td>390881.0</td>\n",
       "      <td>390881.000000</td>\n",
       "      <td>390881.000000</td>\n",
       "      <td>390881.000000</td>\n",
       "      <td>390881.000000</td>\n",
       "      <td>390881.000000</td>\n",
       "      <td>390881.000000</td>\n",
       "      <td>3.908810e+05</td>\n",
       "      <td>3.908810e+05</td>\n",
       "      <td>390881.000000</td>\n",
       "      <td>...</td>\n",
       "      <td>303728.000000</td>\n",
       "      <td>303728.000000</td>\n",
       "      <td>303728.0</td>\n",
       "      <td>3.037280e+05</td>\n",
       "      <td>303728.000000</td>\n",
       "      <td>3.037280e+05</td>\n",
       "      <td>303728.000000</td>\n",
       "      <td>303710.000000</td>\n",
       "      <td>303728.000000</td>\n",
       "      <td>3.037280e+05</td>\n",
       "    </tr>\n",
       "    <tr>\n",
       "      <th>mean</th>\n",
       "      <td>3.0</td>\n",
       "      <td>4275.637813</td>\n",
       "      <td>272.505711</td>\n",
       "      <td>11208.429059</td>\n",
       "      <td>2.486151</td>\n",
       "      <td>0.174143</td>\n",
       "      <td>2.673241</td>\n",
       "      <td>2.368476e+03</td>\n",
       "      <td>2.970892e+03</td>\n",
       "      <td>1701.675014</td>\n",
       "      <td>...</td>\n",
       "      <td>0.153269</td>\n",
       "      <td>2.854452</td>\n",
       "      <td>3.0</td>\n",
       "      <td>3.045066e+09</td>\n",
       "      <td>4715.545455</td>\n",
       "      <td>9.921077e+05</td>\n",
       "      <td>175146.073694</td>\n",
       "      <td>31396.728152</td>\n",
       "      <td>337.445772</td>\n",
       "      <td>8.645885e+03</td>\n",
       "    </tr>\n",
       "    <tr>\n",
       "      <th>std</th>\n",
       "      <td>0.0</td>\n",
       "      <td>2642.765497</td>\n",
       "      <td>484.656393</td>\n",
       "      <td>361.208759</td>\n",
       "      <td>48.200301</td>\n",
       "      <td>1.653366</td>\n",
       "      <td>48.233466</td>\n",
       "      <td>2.509135e+04</td>\n",
       "      <td>1.453964e+04</td>\n",
       "      <td>636.754357</td>\n",
       "      <td>...</td>\n",
       "      <td>0.811046</td>\n",
       "      <td>1.428790</td>\n",
       "      <td>0.0</td>\n",
       "      <td>2.571172e+07</td>\n",
       "      <td>17545.128104</td>\n",
       "      <td>7.391759e+04</td>\n",
       "      <td>18390.569903</td>\n",
       "      <td>754.905314</td>\n",
       "      <td>329.587454</td>\n",
       "      <td>3.116106e+04</td>\n",
       "    </tr>\n",
       "    <tr>\n",
       "      <th>min</th>\n",
       "      <td>3.0</td>\n",
       "      <td>1.000000</td>\n",
       "      <td>1.000000</td>\n",
       "      <td>0.000000</td>\n",
       "      <td>0.000000</td>\n",
       "      <td>0.000000</td>\n",
       "      <td>0.000000</td>\n",
       "      <td>0.000000e+00</td>\n",
       "      <td>0.000000e+00</td>\n",
       "      <td>0.000000</td>\n",
       "      <td>...</td>\n",
       "      <td>0.000000</td>\n",
       "      <td>0.000000</td>\n",
       "      <td>3.0</td>\n",
       "      <td>3.000010e+09</td>\n",
       "      <td>0.000000</td>\n",
       "      <td>0.000000e+00</td>\n",
       "      <td>0.000000</td>\n",
       "      <td>3.000000</td>\n",
       "      <td>2.143758</td>\n",
       "      <td>1.007072e-01</td>\n",
       "    </tr>\n",
       "    <tr>\n",
       "      <th>25%</th>\n",
       "      <td>3.0</td>\n",
       "      <td>1786.000000</td>\n",
       "      <td>21.000000</td>\n",
       "      <td>11209.000000</td>\n",
       "      <td>1.000000</td>\n",
       "      <td>0.000000</td>\n",
       "      <td>1.000000</td>\n",
       "      <td>0.000000e+00</td>\n",
       "      <td>0.000000e+00</td>\n",
       "      <td>1905.000000</td>\n",
       "      <td>...</td>\n",
       "      <td>0.000000</td>\n",
       "      <td>2.000000</td>\n",
       "      <td>3.0</td>\n",
       "      <td>3.018440e+09</td>\n",
       "      <td>246.000000</td>\n",
       "      <td>9.892368e+05</td>\n",
       "      <td>165334.750000</td>\n",
       "      <td>30611.000000</td>\n",
       "      <td>238.998783</td>\n",
       "      <td>1.938904e+03</td>\n",
       "    </tr>\n",
       "    <tr>\n",
       "      <th>50%</th>\n",
       "      <td>3.0</td>\n",
       "      <td>4305.000000</td>\n",
       "      <td>45.000000</td>\n",
       "      <td>11219.000000</td>\n",
       "      <td>1.000000</td>\n",
       "      <td>0.000000</td>\n",
       "      <td>1.000000</td>\n",
       "      <td>1.900000e+03</td>\n",
       "      <td>1.820000e+03</td>\n",
       "      <td>1925.000000</td>\n",
       "      <td>...</td>\n",
       "      <td>0.000000</td>\n",
       "      <td>2.000000</td>\n",
       "      <td>3.0</td>\n",
       "      <td>3.047920e+09</td>\n",
       "      <td>440.000000</td>\n",
       "      <td>9.975955e+05</td>\n",
       "      <td>175906.000000</td>\n",
       "      <td>31506.000000</td>\n",
       "      <td>249.411350</td>\n",
       "      <td>2.316886e+03</td>\n",
       "    </tr>\n",
       "    <tr>\n",
       "      <th>75%</th>\n",
       "      <td>3.0</td>\n",
       "      <td>6584.000000</td>\n",
       "      <td>94.000000</td>\n",
       "      <td>11230.000000</td>\n",
       "      <td>2.000000</td>\n",
       "      <td>0.000000</td>\n",
       "      <td>2.000000</td>\n",
       "      <td>2.500000e+03</td>\n",
       "      <td>3.000000e+03</td>\n",
       "      <td>1954.000000</td>\n",
       "      <td>...</td>\n",
       "      <td>0.000000</td>\n",
       "      <td>4.800000</td>\n",
       "      <td>3.0</td>\n",
       "      <td>3.066810e+09</td>\n",
       "      <td>810.000000</td>\n",
       "      <td>1.005059e+06</td>\n",
       "      <td>187140.000000</td>\n",
       "      <td>32005.000000</td>\n",
       "      <td>283.169119</td>\n",
       "      <td>3.478477e+03</td>\n",
       "    </tr>\n",
       "    <tr>\n",
       "      <th>max</th>\n",
       "      <td>3.0</td>\n",
       "      <td>8955.000000</td>\n",
       "      <td>9133.000000</td>\n",
       "      <td>33803.000000</td>\n",
       "      <td>20811.000000</td>\n",
       "      <td>355.000000</td>\n",
       "      <td>20811.000000</td>\n",
       "      <td>7.446955e+06</td>\n",
       "      <td>2.548000e+06</td>\n",
       "      <td>2017.000000</td>\n",
       "      <td>...</td>\n",
       "      <td>12.000000</td>\n",
       "      <td>12.000000</td>\n",
       "      <td>3.0</td>\n",
       "      <td>3.089550e+09</td>\n",
       "      <td>118202.000000</td>\n",
       "      <td>1.024202e+06</td>\n",
       "      <td>208406.000000</td>\n",
       "      <td>32605.000000</td>\n",
       "      <td>19862.000000</td>\n",
       "      <td>7.149338e+06</td>\n",
       "    </tr>\n",
       "  </tbody>\n",
       "</table>\n",
       "<p>8 rows × 61 columns</p>\n",
       "</div>"
      ],
      "text/plain": [
       "        borough          block            lot       zip_code  \\\n",
       "count  390881.0  390881.000000  390881.000000  390881.000000   \n",
       "mean        3.0    4275.637813     272.505711   11208.429059   \n",
       "std         0.0    2642.765497     484.656393     361.208759   \n",
       "min         3.0       1.000000       1.000000       0.000000   \n",
       "25%         3.0    1786.000000      21.000000   11209.000000   \n",
       "50%         3.0    4305.000000      45.000000   11219.000000   \n",
       "75%         3.0    6584.000000      94.000000   11230.000000   \n",
       "max         3.0    8955.000000    9133.000000   33803.000000   \n",
       "\n",
       "       residential_units  commercial_units    total_units     land_sqft  \\\n",
       "count      390881.000000     390881.000000  390881.000000  3.908810e+05   \n",
       "mean            2.486151          0.174143       2.673241  2.368476e+03   \n",
       "std            48.200301          1.653366      48.233466  2.509135e+04   \n",
       "min             0.000000          0.000000       0.000000  0.000000e+00   \n",
       "25%             1.000000          0.000000       1.000000  0.000000e+00   \n",
       "50%             1.000000          0.000000       1.000000  1.900000e+03   \n",
       "75%             2.000000          0.000000       2.000000  2.500000e+03   \n",
       "max         20811.000000        355.000000   20811.000000  7.446955e+06   \n",
       "\n",
       "         gross_sqft     year_built      ...             CommFAR  \\\n",
       "count  3.908810e+05  390881.000000      ...       303728.000000   \n",
       "mean   2.970892e+03    1701.675014      ...            0.153269   \n",
       "std    1.453964e+04     636.754357      ...            0.811046   \n",
       "min    0.000000e+00       0.000000      ...            0.000000   \n",
       "25%    0.000000e+00    1905.000000      ...            0.000000   \n",
       "50%    1.820000e+03    1925.000000      ...            0.000000   \n",
       "75%    3.000000e+03    1954.000000      ...            0.000000   \n",
       "max    2.548000e+06    2017.000000      ...           12.000000   \n",
       "\n",
       "            FacilFAR  BoroCode           BBL      Tract2010        XCoord  \\\n",
       "count  303728.000000  303728.0  3.037280e+05  303728.000000  3.037280e+05   \n",
       "mean        2.854452       3.0  3.045066e+09    4715.545455  9.921077e+05   \n",
       "std         1.428790       0.0  2.571172e+07   17545.128104  7.391759e+04   \n",
       "min         0.000000       3.0  3.000010e+09       0.000000  0.000000e+00   \n",
       "25%         2.000000       3.0  3.018440e+09     246.000000  9.892368e+05   \n",
       "50%         2.000000       3.0  3.047920e+09     440.000000  9.975955e+05   \n",
       "75%         4.800000       3.0  3.066810e+09     810.000000  1.005059e+06   \n",
       "max        12.000000       3.0  3.089550e+09  118202.000000  1.024202e+06   \n",
       "\n",
       "              YCoord         TaxMap     SHAPE_Leng    SHAPE_Area  \n",
       "count  303728.000000  303710.000000  303728.000000  3.037280e+05  \n",
       "mean   175146.073694   31396.728152     337.445772  8.645885e+03  \n",
       "std     18390.569903     754.905314     329.587454  3.116106e+04  \n",
       "min         0.000000       3.000000       2.143758  1.007072e-01  \n",
       "25%    165334.750000   30611.000000     238.998783  1.938904e+03  \n",
       "50%    175906.000000   31506.000000     249.411350  2.316886e+03  \n",
       "75%    187140.000000   32005.000000     283.169119  3.478477e+03  \n",
       "max    208406.000000   32605.000000   19862.000000  7.149338e+06  \n",
       "\n",
       "[8 rows x 61 columns]"
      ]
     },
     "execution_count": 10,
     "metadata": {},
     "output_type": "execute_result"
    }
   ],
   "source": [
    "#Here I am looking at basic summary statistics for the numeric columns\n",
    "\n",
    "brooklyn.describe()"
   ]
  },
  {
   "cell_type": "code",
   "execution_count": 11,
   "metadata": {},
   "outputs": [
    {
     "data": {
      "text/html": [
       "<div>\n",
       "<style scoped>\n",
       "    .dataframe tbody tr th:only-of-type {\n",
       "        vertical-align: middle;\n",
       "    }\n",
       "\n",
       "    .dataframe tbody tr th {\n",
       "        vertical-align: top;\n",
       "    }\n",
       "\n",
       "    .dataframe thead th {\n",
       "        text-align: right;\n",
       "    }\n",
       "</style>\n",
       "<table border=\"1\" class=\"dataframe\">\n",
       "  <thead>\n",
       "    <tr style=\"text-align: right;\">\n",
       "      <th></th>\n",
       "      <th>neighborhood</th>\n",
       "      <th>building_class_category</th>\n",
       "      <th>tax_class</th>\n",
       "      <th>building_class</th>\n",
       "      <th>address</th>\n",
       "      <th>building_class_at_sale</th>\n",
       "      <th>FireComp</th>\n",
       "      <th>SanitSub</th>\n",
       "      <th>Address</th>\n",
       "      <th>ZoneDist1</th>\n",
       "      <th>SplitZone</th>\n",
       "      <th>BldgClass</th>\n",
       "      <th>OwnerType</th>\n",
       "      <th>OwnerName</th>\n",
       "      <th>IrrLotCode</th>\n",
       "      <th>ZoneMap</th>\n",
       "      <th>ZMCode</th>\n",
       "      <th>Sanborn</th>\n",
       "      <th>EDesigNum</th>\n",
       "      <th>Version</th>\n",
       "    </tr>\n",
       "  </thead>\n",
       "  <tbody>\n",
       "    <tr>\n",
       "      <th>count</th>\n",
       "      <td>390881</td>\n",
       "      <td>390798</td>\n",
       "      <td>383949</td>\n",
       "      <td>383949</td>\n",
       "      <td>390880</td>\n",
       "      <td>390881</td>\n",
       "      <td>303480</td>\n",
       "      <td>302952</td>\n",
       "      <td>303705</td>\n",
       "      <td>303714</td>\n",
       "      <td>303706</td>\n",
       "      <td>303706</td>\n",
       "      <td>53494</td>\n",
       "      <td>303624</td>\n",
       "      <td>303706</td>\n",
       "      <td>303728</td>\n",
       "      <td>6112</td>\n",
       "      <td>303710</td>\n",
       "      <td>3554</td>\n",
       "      <td>303728</td>\n",
       "    </tr>\n",
       "    <tr>\n",
       "      <th>unique</th>\n",
       "      <td>63</td>\n",
       "      <td>88</td>\n",
       "      <td>10</td>\n",
       "      <td>183</td>\n",
       "      <td>226076</td>\n",
       "      <td>187</td>\n",
       "      <td>102</td>\n",
       "      <td>33</td>\n",
       "      <td>151112</td>\n",
       "      <td>78</td>\n",
       "      <td>2</td>\n",
       "      <td>163</td>\n",
       "      <td>5</td>\n",
       "      <td>138727</td>\n",
       "      <td>2</td>\n",
       "      <td>32</td>\n",
       "      <td>1</td>\n",
       "      <td>1542</td>\n",
       "      <td>115</td>\n",
       "      <td>1</td>\n",
       "    </tr>\n",
       "    <tr>\n",
       "      <th>top</th>\n",
       "      <td>BEDFORD STUYVESANT</td>\n",
       "      <td>02 TWO FAMILY HOMES</td>\n",
       "      <td>1</td>\n",
       "      <td>C0</td>\n",
       "      <td>2 NORTHSIDE PIERS</td>\n",
       "      <td>C0</td>\n",
       "      <td>L170</td>\n",
       "      <td>2B</td>\n",
       "      <td>175 ADAMS STREET</td>\n",
       "      <td>R6</td>\n",
       "      <td>N</td>\n",
       "      <td>C0</td>\n",
       "      <td>P</td>\n",
       "      <td>CLINTON HILL APARTMEN</td>\n",
       "      <td>N</td>\n",
       "      <td>17a</td>\n",
       "      <td>Y</td>\n",
       "      <td>306 049</td>\n",
       "      <td>E-138</td>\n",
       "      <td>17V1.1</td>\n",
       "    </tr>\n",
       "    <tr>\n",
       "      <th>freq</th>\n",
       "      <td>27279</td>\n",
       "      <td>106127</td>\n",
       "      <td>198969</td>\n",
       "      <td>39996</td>\n",
       "      <td>650</td>\n",
       "      <td>38691</td>\n",
       "      <td>10093</td>\n",
       "      <td>17504</td>\n",
       "      <td>692</td>\n",
       "      <td>62851</td>\n",
       "      <td>288557</td>\n",
       "      <td>39508</td>\n",
       "      <td>52318</td>\n",
       "      <td>758</td>\n",
       "      <td>252341</td>\n",
       "      <td>32613</td>\n",
       "      <td>6112</td>\n",
       "      <td>1047</td>\n",
       "      <td>688</td>\n",
       "      <td>303728</td>\n",
       "    </tr>\n",
       "  </tbody>\n",
       "</table>\n",
       "</div>"
      ],
      "text/plain": [
       "              neighborhood building_class_category tax_class building_class  \\\n",
       "count               390881                  390798    383949         383949   \n",
       "unique                  63                      88        10            183   \n",
       "top     BEDFORD STUYVESANT     02 TWO FAMILY HOMES         1             C0   \n",
       "freq                 27279                  106127    198969          39996   \n",
       "\n",
       "                  address building_class_at_sale FireComp SanitSub  \\\n",
       "count              390880                 390881   303480   302952   \n",
       "unique             226076                    187      102       33   \n",
       "top     2 NORTHSIDE PIERS                     C0     L170       2B   \n",
       "freq                  650                  38691    10093    17504   \n",
       "\n",
       "                 Address ZoneDist1 SplitZone BldgClass OwnerType  \\\n",
       "count             303705    303714    303706    303706     53494   \n",
       "unique            151112        78         2       163         5   \n",
       "top     175 ADAMS STREET        R6         N        C0         P   \n",
       "freq                 692     62851    288557     39508     52318   \n",
       "\n",
       "                    OwnerName IrrLotCode ZoneMap ZMCode  Sanborn EDesigNum  \\\n",
       "count                  303624     303706  303728   6112   303710      3554   \n",
       "unique                 138727          2      32      1     1542       115   \n",
       "top     CLINTON HILL APARTMEN          N     17a      Y  306 049     E-138   \n",
       "freq                      758     252341   32613   6112     1047       688   \n",
       "\n",
       "       Version  \n",
       "count   303728  \n",
       "unique       1  \n",
       "top     17V1.1  \n",
       "freq    303728  "
      ]
     },
     "execution_count": 11,
     "metadata": {},
     "output_type": "execute_result"
    }
   ],
   "source": [
    "#Here I am looking at basic summary statistics for the non-numeric columns\n",
    "\n",
    "brooklyn.describe(include='object')"
   ]
  },
  {
   "cell_type": "markdown",
   "metadata": {},
   "source": [
    "# First-Pass Model"
   ]
  },
  {
   "cell_type": "code",
   "execution_count": 12,
   "metadata": {},
   "outputs": [],
   "source": [
    "#I am only using numeric data for the first-pass model as a matter of simplicity\n",
    "\n",
    "#I do believe there are categorical variables that will be useful as explanatory variables in an improved model\n",
    "\n",
    "brooklyn_numeric = brooklyn.select_dtypes(['int64', 'float64']).dropna()"
   ]
  },
  {
   "cell_type": "code",
   "execution_count": 13,
   "metadata": {},
   "outputs": [
    {
     "data": {
      "text/plain": [
       "(301603, 61)"
      ]
     },
     "execution_count": 13,
     "metadata": {},
     "output_type": "execute_result"
    }
   ],
   "source": [
    "#How many rows and columns in the numeric dataset?\n",
    "\n",
    "brooklyn_numeric.shape"
   ]
  },
  {
   "cell_type": "code",
   "execution_count": 14,
   "metadata": {},
   "outputs": [
    {
     "data": {
      "text/plain": [
       "borough              0\n",
       "block                0\n",
       "lot                  0\n",
       "zip_code             0\n",
       "residential_units    0\n",
       "commercial_units     0\n",
       "total_units          0\n",
       "land_sqft            0\n",
       "gross_sqft           0\n",
       "year_built           0\n",
       "tax_class_at_sale    0\n",
       "sale_price           0\n",
       "year_of_sale         0\n",
       "CD                   0\n",
       "CT2010               0\n",
       "CB2010               0\n",
       "SchoolDist           0\n",
       "Council              0\n",
       "ZipCode              0\n",
       "PolicePrct           0\n",
       "HealthCent           0\n",
       "HealthArea           0\n",
       "SanitBoro            0\n",
       "SanitDistr           0\n",
       "LandUse              0\n",
       "Easements            0\n",
       "LotArea              0\n",
       "BldgArea             0\n",
       "ComArea              0\n",
       "ResArea              0\n",
       "                    ..\n",
       "NumBldgs             0\n",
       "NumFloors            0\n",
       "UnitsRes             0\n",
       "UnitsTotal           0\n",
       "LotFront             0\n",
       "LotDepth             0\n",
       "BldgFront            0\n",
       "BldgDepth            0\n",
       "ProxCode             0\n",
       "LotType              0\n",
       "BsmtCode             0\n",
       "AssessLand           0\n",
       "AssessTot            0\n",
       "ExemptLand           0\n",
       "ExemptTot            0\n",
       "YearBuilt            0\n",
       "YearAlter1           0\n",
       "YearAlter2           0\n",
       "BuiltFAR             0\n",
       "ResidFAR             0\n",
       "CommFAR              0\n",
       "FacilFAR             0\n",
       "BoroCode             0\n",
       "BBL                  0\n",
       "Tract2010            0\n",
       "XCoord               0\n",
       "YCoord               0\n",
       "TaxMap               0\n",
       "SHAPE_Leng           0\n",
       "SHAPE_Area           0\n",
       "Length: 61, dtype: int64"
      ]
     },
     "execution_count": 14,
     "metadata": {},
     "output_type": "execute_result"
    }
   ],
   "source": [
    "#Here I am double checking that the dropna method worked\n",
    "\n",
    "brooklyn_numeric.isna().sum()"
   ]
  },
  {
   "cell_type": "code",
   "execution_count": 15,
   "metadata": {},
   "outputs": [],
   "source": [
    "#Separating the variables between X and y\n",
    "\n",
    "X = brooklyn_numeric.drop('sale_price', axis='columns')\n",
    "y = brooklyn_numeric.loc[:, 'sale_price']"
   ]
  },
  {
   "cell_type": "code",
   "execution_count": 16,
   "metadata": {},
   "outputs": [],
   "source": [
    "#Setting up a training set and a test set\n",
    "#test_size = .3 means 30% of the data is set aside for the test set. 70% of the data is used for the training set\n",
    "#You could also use train_size if you wish\n",
    "\n",
    "from sklearn.model_selection import train_test_split\n",
    "\n",
    "X_train, X_test, y_train, y_test = train_test_split(X, y, test_size = .3, random_state=30)"
   ]
  },
  {
   "cell_type": "code",
   "execution_count": 17,
   "metadata": {},
   "outputs": [
    {
     "data": {
      "text/plain": [
       "LinearRegression(copy_X=True, fit_intercept=True, n_jobs=None,\n",
       "         normalize=False)"
      ]
     },
     "execution_count": 17,
     "metadata": {},
     "output_type": "execute_result"
    }
   ],
   "source": [
    "#Setting up a linear regression model using the training set\n",
    "\n",
    "from sklearn.linear_model import LinearRegression\n",
    "\n",
    "lr = LinearRegression()\n",
    "\n",
    "lr.fit(X_train, y_train)"
   ]
  },
  {
   "cell_type": "code",
   "execution_count": 18,
   "metadata": {},
   "outputs": [
    {
     "name": "stdout",
     "output_type": "stream",
     "text": [
      "0.16422196008958026\n",
      "0.09809520558622087\n"
     ]
    }
   ],
   "source": [
    "#Scoring the model on the training set and test set.\n",
    "#These are the R-squared values for the training set and test set. \n",
    "\n",
    "print(lr.score(X_train, y_train))\n",
    "print(lr.score(X_test, y_test))"
   ]
  },
  {
   "cell_type": "markdown",
   "metadata": {},
   "source": [
    "### First Impressions"
   ]
  },
  {
   "cell_type": "markdown",
   "metadata": {},
   "source": [
    "The model does indeed perform better than the null model, however the training model only captured 16% of the variance and the test model captured even less variance at 9%. So, even though my model performed better than the null model, its performance was so poor that it's not worth touting. I believe my model is suffering from both high bias and high variance. It has high bias because it performed so poorly on both the training set and test set. It has high variance because it performed better on the training set than the test set."
   ]
  },
  {
   "cell_type": "markdown",
   "metadata": {},
   "source": [
    "# Exploring the Data"
   ]
  },
  {
   "cell_type": "code",
   "execution_count": 19,
   "metadata": {},
   "outputs": [
    {
     "data": {
      "text/plain": [
       "sale_price           1.000000\n",
       "gross_sqft           0.265927\n",
       "ComArea              0.238462\n",
       "CommFAR              0.103668\n",
       "commercial_units     0.098285\n",
       "AssessTot            0.085522\n",
       "BuiltFAR             0.082825\n",
       "land_sqft            0.076056\n",
       "tax_class_at_sale    0.074092\n",
       "LandUse              0.071450\n",
       "AssessLand           0.067559\n",
       "year_of_sale         0.065381\n",
       "SHAPE_Leng           0.061679\n",
       "PolicePrct           0.060755\n",
       "ExemptTot            0.060377\n",
       "YearAlter1           0.056953\n",
       "LotDepth             0.056245\n",
       "LotArea              0.056153\n",
       "ResidFAR             0.056104\n",
       "LotFront             0.055374\n",
       "BldgFront            0.053926\n",
       "BldgDepth            0.053660\n",
       "SHAPE_Area           0.051121\n",
       "NumFloors            0.050376\n",
       "FacilFAR             0.048789\n",
       "BldgArea             0.047476\n",
       "YearAlter2           0.040287\n",
       "YCoord               0.039657\n",
       "total_units          0.035328\n",
       "residential_units    0.032021\n",
       "                       ...   \n",
       "HealthCent           0.018484\n",
       "AreaSource           0.014594\n",
       "Easements            0.014507\n",
       "ExemptLand           0.013131\n",
       "UnitsTotal           0.012043\n",
       "UnitsRes             0.008932\n",
       "SanitBoro            0.007960\n",
       "ResArea              0.006780\n",
       "ZipCode              0.006074\n",
       "CB2010               0.003359\n",
       "year_built           0.003208\n",
       "NumBldgs             0.001720\n",
       "XCoord              -0.000720\n",
       "zip_code            -0.005021\n",
       "Tract2010           -0.005776\n",
       "lot                 -0.010967\n",
       "YearBuilt           -0.012571\n",
       "ProxCode            -0.038594\n",
       "CT2010              -0.052248\n",
       "SchoolDist          -0.053948\n",
       "CD                  -0.055015\n",
       "SanitDistr          -0.055017\n",
       "TaxMap              -0.060157\n",
       "Council             -0.060773\n",
       "LotType             -0.061054\n",
       "BBL                 -0.061516\n",
       "HealthArea          -0.061755\n",
       "block               -0.062976\n",
       "borough                   NaN\n",
       "BoroCode                  NaN\n",
       "Name: sale_price, Length: 61, dtype: float64"
      ]
     },
     "execution_count": 19,
     "metadata": {},
     "output_type": "execute_result"
    }
   ],
   "source": [
    "#Here I am taking a quick look to see what variables are closely correlated with sale_price\n",
    "\n",
    "#There does not seem to be any variable that is either strongly positively or negatively correlated with sale_price\n",
    "\n",
    "#The Gross Square Footage is calculated from the outside of the exterior walls and is inclusive of all space within minus \n",
    "#areas that are open to below. Gross Square Feet is the total area of enclosed space measured to the exterior walls of a \n",
    "#building. This is an umbrella term that includes everything in a facility, even unusable spaces (think areas in between walls).\n",
    "#It’s the total space a facility takes up regardless of whether or not the space is used. GSF is an important metric for \n",
    "#planning and budgeting in construction as well as benchmarking for operations and maintenance.\n",
    "\n",
    "\n",
    "#ComArea is an estimate of the exterior dimensions of the portion of the structure(s) allocated for commercial use.\n",
    "#Originally square footage in CAMA came from sketches, but, for both new construction and alterations, it now comes from \n",
    "#site visits. Basement square footage may be included in COMMERCIAL FLOOR: Finished, Active, Publicly accessible.\n",
    "#For condominiums, COMMERCIAL FLOOR AREA is the sum of the commercial floor area for condominium lots with the same billing lot.\n",
    "#COMMERCIAL FLOOR AREA does not contain the condominium’s common area. A COMMERCIAL FLOOR AREA of zero can mean it is either \n",
    "#not available or not applicable.\n",
    "\n",
    "\n",
    "brooklyn.corr().loc[:, 'sale_price'].sort_values(ascending=False)"
   ]
  },
  {
   "cell_type": "code",
   "execution_count": 20,
   "metadata": {},
   "outputs": [],
   "source": [
    "#One thing I noticed was there were repetitive columns like \"zip_code\" and \"ZipCode\"\n",
    "\n",
    "#There were also columns that were basically all null like \"ZMCode\"\n",
    "\n",
    "#So, the first thing I wanted to do was simply clean the dataset of duplicate and overly null columns\n",
    "\n",
    "\n",
    "brooklyn = brooklyn.drop(['borough','address','building_class','ZipCode','Address','BldgClass','YearAlter1','YearAlter2',\n",
    "                          'BoroCode','ZMCode','EDesigNum','tax_class','OwnerType','OwnerName','YearBuilt','SanitBoro','SanitSub',\n",
    "                          'Version', 'total_units'], axis = 'columns')"
   ]
  },
  {
   "cell_type": "code",
   "execution_count": 21,
   "metadata": {},
   "outputs": [
    {
     "data": {
      "text/plain": [
       "(390881, 62)"
      ]
     },
     "execution_count": 21,
     "metadata": {},
     "output_type": "execute_result"
    }
   ],
   "source": [
    "#How many rows and columns after this cleaning?\n",
    "\n",
    "brooklyn.shape"
   ]
  },
  {
   "cell_type": "code",
   "execution_count": 22,
   "metadata": {},
   "outputs": [],
   "source": [
    "#Here I am dropping all ROWS with null values, once again this is out of simplicity.\n",
    "\n",
    "brooklyn = brooklyn.dropna()"
   ]
  },
  {
   "cell_type": "code",
   "execution_count": 23,
   "metadata": {},
   "outputs": [
    {
     "data": {
      "text/plain": [
       "(301590, 62)"
      ]
     },
     "execution_count": 23,
     "metadata": {},
     "output_type": "execute_result"
    }
   ],
   "source": [
    "#We still have over 300,000 rows of data to work with after dropping null values from the rows.\n",
    "\n",
    "brooklyn.shape"
   ]
  },
  {
   "cell_type": "code",
   "execution_count": 24,
   "metadata": {},
   "outputs": [
    {
     "data": {
      "text/plain": [
       "0           109167\n",
       "10            3093\n",
       "450000        2062\n",
       "600000        1929\n",
       "400000        1919\n",
       "550000        1838\n",
       "650000        1768\n",
       "350000        1696\n",
       "300000        1672\n",
       "700000        1540\n",
       "500000        1535\n",
       "750000        1479\n",
       "250000        1405\n",
       "200000        1342\n",
       "800000        1310\n",
       "425000        1153\n",
       "900000        1096\n",
       "850000        1042\n",
       "475000        1039\n",
       "375000        1031\n",
       "150000        1010\n",
       "575000         979\n",
       "325000         952\n",
       "1200000        948\n",
       "525000         944\n",
       "625000         885\n",
       "360000         850\n",
       "420000         841\n",
       "950000         839\n",
       "460000         829\n",
       "             ...  \n",
       "45839605         1\n",
       "453958           1\n",
       "6180178          1\n",
       "196036           1\n",
       "770276           1\n",
       "6439124          1\n",
       "6301849          1\n",
       "1859600          1\n",
       "301071           1\n",
       "3467265          1\n",
       "221168           1\n",
       "155600           1\n",
       "16900000         1\n",
       "3719052          1\n",
       "950100           1\n",
       "450368           1\n",
       "331578           1\n",
       "857913           1\n",
       "323334           1\n",
       "143070           1\n",
       "708290           1\n",
       "532120           1\n",
       "17850000         1\n",
       "42000000         1\n",
       "439885           1\n",
       "974400           1\n",
       "349745           1\n",
       "798238           1\n",
       "325125           1\n",
       "399549           1\n",
       "Name: sale_price, Length: 18153, dtype: int64"
      ]
     },
     "execution_count": 24,
     "metadata": {},
     "output_type": "execute_result"
    }
   ],
   "source": [
    "#Here I digging even deeper into the data, specifically the target variable of sale_price\n",
    "\n",
    "brooklyn.loc[:,\"sale_price\"].value_counts()"
   ]
  },
  {
   "cell_type": "code",
   "execution_count": 25,
   "metadata": {},
   "outputs": [],
   "source": [
    "#I am going to drop every row in which the documented sale price is 0.\n",
    "\n",
    "#A sale price of 0 either means data was not collected correctly, or that there was some kind of non-monetary transaction.\n",
    "\n",
    "#By discarding all values of 0 I believe I can make my dataset more logical.\n",
    "\n",
    "brooklyn = brooklyn[brooklyn.sale_price != 0]"
   ]
  },
  {
   "cell_type": "code",
   "execution_count": 26,
   "metadata": {},
   "outputs": [
    {
     "data": {
      "text/plain": [
       "10           3093\n",
       "450000       2062\n",
       "600000       1929\n",
       "400000       1919\n",
       "550000       1838\n",
       "650000       1768\n",
       "350000       1696\n",
       "300000       1672\n",
       "700000       1540\n",
       "500000       1535\n",
       "750000       1479\n",
       "250000       1405\n",
       "200000       1342\n",
       "800000       1310\n",
       "425000       1153\n",
       "900000       1096\n",
       "850000       1042\n",
       "475000       1039\n",
       "375000       1031\n",
       "150000       1010\n",
       "575000        979\n",
       "325000        952\n",
       "1200000       948\n",
       "525000        944\n",
       "625000        885\n",
       "360000        850\n",
       "420000        841\n",
       "950000        839\n",
       "460000        829\n",
       "430000        826\n",
       "             ... \n",
       "313451          1\n",
       "841561          1\n",
       "532800          1\n",
       "565584          1\n",
       "372804          1\n",
       "248297          1\n",
       "207521          1\n",
       "1215125         1\n",
       "164500          1\n",
       "438930          1\n",
       "6202000         1\n",
       "3822222         1\n",
       "320088          1\n",
       "479790          1\n",
       "463398          1\n",
       "6496800         1\n",
       "22989341        1\n",
       "191001          1\n",
       "123384          1\n",
       "375283          1\n",
       "90600           1\n",
       "17900000        1\n",
       "454700          1\n",
       "281037          1\n",
       "98370           1\n",
       "101000000       1\n",
       "176530          1\n",
       "635250          1\n",
       "84333           1\n",
       "24150000        1\n",
       "Name: sale_price, Length: 18152, dtype: int64"
      ]
     },
     "execution_count": 26,
     "metadata": {},
     "output_type": "execute_result"
    }
   ],
   "source": [
    "#Here I am checking again for anymore odd values and sure enough '10' shows up a lot\n",
    "\n",
    "\n",
    "brooklyn.loc[:,\"sale_price\"].value_counts()"
   ]
  },
  {
   "cell_type": "code",
   "execution_count": 27,
   "metadata": {},
   "outputs": [],
   "source": [
    "#I don't believe you are going to be able to buy property for $10 so I am getting rid of all rows where sale_price = 10.\n",
    "\n",
    "brooklyn = brooklyn[brooklyn.sale_price != 10]"
   ]
  },
  {
   "cell_type": "code",
   "execution_count": 28,
   "metadata": {},
   "outputs": [
    {
     "data": {
      "text/plain": [
       "450000      2062\n",
       "600000      1929\n",
       "400000      1919\n",
       "550000      1838\n",
       "650000      1768\n",
       "350000      1696\n",
       "300000      1672\n",
       "700000      1540\n",
       "500000      1535\n",
       "750000      1479\n",
       "250000      1405\n",
       "200000      1342\n",
       "800000      1310\n",
       "425000      1153\n",
       "900000      1096\n",
       "850000      1042\n",
       "475000      1039\n",
       "375000      1031\n",
       "150000      1010\n",
       "575000       979\n",
       "325000       952\n",
       "1200000      948\n",
       "525000       944\n",
       "625000       885\n",
       "360000       850\n",
       "420000       841\n",
       "950000       839\n",
       "460000       829\n",
       "430000       826\n",
       "560000       807\n",
       "            ... \n",
       "212521         1\n",
       "1702000        1\n",
       "2250500        1\n",
       "5585000        1\n",
       "225313         1\n",
       "694300         1\n",
       "192529         1\n",
       "681986         1\n",
       "237501         1\n",
       "87908          1\n",
       "360289         1\n",
       "278345         1\n",
       "22340          1\n",
       "237373         1\n",
       "19060500       1\n",
       "79592          1\n",
       "781875         1\n",
       "61139          1\n",
       "7885           1\n",
       "2903751        1\n",
       "264052         1\n",
       "38500000       1\n",
       "401037         1\n",
       "1472128        1\n",
       "8763000        1\n",
       "116342         1\n",
       "583250         1\n",
       "325200         1\n",
       "1021500        1\n",
       "544310         1\n",
       "Name: sale_price, Length: 18151, dtype: int64"
      ]
     },
     "execution_count": 28,
     "metadata": {},
     "output_type": "execute_result"
    }
   ],
   "source": [
    "#Once last double check\n",
    "\n",
    "brooklyn.loc[:,\"sale_price\"].value_counts()"
   ]
  },
  {
   "cell_type": "code",
   "execution_count": 29,
   "metadata": {},
   "outputs": [
    {
     "data": {
      "image/png": "[encoded data removed]",
      "text/plain": [
       "<Figure size 432x288 with 1 Axes>"
      ]
     },
     "metadata": {
      "needs_background": "light"
     },
     "output_type": "display_data"
    }
   ],
   "source": [
    "#After the cleaning, what does the distribution of sale_price look like?\n",
    "\n",
    "#It doesn't look like I am getting any valuable insight about the data from this distribution.\n",
    "\n",
    "ax = brooklyn.loc[:,\"sale_price\"].plot(kind='hist', bins = 35)\n",
    "plt.ylabel(\"Distribution of Prices\")\n",
    "plt.xlabel(\"Sales Price\");"
   ]
  },
  {
   "cell_type": "code",
   "execution_count": 30,
   "metadata": {},
   "outputs": [
    {
     "data": {
      "text/plain": [
       "494693.5"
      ]
     },
     "execution_count": 30,
     "metadata": {},
     "output_type": "execute_result"
    }
   ],
   "source": [
    "#What is the median sale price of properties in Brooklyn?\n",
    "\n",
    "#I am going to split the distribution into two based on the median\n",
    "\n",
    "brooklyn.loc[:,\"sale_price\"].median()"
   ]
  },
  {
   "cell_type": "code",
   "execution_count": 31,
   "metadata": {},
   "outputs": [],
   "source": [
    "price_low = brooklyn[brooklyn.sale_price <= 494693]"
   ]
  },
  {
   "cell_type": "code",
   "execution_count": 32,
   "metadata": {},
   "outputs": [],
   "source": [
    "price_high = brooklyn[brooklyn.sale_price > 494693]"
   ]
  },
  {
   "cell_type": "code",
   "execution_count": 33,
   "metadata": {},
   "outputs": [
    {
     "data": {
      "image/png": "[encoded data removed]",
      "text/plain": [
       "<Figure size 432x288 with 1 Axes>"
      ]
     },
     "metadata": {
      "needs_background": "light"
     },
     "output_type": "display_data"
    }
   ],
   "source": [
    "#What does the distribution of sale_price look like on the lower side?\n",
    "\n",
    "#This looks much cleaner than before and approximately normally distributed.\n",
    "\n",
    "\n",
    "ax = price_low.loc[:,\"sale_price\"].plot(kind='hist', bins = 35)\n",
    "plt.ylabel(\"Distribution of Prices\")\n",
    "plt.xlabel(\"Sales Price\");"
   ]
  },
  {
   "cell_type": "code",
   "execution_count": 34,
   "metadata": {},
   "outputs": [
    {
     "data": {
      "image/png": "[encoded data removed]",
      "text/plain": [
       "<Figure size 432x288 with 1 Axes>"
      ]
     },
     "metadata": {
      "needs_background": "light"
     },
     "output_type": "display_data"
    }
   ],
   "source": [
    "#What does the distribution of sale_price look like on the upper side?\n",
    "\n",
    "#This looks like the first graph, but now it makes more sense in context with the lower half of the dataset.\n",
    "\n",
    "#This dataset has a heavy skew on the upper side of the sale price.\n",
    "\n",
    "ax = price_high.loc[:,\"sale_price\"].plot(kind='hist', bins = 20)\n",
    "plt.ylabel(\"Distribution of Prices\")\n",
    "plt.xlabel(\"Sales Price\");"
   ]
  },
  {
   "cell_type": "code",
   "execution_count": 35,
   "metadata": {},
   "outputs": [
    {
     "data": {
      "text/plain": [
       "0.0         42588\n",
       "3000.0       2277\n",
       "2400.0       1877\n",
       "2700.0       1695\n",
       "3600.0       1589\n",
       "3300.0       1477\n",
       "2160.0       1142\n",
       "2000.0       1119\n",
       "1800.0       1088\n",
       "3200.0        917\n",
       "3120.0        896\n",
       "1920.0        848\n",
       "4000.0        811\n",
       "2100.0        808\n",
       "2880.0        784\n",
       "1440.0        783\n",
       "2280.0        744\n",
       "2520.0        726\n",
       "2080.0        718\n",
       "1600.0        698\n",
       "3240.0        677\n",
       "2800.0        633\n",
       "2200.0        632\n",
       "4500.0        620\n",
       "3360.0        589\n",
       "2640.0        587\n",
       "2040.0        547\n",
       "1760.0        545\n",
       "4125.0        540\n",
       "1280.0        524\n",
       "            ...  \n",
       "4804.0          1\n",
       "49080.0         1\n",
       "13975.0         1\n",
       "18768.0         1\n",
       "39510.0         1\n",
       "111780.0        1\n",
       "27084.0         1\n",
       "6985.0          1\n",
       "7190.0          1\n",
       "78985.0         1\n",
       "1033.0          1\n",
       "12528.0         1\n",
       "19740.0         1\n",
       "11076.0         1\n",
       "5846.0          1\n",
       "21950.0         1\n",
       "24240.0         1\n",
       "47639.0         1\n",
       "39444.0         1\n",
       "223300.0        1\n",
       "5955.0          1\n",
       "4930.0          1\n",
       "39432.0         1\n",
       "157708.0        1\n",
       "39425.0         1\n",
       "745.0           1\n",
       "9749.0          1\n",
       "27900.0         1\n",
       "5702.0          1\n",
       "98300.0         1\n",
       "Name: gross_sqft, Length: 8291, dtype: int64"
      ]
     },
     "execution_count": 35,
     "metadata": {},
     "output_type": "execute_result"
    }
   ],
   "source": [
    "#In the first run through of correlation with sale_price, gross_sqft had the highest correlation.\n",
    "\n",
    "#So now that I have cleaned up 'sale_price' I am going to clean up gross_sqft.\n",
    "\n",
    "#Like with sale_price there were a lot of values of 0.\n",
    "\n",
    "brooklyn.loc[:,\"gross_sqft\"].value_counts()"
   ]
  },
  {
   "cell_type": "code",
   "execution_count": 36,
   "metadata": {},
   "outputs": [],
   "source": [
    "#Here I am getting rid of all properties where gross_sqft = 0 since that value doesn't make sense.\n",
    "\n",
    "brooklyn = brooklyn[brooklyn.gross_sqft != 0.0]"
   ]
  },
  {
   "cell_type": "code",
   "execution_count": 37,
   "metadata": {},
   "outputs": [
    {
     "data": {
      "text/plain": [
       "3000.0      2277\n",
       "2400.0      1877\n",
       "2700.0      1695\n",
       "3600.0      1589\n",
       "3300.0      1477\n",
       "2160.0      1142\n",
       "2000.0      1119\n",
       "1800.0      1088\n",
       "3200.0       917\n",
       "3120.0       896\n",
       "1920.0       848\n",
       "4000.0       811\n",
       "2100.0       808\n",
       "2880.0       784\n",
       "1440.0       783\n",
       "2280.0       744\n",
       "2520.0       726\n",
       "2080.0       718\n",
       "1600.0       698\n",
       "3240.0       677\n",
       "2800.0       633\n",
       "2200.0       632\n",
       "4500.0       620\n",
       "3360.0       589\n",
       "2640.0       587\n",
       "2040.0       547\n",
       "1760.0       545\n",
       "4125.0       540\n",
       "1280.0       524\n",
       "3750.0       502\n",
       "            ... \n",
       "19700.0        1\n",
       "18768.0        1\n",
       "1119.0         1\n",
       "5702.0         1\n",
       "13975.0        1\n",
       "39510.0        1\n",
       "111780.0       1\n",
       "27084.0        1\n",
       "6985.0         1\n",
       "7190.0         1\n",
       "78985.0        1\n",
       "1033.0         1\n",
       "12528.0        1\n",
       "19740.0        1\n",
       "11076.0        1\n",
       "5846.0         1\n",
       "21950.0        1\n",
       "24240.0        1\n",
       "47639.0        1\n",
       "39444.0        1\n",
       "223300.0       1\n",
       "5955.0         1\n",
       "4930.0         1\n",
       "39432.0        1\n",
       "157708.0       1\n",
       "39425.0        1\n",
       "745.0          1\n",
       "9749.0         1\n",
       "27900.0        1\n",
       "98300.0        1\n",
       "Name: gross_sqft, Length: 8290, dtype: int64"
      ]
     },
     "execution_count": 37,
     "metadata": {},
     "output_type": "execute_result"
    }
   ],
   "source": [
    "#Double checking that it worked\n",
    "\n",
    "brooklyn.loc[:,\"gross_sqft\"].value_counts()"
   ]
  },
  {
   "cell_type": "code",
   "execution_count": 38,
   "metadata": {},
   "outputs": [
    {
     "data": {
      "image/png": "[encoded data removed]",
      "text/plain": [
       "<Figure size 432x288 with 1 Axes>"
      ]
     },
     "metadata": {
      "needs_background": "light"
     },
     "output_type": "display_data"
    }
   ],
   "source": [
    "#Here is the distribution of gross_sqft\n",
    "\n",
    "#Looks similar to sale_price\n",
    "\n",
    "ax = brooklyn.loc[:,\"gross_sqft\"].plot(kind='hist', bins = 20)\n",
    "plt.ylabel(\"Square Feet Distribution\")\n",
    "plt.xlabel(\"Square Footage\");"
   ]
  },
  {
   "cell_type": "code",
   "execution_count": 39,
   "metadata": {},
   "outputs": [
    {
     "data": {
      "text/plain": [
       "2500.0"
      ]
     },
     "execution_count": 39,
     "metadata": {},
     "output_type": "execute_result"
    }
   ],
   "source": [
    "#Just like with sale_price, I am dividing gross_sqft into two based on the median\n",
    "\n",
    "brooklyn.loc[:,\"gross_sqft\"].median()"
   ]
  },
  {
   "cell_type": "code",
   "execution_count": 40,
   "metadata": {},
   "outputs": [],
   "source": [
    "sqft_low = brooklyn[brooklyn.gross_sqft <= 2500]"
   ]
  },
  {
   "cell_type": "code",
   "execution_count": 41,
   "metadata": {},
   "outputs": [],
   "source": [
    "sqft_high = brooklyn[brooklyn.gross_sqft > 2500]"
   ]
  },
  {
   "cell_type": "code",
   "execution_count": 42,
   "metadata": {},
   "outputs": [
    {
     "data": {
      "image/png": "[encoded data removed]",
      "text/plain": [
       "<Figure size 432x288 with 1 Axes>"
      ]
     },
     "metadata": {
      "needs_background": "light"
     },
     "output_type": "display_data"
    }
   ],
   "source": [
    "#Here is the distribution of gross_sqft on the lower side\n",
    "\n",
    "#This looks much cleaner and approximately normally distributed\n",
    "\n",
    "ax = sqft_low.loc[:,\"gross_sqft\"].plot(kind='hist', bins = 20)\n",
    "plt.ylabel(\"Square Feet Distribution\")\n",
    "plt.xlabel(\"Square Footage\");"
   ]
  },
  {
   "cell_type": "code",
   "execution_count": 43,
   "metadata": {},
   "outputs": [
    {
     "data": {
      "image/png": "[encoded data removed]",
      "text/plain": [
       "<Figure size 432x288 with 1 Axes>"
      ]
     },
     "metadata": {
      "needs_background": "light"
     },
     "output_type": "display_data"
    }
   ],
   "source": [
    "#Here is the distribution of gross_sqft on the upper side\n",
    "\n",
    "#Like with sale_price it seems like there's a heavy skew towards the upper levels\n",
    "\n",
    "\n",
    "ax = sqft_high.loc[:,\"gross_sqft\"].plot(kind='hist', bins = 20)\n",
    "plt.ylabel(\"Square Feet Distribution\")\n",
    "plt.xlabel(\"Square Footage\");"
   ]
  },
  {
   "cell_type": "code",
   "execution_count": 44,
   "metadata": {},
   "outputs": [
    {
     "data": {
      "text/plain": [
       "0.0         128706\n",
       "1000.0         506\n",
       "1100.0         364\n",
       "2000.0         277\n",
       "1500.0         252\n",
       "2500.0         232\n",
       "1600.0         215\n",
       "1200.0         209\n",
       "1800.0         182\n",
       "900.0          174\n",
       "800.0          171\n",
       "5000.0         156\n",
       "1400.0         152\n",
       "1375.0         140\n",
       "1089.0         130\n",
       "4000.0         129\n",
       "1300.0         124\n",
       "10000.0        119\n",
       "2200.0         115\n",
       "3000.0         109\n",
       "1250.0         104\n",
       "2400.0         101\n",
       "990.0          100\n",
       "6000.0          96\n",
       "1625.0          95\n",
       "960.0           81\n",
       "1700.0          81\n",
       "1280.0          80\n",
       "1900.0          79\n",
       "1750.0          77\n",
       "             ...  \n",
       "92360.0          1\n",
       "222738.0         1\n",
       "2457.0           1\n",
       "4915.0           1\n",
       "11542.0          1\n",
       "13930.0          1\n",
       "78676.0          1\n",
       "13938.0          1\n",
       "19693.0          1\n",
       "430.0            1\n",
       "19700.0          1\n",
       "11280.0          1\n",
       "27900.0          1\n",
       "3854.0           1\n",
       "78985.0          1\n",
       "1490.0           1\n",
       "39425.0          1\n",
       "39432.0          1\n",
       "39439.0          1\n",
       "2465.0           1\n",
       "223300.0         1\n",
       "1233.0           1\n",
       "18240.0          1\n",
       "2541.0           1\n",
       "11728.0          1\n",
       "9870.0           1\n",
       "500000.0         1\n",
       "46114.0          1\n",
       "9873.0           1\n",
       "49148.0          1\n",
       "Name: ComArea, Length: 3865, dtype: int64"
      ]
     },
     "execution_count": 44,
     "metadata": {},
     "output_type": "execute_result"
    }
   ],
   "source": [
    "#After gross_sq_ft, ComArea was the variable correlated highest with sale_price\n",
    "\n",
    "#Unlike sale_price and gross_sqft, a value of 0 for ComArea makes sense since not every property is for commercial use\n",
    "\n",
    "#Since 0 is the most common value, this may indicate most properties are residential, not commercial\n",
    "\n",
    "brooklyn.loc[:,\"ComArea\"].value_counts()"
   ]
  },
  {
   "cell_type": "code",
   "execution_count": 45,
   "metadata": {},
   "outputs": [
    {
     "data": {
      "image/png": "[encoded data removed]",
      "text/plain": [
       "<Figure size 432x288 with 1 Axes>"
      ]
     },
     "metadata": {
      "needs_background": "light"
     },
     "output_type": "display_data"
    }
   ],
   "source": [
    "#What does the distribution of ComArea look like?\n",
    "\n",
    "#At first glance it looks like this is another variable heavily skewed\n",
    "\n",
    "ax = brooklyn.loc[:,\"ComArea\"].plot(kind='hist', bins = 20)\n",
    "plt.ylabel(\"Comm Area Distribution\")\n",
    "plt.xlabel(\"Commercial Area\");"
   ]
  },
  {
   "cell_type": "code",
   "execution_count": 46,
   "metadata": {},
   "outputs": [
    {
     "data": {
      "text/plain": [
       "0.0"
      ]
     },
     "execution_count": 46,
     "metadata": {},
     "output_type": "execute_result"
    }
   ],
   "source": [
    "#The median value for ComArea is 0, so that's tough to divide the distribution in two by the median since there aren't any \n",
    "#negative values\n",
    "\n",
    "brooklyn.loc[:,\"ComArea\"].median()"
   ]
  },
  {
   "cell_type": "code",
   "execution_count": 47,
   "metadata": {},
   "outputs": [
    {
     "data": {
      "text/plain": [
       "821.4368687901215"
      ]
     },
     "execution_count": 47,
     "metadata": {},
     "output_type": "execute_result"
    }
   ],
   "source": [
    "#Instead, it is perhaps better to divide the distribution by its mean\n",
    "\n",
    "brooklyn.loc[:,\"ComArea\"].mean()"
   ]
  },
  {
   "cell_type": "code",
   "execution_count": 48,
   "metadata": {},
   "outputs": [],
   "source": [
    "area_low = brooklyn[brooklyn.ComArea <= 821]"
   ]
  },
  {
   "cell_type": "code",
   "execution_count": 49,
   "metadata": {},
   "outputs": [],
   "source": [
    "area_high = brooklyn[brooklyn.ComArea > 821]"
   ]
  },
  {
   "cell_type": "code",
   "execution_count": 50,
   "metadata": {},
   "outputs": [
    {
     "data": {
      "image/png": "[encoded data removed]",
      "text/plain": [
       "<Figure size 432x288 with 1 Axes>"
      ]
     },
     "metadata": {
      "needs_background": "light"
     },
     "output_type": "display_data"
    }
   ],
   "source": [
    "#What does the lower half of the distribution look like?\n",
    "\n",
    "#Very skewed towards 0, as was expected\n",
    "\n",
    "ax = area_low.loc[:,\"ComArea\"].plot(kind='hist', bins = 20)\n",
    "plt.ylabel(\"Comm Area Distribution\")\n",
    "plt.xlabel(\"Commercial Area\");"
   ]
  },
  {
   "cell_type": "code",
   "execution_count": 51,
   "metadata": {},
   "outputs": [
    {
     "data": {
      "image/png": "[encoded data removed]",
      "text/plain": [
       "<Figure size 432x288 with 1 Axes>"
      ]
     },
     "metadata": {
      "needs_background": "light"
     },
     "output_type": "display_data"
    }
   ],
   "source": [
    "#What does the upper half of the distribution look like?\n",
    "\n",
    "#I'm not sure, overall this distribution doesn't seem clear\n",
    "\n",
    "\n",
    "ax = area_high.loc[:,\"ComArea\"].plot(kind='hist', bins = 20)\n",
    "plt.ylabel(\"Comm Area Distribution\")\n",
    "plt.xlabel(\"Commercial Area\");"
   ]
  },
  {
   "cell_type": "code",
   "execution_count": 52,
   "metadata": {},
   "outputs": [
    {
     "data": {
      "image/png": "[encoded data removed]",
      "text/plain": [
       "<Figure size 432x288 with 1 Axes>"
      ]
     },
     "metadata": {
      "needs_background": "light"
     },
     "output_type": "display_data"
    }
   ],
   "source": [
    "#Instead of a histogram, a box plot seems much better at plotting the distribution of ComArea\n",
    "\n",
    "ax = brooklyn.loc[:,\"ComArea\"].plot(kind='box')\n",
    "plt.ylabel(\"Commercial Area\");"
   ]
  },
  {
   "cell_type": "code",
   "execution_count": 53,
   "metadata": {},
   "outputs": [
    {
     "data": {
      "text/plain": [
       "12330.0      1084\n",
       "10268.0      1036\n",
       "14389.0       830\n",
       "8210.0        787\n",
       "18511.0       639\n",
       "9045.0        618\n",
       "26872.0       581\n",
       "16449.0       581\n",
       "35830.0       568\n",
       "20571.0       558\n",
       "34038.0       515\n",
       "11493.0       514\n",
       "7401.0        512\n",
       "24661.0       497\n",
       "23288.0       492\n",
       "21496.0       484\n",
       "32246.0       476\n",
       "9852.0        465\n",
       "24364.0       437\n",
       "28663.0       414\n",
       "25081.0       411\n",
       "22602.0       409\n",
       "20780.0       352\n",
       "17914.0       346\n",
       "22572.0       343\n",
       "13136.0       338\n",
       "25795.0       322\n",
       "19704.0       321\n",
       "11104.0       320\n",
       "30456.0       318\n",
       "             ... \n",
       "18910.0         1\n",
       "29098.0         1\n",
       "215725.0        1\n",
       "41813.0         1\n",
       "26965.0         1\n",
       "29558.0         1\n",
       "9386.0          1\n",
       "300336.0        1\n",
       "215700.0        1\n",
       "28108.0         1\n",
       "48643.0         1\n",
       "12826.0         1\n",
       "169112.0        1\n",
       "107913.0        1\n",
       "78484.0         1\n",
       "41801.0         1\n",
       "75140.0         1\n",
       "150274.0        1\n",
       "1008450.0       1\n",
       "37563.0         1\n",
       "1492650.0       1\n",
       "26620.0         1\n",
       "46646.0         1\n",
       "167205.0        1\n",
       "69364.0         1\n",
       "1201950.0       1\n",
       "107888.0        1\n",
       "231120.0        1\n",
       "53943.0         1\n",
       "3615300.0       1\n",
       "Name: AssessTot, Length: 22987, dtype: int64"
      ]
     },
     "execution_count": 53,
     "metadata": {},
     "output_type": "execute_result"
    }
   ],
   "source": [
    "#One last explanatory variable I wanted to see was AssessTot\n",
    "\n",
    "#It doesn't seem like there are any odd values throwing off this set\n",
    "\n",
    "brooklyn.loc[:,\"AssessTot\"].value_counts()"
   ]
  },
  {
   "cell_type": "code",
   "execution_count": 54,
   "metadata": {},
   "outputs": [
    {
     "data": {
      "text/plain": [
       "0.0"
      ]
     },
     "execution_count": 54,
     "metadata": {},
     "output_type": "execute_result"
    }
   ],
   "source": [
    "#Here I am making sure of there are any zeroes in the set\n",
    "\n",
    "#And there's at least one, so I am going to clean that up since an assessed value of 0 might be possible, but most likely not\n",
    "\n",
    "brooklyn.loc[:,\"AssessTot\"].min()"
   ]
  },
  {
   "cell_type": "code",
   "execution_count": 55,
   "metadata": {},
   "outputs": [],
   "source": [
    "#Here I am cleaning up AssessTot\n",
    "\n",
    "brooklyn = brooklyn[brooklyn.AssessTot != 0.0]"
   ]
  },
  {
   "cell_type": "code",
   "execution_count": 56,
   "metadata": {},
   "outputs": [
    {
     "data": {
      "text/plain": [
       "(146719, 62)"
      ]
     },
     "execution_count": 56,
     "metadata": {},
     "output_type": "execute_result"
    }
   ],
   "source": [
    "#Checking in on the dataset after several rounds of cleaning and the amount of data certainly has decreased\n",
    "\n",
    "brooklyn.shape"
   ]
  },
  {
   "cell_type": "code",
   "execution_count": 57,
   "metadata": {},
   "outputs": [
    {
     "data": {
      "image/png": "[encoded data removed]",
      "text/plain": [
       "<Figure size 432x288 with 1 Axes>"
      ]
     },
     "metadata": {
      "needs_background": "light"
     },
     "output_type": "display_data"
    }
   ],
   "source": [
    "#How does gross_sqft relate to sale_price?\n",
    "\n",
    "#I believe this plot reinforces the small correlation between gross_sqft and sale_price\n",
    "\n",
    "ax = brooklyn.plot(kind='scatter', x='gross_sqft', y='sale_price')\n",
    "plt.ylabel(\"Sale Prices of Properties\")\n",
    "plt.xlabel(\"Gross Square Footage of Properties\");"
   ]
  },
  {
   "cell_type": "code",
   "execution_count": 58,
   "metadata": {},
   "outputs": [],
   "source": [
    "#What if I transform the data through log transformation?\n",
    "\n",
    "brooklyn.loc[:, 'log_sqft'] = np.log(brooklyn.loc[:, 'gross_sqft'])"
   ]
  },
  {
   "cell_type": "code",
   "execution_count": 59,
   "metadata": {},
   "outputs": [
    {
     "data": {
      "image/png": "[encoded data removed]",
      "text/plain": [
       "<Figure size 432x288 with 1 Axes>"
      ]
     },
     "metadata": {
      "needs_background": "light"
     },
     "output_type": "display_data"
    }
   ],
   "source": [
    "#This plot looks more informative\n",
    "\n",
    "ax = brooklyn.plot(kind='scatter', x='log_sqft', y='sale_price')\n",
    "plt.ylabel(\"Sale Prices of Properties\")\n",
    "plt.xlabel(\"Gross Square Footage of Properties\");"
   ]
  },
  {
   "cell_type": "code",
   "execution_count": 60,
   "metadata": {},
   "outputs": [],
   "source": [
    "brooklyn.loc[:, 'log_price'] = np.log(brooklyn.loc[:, 'sale_price'])"
   ]
  },
  {
   "cell_type": "code",
   "execution_count": 61,
   "metadata": {},
   "outputs": [
    {
     "data": {
      "image/png": "[encoded data removed]",
      "text/plain": [
       "<Figure size 432x288 with 1 Axes>"
      ]
     },
     "metadata": {
      "needs_background": "light"
     },
     "output_type": "display_data"
    }
   ],
   "source": [
    "#This plot looks more informative when both the feature and target variable have log transformations\n",
    "\n",
    "ax = brooklyn.plot(kind='scatter', x='log_sqft', y='log_price')\n",
    "plt.ylabel(\"Sale Prices of Properties\")\n",
    "plt.xlabel(\"Gross Square Footage of Properties\");"
   ]
  },
  {
   "cell_type": "code",
   "execution_count": 62,
   "metadata": {},
   "outputs": [
    {
     "data": {
      "image/png": "[encoded data removed]",
      "text/plain": [
       "<Figure size 432x288 with 1 Axes>"
      ]
     },
     "metadata": {
      "needs_background": "light"
     },
     "output_type": "display_data"
    }
   ],
   "source": [
    "ax = brooklyn.plot(kind='scatter', x='ComArea', y='sale_price')\n",
    "plt.ylabel(\"Sale Prices of Properties\")\n",
    "plt.xlabel(\"Commercial Area\");"
   ]
  },
  {
   "cell_type": "code",
   "execution_count": 63,
   "metadata": {},
   "outputs": [
    {
     "data": {
      "image/png": "[encoded data removed]",
      "text/plain": [
       "<Figure size 432x288 with 1 Axes>"
      ]
     },
     "metadata": {
      "needs_background": "light"
     },
     "output_type": "display_data"
    }
   ],
   "source": [
    "ax = brooklyn.plot(kind='scatter', x='ComArea', y='log_price')\n",
    "plt.ylabel(\"Sale Prices of Properties\")\n",
    "plt.xlabel(\"Commercial Area\");"
   ]
  },
  {
   "cell_type": "code",
   "execution_count": 64,
   "metadata": {},
   "outputs": [],
   "source": [
    "#I said originally I did not want to eliminate ComArea values of 0\n",
    "\n",
    "#However, log of 0 is undefined, so for this exercise I must do it\n",
    "\n",
    "brooklyn = brooklyn[brooklyn.ComArea != 0.0]"
   ]
  },
  {
   "cell_type": "code",
   "execution_count": 65,
   "metadata": {},
   "outputs": [],
   "source": [
    "brooklyn.loc[:, 'log_area'] = np.log(brooklyn.loc[:, 'ComArea'])"
   ]
  },
  {
   "cell_type": "code",
   "execution_count": 66,
   "metadata": {},
   "outputs": [
    {
     "data": {
      "image/png": "[encoded data removed]",
      "text/plain": [
       "<Figure size 432x288 with 1 Axes>"
      ]
     },
     "metadata": {
      "needs_background": "light"
     },
     "output_type": "display_data"
    }
   ],
   "source": [
    "ax = brooklyn.plot(kind='scatter', x='log_area', y='sale_price')\n",
    "plt.ylabel(\"Sale Prices of Properties\")\n",
    "plt.xlabel(\"Commercial Area\");"
   ]
  },
  {
   "cell_type": "code",
   "execution_count": 67,
   "metadata": {},
   "outputs": [
    {
     "data": {
      "image/png": "[encoded data removed]",
      "text/plain": [
       "<Figure size 432x288 with 1 Axes>"
      ]
     },
     "metadata": {
      "needs_background": "light"
     },
     "output_type": "display_data"
    }
   ],
   "source": [
    "#There does indeed seem to be a small positive correlation between ComArea and sale_price\n",
    "\n",
    "ax = brooklyn.plot(kind='scatter', x='log_area', y='log_price')\n",
    "plt.ylabel(\"Sale Prices of Properties\")\n",
    "plt.xlabel(\"Commercial Area\");"
   ]
  },
  {
   "cell_type": "code",
   "execution_count": 68,
   "metadata": {},
   "outputs": [
    {
     "data": {
      "image/png": "[encoded data removed]",
      "text/plain": [
       "<Figure size 432x288 with 1 Axes>"
      ]
     },
     "metadata": {
      "needs_background": "light"
     },
     "output_type": "display_data"
    }
   ],
   "source": [
    "ax = brooklyn.plot(kind='scatter', x='AssessTot', y='sale_price')\n",
    "plt.ylabel(\"Sale Prices of Properties\")\n",
    "plt.xlabel(\"Assessed Total Value\");"
   ]
  },
  {
   "cell_type": "code",
   "execution_count": 69,
   "metadata": {},
   "outputs": [],
   "source": [
    "brooklyn.loc[:, 'log_assess'] = np.log(brooklyn.loc[:, 'AssessTot'])"
   ]
  },
  {
   "cell_type": "code",
   "execution_count": 70,
   "metadata": {},
   "outputs": [
    {
     "data": {
      "image/png": "[encoded data removed]",
      "text/plain": [
       "<Figure size 432x288 with 1 Axes>"
      ]
     },
     "metadata": {
      "needs_background": "light"
     },
     "output_type": "display_data"
    }
   ],
   "source": [
    "ax = brooklyn.plot(kind='scatter', x='log_assess', y='sale_price')\n",
    "plt.ylabel(\"Sale Prices of Properties\")\n",
    "plt.xlabel(\"Assessed Total Value\");"
   ]
  },
  {
   "cell_type": "code",
   "execution_count": 71,
   "metadata": {},
   "outputs": [
    {
     "data": {
      "image/png": "[encoded data removed]",
      "text/plain": [
       "<Figure size 432x288 with 1 Axes>"
      ]
     },
     "metadata": {
      "needs_background": "light"
     },
     "output_type": "display_data"
    }
   ],
   "source": [
    "#The correlation between the log values of AssessTot and sale_price is more clear than their normal values\n",
    "\n",
    "ax = brooklyn.plot(kind='scatter', x='log_assess', y='log_price')\n",
    "plt.ylabel(\"Sale Prices of Properties\")\n",
    "plt.xlabel(\"Assessed Total Value\");"
   ]
  },
  {
   "cell_type": "code",
   "execution_count": 72,
   "metadata": {},
   "outputs": [],
   "source": [
    "#Here I am setting up a series to take a look at correlation between the log values\n",
    "\n",
    "log_brooklyn = brooklyn.loc[:,['log_price','log_sqft','log_area','log_assess']]"
   ]
  },
  {
   "cell_type": "code",
   "execution_count": 73,
   "metadata": {},
   "outputs": [
    {
     "data": {
      "image/png": "[encoded data removed]",
      "text/plain": [
       "<Figure size 432x288 with 2 Axes>"
      ]
     },
     "metadata": {
      "needs_background": "light"
     },
     "output_type": "display_data"
    }
   ],
   "source": [
    "#Log transformation made the relationship between variables more clear\n",
    "\n",
    "#I am slightly concerned about collinearity with log_area and log_assess.\n",
    "\n",
    "#Collinearity is possible with log_sqft and log_area\n",
    "\n",
    "#Collinearity is possible with log_sqft and log_assess\n",
    "\n",
    "ax = sns.heatmap(log_brooklyn.corr(), vmin=-1, vmax=1, annot=True, cmap=sns.diverging_palette(h_neg=220, h_pos=10, n=21))"
   ]
  },
  {
   "cell_type": "markdown",
   "metadata": {},
   "source": [
    "# Categorical Variable Analysis"
   ]
  },
  {
   "cell_type": "code",
   "execution_count": 74,
   "metadata": {},
   "outputs": [
    {
     "data": {
      "text/plain": [
       "11207    890\n",
       "11220    795\n",
       "11211    721\n",
       "11221    661\n",
       "11226    652\n",
       "11212    617\n",
       "11208    607\n",
       "11237    606\n",
       "11206    600\n",
       "11233    581\n",
       "11219    578\n",
       "11203    561\n",
       "11216    547\n",
       "11222    524\n",
       "11223    519\n",
       "11214    503\n",
       "11209    501\n",
       "11213    476\n",
       "11231    475\n",
       "11215    474\n",
       "11234    471\n",
       "11218    460\n",
       "11238    444\n",
       "11204    427\n",
       "11205    408\n",
       "11236    401\n",
       "11201    397\n",
       "11232    386\n",
       "11235    378\n",
       "11230    363\n",
       "11210    362\n",
       "11229    359\n",
       "11217    350\n",
       "11225    346\n",
       "11228    291\n",
       "11224    182\n",
       "11249    106\n",
       "11239      5\n",
       "11241      1\n",
       "0          1\n",
       "Name: zip_code, dtype: int64"
      ]
     },
     "execution_count": 74,
     "metadata": {},
     "output_type": "execute_result"
    }
   ],
   "source": [
    "#There are some categorical variables in the dataset that I believe might be of use in making a sound predictive model.\n",
    "\n",
    "#The idea is to turn these categorical variables into dummy variables in order to accurately measure their impact.\n",
    "\n",
    "#Zip code has too many values to turn into dummy variables, so I will not use it.\n",
    "\n",
    "brooklyn.loc[:,\"zip_code\"].value_counts()"
   ]
  },
  {
   "cell_type": "code",
   "execution_count": 75,
   "metadata": {},
   "outputs": [
    {
     "data": {
      "text/plain": [
       "BEDFORD STUYVESANT          1282\n",
       "BOROUGH PARK                 972\n",
       "CROWN HEIGHTS                960\n",
       "EAST NEW YORK                877\n",
       "BUSHWICK                     844\n",
       "FLATBUSH-EAST                761\n",
       "SUNSET PARK                  760\n",
       "WILLIAMSBURG-EAST            731\n",
       "FLATBUSH-CENTRAL             714\n",
       "BAY RIDGE                    685\n",
       "GREENPOINT                   519\n",
       "BENSONHURST                  517\n",
       "OCEAN HILL                   504\n",
       "CYPRESS HILLS                423\n",
       "BROWNSVILLE                  402\n",
       "FLATBUSH-NORTH               393\n",
       "CANARSIE                     389\n",
       "GRAVESEND                    386\n",
       "OCEAN PARKWAY-NORTH          319\n",
       "SHEEPSHEAD BAY               301\n",
       "WILLIAMSBURG-NORTH           270\n",
       "GOWANUS                      269\n",
       "MIDWOOD                      268\n",
       "PARK SLOPE                   250\n",
       "BATH BEACH                   249\n",
       "RED HOOK                     238\n",
       "WILLIAMSBURG-SOUTH           230\n",
       "WYCKOFF HEIGHTS              225\n",
       "BUSH TERMINAL                224\n",
       "FLATBUSH-LEFFERTS GARDEN     211\n",
       "                            ... \n",
       "DYKER HEIGHTS                200\n",
       "MARINE PARK                  191\n",
       "BOERUM HILL                  184\n",
       "OCEAN PARKWAY-SOUTH          167\n",
       "CONEY ISLAND                 167\n",
       "CLINTON HILL                 147\n",
       "BRIGHTON BEACH               140\n",
       "PROSPECT HEIGHTS             127\n",
       "OLD MILL BASIN               126\n",
       "CARROLL GARDENS              120\n",
       "DOWNTOWN-FULTON MALL         108\n",
       "FLATLANDS                    106\n",
       "BROOKLYN HEIGHTS              98\n",
       "PARK SLOPE SOUTH              98\n",
       "FORT GREENE                   98\n",
       "KENSINGTON                    90\n",
       "WILLIAMSBURG-CENTRAL          83\n",
       "COBBLE HILL-WEST              65\n",
       "COBBLE HILL                   61\n",
       "NAVY YARD                     53\n",
       "DOWNTOWN-FULTON FERRY         40\n",
       "GERRITSEN BEACH               38\n",
       "WINDSOR TERRACE               38\n",
       "DOWNTOWN-METROTECH            29\n",
       "MANHATTAN BEACH               23\n",
       "MILL BASIN                    18\n",
       "BERGEN BEACH                  18\n",
       "SEAGATE                        7\n",
       "SPRING CREEK                   7\n",
       "JAMAICA BAY                    2\n",
       "Name: neighborhood, Length: 61, dtype: int64"
      ]
     },
     "execution_count": 75,
     "metadata": {},
     "output_type": "execute_result"
    }
   ],
   "source": [
    "#Neighborhood has too many values to turn into dummy variables, so I will not use it.\n",
    "\n",
    "brooklyn.loc[:,\"neighborhood\"].value_counts()"
   ]
  },
  {
   "cell_type": "code",
   "execution_count": 76,
   "metadata": {},
   "outputs": [
    {
     "data": {
      "text/plain": [
       "4    6948\n",
       "1    6395\n",
       "2    4681\n",
       "3       2\n",
       "Name: tax_class_at_sale, dtype: int64"
      ]
     },
     "execution_count": 76,
     "metadata": {},
     "output_type": "execute_result"
    }
   ],
   "source": [
    "#Tax class at sale looks promising to turn into a dummy variable.\n",
    "\n",
    "brooklyn.loc[:,\"tax_class_at_sale\"].value_counts()"
   ]
  },
  {
   "cell_type": "code",
   "execution_count": 77,
   "metadata": {},
   "outputs": [
    {
     "data": {
      "text/plain": [
       "3489    29\n",
       "5195    26\n",
       "3526    25\n",
       "5026    24\n",
       "1863    24\n",
       "4915    23\n",
       "8707    23\n",
       "1465    22\n",
       "3524    22\n",
       "4141    22\n",
       "6346    21\n",
       "5165    21\n",
       "5249    21\n",
       "5141    21\n",
       "3726    20\n",
       "7598    20\n",
       "1552    20\n",
       "1551    20\n",
       "7866    19\n",
       "4869    19\n",
       "7459    19\n",
       "1226    19\n",
       "1857    19\n",
       "3183    19\n",
       "6583    19\n",
       "3188    18\n",
       "7808    18\n",
       "6247    17\n",
       "3219    17\n",
       "1149    17\n",
       "        ..\n",
       "4335     1\n",
       "237      1\n",
       "189      1\n",
       "3111     1\n",
       "1544     1\n",
       "3555     1\n",
       "5600     1\n",
       "1560     1\n",
       "3609     1\n",
       "8377     1\n",
       "1474     1\n",
       "3641     1\n",
       "7739     1\n",
       "1608     1\n",
       "7415     1\n",
       "1062     1\n",
       "5488     1\n",
       "4269     1\n",
       "3689     1\n",
       "3301     1\n",
       "3395     1\n",
       "3721     1\n",
       "2238     1\n",
       "7473     1\n",
       "5424     1\n",
       "3363     1\n",
       "1268     1\n",
       "1030     1\n",
       "6286     1\n",
       "2049     1\n",
       "Name: block, Length: 4437, dtype: int64"
      ]
     },
     "execution_count": 77,
     "metadata": {},
     "output_type": "execute_result"
    }
   ],
   "source": [
    "#Block has too many values to turn into dummy variables, so I will not use it.\n",
    "\n",
    "brooklyn.loc[:,\"block\"].value_counts()"
   ]
  },
  {
   "cell_type": "code",
   "execution_count": 78,
   "metadata": {},
   "outputs": [
    {
     "data": {
      "text/plain": [
       "1       1392\n",
       "6        481\n",
       "8        449\n",
       "7        442\n",
       "5        427\n",
       "4        395\n",
       "10       389\n",
       "3        387\n",
       "2        373\n",
       "9        368\n",
       "41       342\n",
       "42       334\n",
       "44       331\n",
       "40       328\n",
       "45       315\n",
       "39       303\n",
       "36       295\n",
       "43       284\n",
       "47       281\n",
       "35       280\n",
       "46       275\n",
       "34       275\n",
       "37       265\n",
       "38       260\n",
       "12       260\n",
       "11       253\n",
       "48       253\n",
       "17       235\n",
       "28       228\n",
       "33       227\n",
       "        ... \n",
       "238        1\n",
       "428        1\n",
       "126        1\n",
       "149        1\n",
       "437        1\n",
       "261        1\n",
       "423        1\n",
       "318        1\n",
       "601        1\n",
       "334        1\n",
       "537        1\n",
       "505        1\n",
       "441        1\n",
       "194        1\n",
       "242        1\n",
       "377        1\n",
       "309        1\n",
       "1138       1\n",
       "233        1\n",
       "7501       1\n",
       "169        1\n",
       "510        1\n",
       "317        1\n",
       "509        1\n",
       "968        1\n",
       "600        1\n",
       "184        1\n",
       "435        1\n",
       "430        1\n",
       "914        1\n",
       "Name: lot, Length: 300, dtype: int64"
      ]
     },
     "execution_count": 78,
     "metadata": {},
     "output_type": "execute_result"
    }
   ],
   "source": [
    "#Block has too many values to turn into dummy variables, so I will not use it.\n",
    "\n",
    "brooklyn.loc[:,\"lot\"].value_counts()"
   ]
  },
  {
   "cell_type": "code",
   "execution_count": 79,
   "metadata": {},
   "outputs": [
    {
     "data": {
      "text/plain": [
       "1.0     1850\n",
       "3.0     1411\n",
       "5.0     1345\n",
       "11.0    1215\n",
       "7.0     1147\n",
       "17.0    1087\n",
       "6.0     1073\n",
       "4.0     1050\n",
       "18.0     997\n",
       "10.0     949\n",
       "12.0     945\n",
       "8.0      901\n",
       "15.0     817\n",
       "14.0     788\n",
       "16.0     749\n",
       "2.0      725\n",
       "9.0      561\n",
       "13.0     415\n",
       "55.0       1\n",
       "Name: SanitDistr, dtype: int64"
      ]
     },
     "execution_count": 79,
     "metadata": {},
     "output_type": "execute_result"
    }
   ],
   "source": [
    "#SanitDistr is close to having too many values to turn into dummy variables, but I will still attempt to do so.\n",
    "\n",
    "brooklyn.loc[:,\"SanitDistr\"].value_counts()"
   ]
  },
  {
   "cell_type": "code",
   "execution_count": 80,
   "metadata": {},
   "outputs": [
    {
     "data": {
      "text/plain": [
       "75.0    1320\n",
       "62.0    1175\n",
       "67.0    1113\n",
       "72.0    1104\n",
       "66.0    1070\n",
       "83.0    1065\n",
       "90.0    1027\n",
       "68.0     934\n",
       "79.0     879\n",
       "61.0     867\n",
       "77.0     848\n",
       "94.0     806\n",
       "73.0     768\n",
       "70.0     751\n",
       "63.0     662\n",
       "76.0     572\n",
       "81.0     543\n",
       "71.0     542\n",
       "78.0     520\n",
       "84.0     447\n",
       "60.0     399\n",
       "69.0     318\n",
       "88.0     296\n",
       "Name: PolicePrct, dtype: int64"
      ]
     },
     "execution_count": 80,
     "metadata": {},
     "output_type": "execute_result"
    }
   ],
   "source": [
    "#PolicePrct is close to having too many values to turn into dummy variables, but I will still attempt to do so.\n",
    "\n",
    "\n",
    "brooklyn.loc[:,\"PolicePrct\"].value_counts()"
   ]
  },
  {
   "cell_type": "code",
   "execution_count": 81,
   "metadata": {},
   "outputs": [
    {
     "data": {
      "text/plain": [
       "20.0    2686\n",
       "15.0    2245\n",
       "14.0    2060\n",
       "22.0    1749\n",
       "17.0    1674\n",
       "21.0    1437\n",
       "13.0    1395\n",
       "19.0    1332\n",
       "32.0    1078\n",
       "18.0     939\n",
       "23.0     735\n",
       "16.0     696\n",
       "Name: SchoolDist, dtype: int64"
      ]
     },
     "execution_count": 81,
     "metadata": {},
     "output_type": "execute_result"
    }
   ],
   "source": [
    "#SchoolDist is close to having too many values to turn into dummy variables, but I will still attempt to do so.\n",
    "\n",
    "\n",
    "brooklyn.loc[:,\"SchoolDist\"].value_counts()"
   ]
  },
  {
   "cell_type": "code",
   "execution_count": 82,
   "metadata": {},
   "outputs": [
    {
     "data": {
      "text/plain": [
       "S2    4109\n",
       "S1    1517\n",
       "S9    1058\n",
       "K1     930\n",
       "S4     779\n",
       "S3     773\n",
       "S5     771\n",
       "C7     709\n",
       "F9     556\n",
       "E9     537\n",
       "K4     512\n",
       "K2     441\n",
       "K9     394\n",
       "G9     393\n",
       "G2     361\n",
       "F4     257\n",
       "O9     233\n",
       "E1     201\n",
       "E3     186\n",
       "C0     177\n",
       "O7     170\n",
       "B1     157\n",
       "M1     156\n",
       "V1     105\n",
       "D7     103\n",
       "C2      99\n",
       "F5      96\n",
       "F1      92\n",
       "C1      90\n",
       "O8      85\n",
       "      ... \n",
       "L1       2\n",
       "P7       2\n",
       "H8       2\n",
       "W4       2\n",
       "Z2       2\n",
       "Y6       2\n",
       "I3       2\n",
       "J3       2\n",
       "M2       2\n",
       "J1       2\n",
       "A3       2\n",
       "W6       1\n",
       "Y4       1\n",
       "J9       1\n",
       "O3       1\n",
       "T9       1\n",
       "Z8       1\n",
       "A0       1\n",
       "R0       1\n",
       "H2       1\n",
       "Y1       1\n",
       "K8       1\n",
       "Q3       1\n",
       "Y3       1\n",
       "T2       1\n",
       "U4       1\n",
       "U5       1\n",
       "O4       1\n",
       "H4       1\n",
       "Z0       1\n",
       "Name: building_class_at_sale, Length: 141, dtype: int64"
      ]
     },
     "execution_count": 82,
     "metadata": {},
     "output_type": "execute_result"
    }
   ],
   "source": [
    "#Building class at sale has too many values to turn into dummy variables, so I will not use it.\n",
    "\n",
    "brooklyn.loc[:,\"building_class_at_sale\"].value_counts()"
   ]
  },
  {
   "cell_type": "code",
   "execution_count": 83,
   "metadata": {},
   "outputs": [
    {
     "data": {
      "text/plain": [
       "02 TWO FAMILY HOMES                          4473\n",
       "14  RENTALS - 4-10 UNIT                      3180\n",
       "22  STORE BUILDINGS                          2195\n",
       "01 ONE FAMILY HOMES                          1686\n",
       "07  RENTALS - WALKUP APARTMENTS              1008\n",
       "27  FACTORIES                                 991\n",
       "29  COMMERCIAL GARAGES                        957\n",
       "30  WAREHOUSES                                908\n",
       "21  OFFICE BUILDINGS                          598\n",
       "37  RELIGIOUS FACILITIES                      221\n",
       "14 RENTALS - 4-10 UNIT                        201\n",
       "08  RENTALS - ELEVATOR APARTMENTS             197\n",
       "03 THREE FAMILY HOMES                         177\n",
       "22 STORE BUILDINGS                            173\n",
       "32  HOSPITAL AND HEALTH FACILITIES            151\n",
       "31  COMMERCIAL VACANT LAND                    109\n",
       "33  EDUCATIONAL FACILITIES                    106\n",
       "41  TAX CLASS 4 - OTHER                        75\n",
       "35  INDOOR PUBLIC AND CULTURAL FACILITIES      71\n",
       "29 COMMERCIAL GARAGES                          65\n",
       "30 WAREHOUSES                                  61\n",
       "21 OFFICE BUILDINGS                            56\n",
       "05  TAX CLASS 1 VACANT LAND                    50\n",
       "23  LOFT BUILDINGS                             48\n",
       "07 RENTALS - WALKUP APARTMENTS                 43\n",
       "27 FACTORIES                                   39\n",
       "38  ASYLUMS AND HOMES                          32\n",
       "10  COOPS - ELEVATOR APARTMENTS                21\n",
       "37 RELIGIOUS FACILITIES                        21\n",
       "33 EDUCATIONAL FACILITIES                      18\n",
       "08 RENTALS - ELEVATOR APARTMENTS               15\n",
       "09  COOPS - WALKUP APARTMENTS                  15\n",
       "34  THEATRES                                   11\n",
       "32 HOSPITAL AND HEALTH FACILITIES              10\n",
       "36  OUTDOOR RECREATIONAL FACILITIES             8\n",
       "26  OTHER HOTELS                                8\n",
       "06  TAX CLASS 1 - OTHER                         7\n",
       "40  SELECTED GOVERNMENTAL FACILITIES            5\n",
       "38 ASYLUMS AND HOMES                            2\n",
       "35 INDOOR PUBLIC AND CULTURAL FACILITIES        2\n",
       "18  TAX CLASS 3 - UTILITY PROPERTIES            2\n",
       "39  TRANSPORTATION FACILITIES                   2\n",
       "26 OTHER HOTELS                                 2\n",
       "06 TAX CLASS 1 - OTHER                          2\n",
       "11  SPECIAL CONDO BILLING LOTS                  1\n",
       "25  LUXURY HOTELS                               1\n",
       "34 THEATRES                                     1\n",
       "23 LOFT BUILDINGS                               1\n",
       "Name: building_class_category, dtype: int64"
      ]
     },
     "execution_count": 83,
     "metadata": {},
     "output_type": "execute_result"
    }
   ],
   "source": [
    "#Building class category has too many values to turn into dummy variables, so I will not use it.\n",
    "\n",
    "\n",
    "brooklyn.loc[:,\"building_class_category\"].value_counts()"
   ]
  },
  {
   "cell_type": "code",
   "execution_count": 84,
   "metadata": {},
   "outputs": [],
   "source": [
    "#The first thing I want to do is convert my categorical variables into strings, this way it will allow them to become dummy variables\n",
    "\n",
    "brooklyn = brooklyn.astype({'tax_class_at_sale':str, 'SanitDistr':str, 'PolicePrct': str, 'SchoolDist':str})"
   ]
  },
  {
   "cell_type": "code",
   "execution_count": 85,
   "metadata": {},
   "outputs": [],
   "source": [
    "#Here I am setting up a smaller series to do analysis\n",
    "\n",
    "brooklyn_dummy = brooklyn.loc[:,['log_price','tax_class_at_sale','SanitDistr','PolicePrct','SchoolDist']]"
   ]
  },
  {
   "cell_type": "code",
   "execution_count": 86,
   "metadata": {},
   "outputs": [],
   "source": [
    "#Here I am officially converting the categorical variables into dummy variables\n",
    "\n",
    "brooklyn_dummy = pd.get_dummies(brooklyn_dummy, columns=['tax_class_at_sale','SanitDistr','PolicePrct','SchoolDist'], drop_first=True)"
   ]
  },
  {
   "cell_type": "code",
   "execution_count": 87,
   "metadata": {},
   "outputs": [
    {
     "data": {
      "text/html": [
       "<div>\n",
       "<style scoped>\n",
       "    .dataframe tbody tr th:only-of-type {\n",
       "        vertical-align: middle;\n",
       "    }\n",
       "\n",
       "    .dataframe tbody tr th {\n",
       "        vertical-align: top;\n",
       "    }\n",
       "\n",
       "    .dataframe thead th {\n",
       "        text-align: right;\n",
       "    }\n",
       "</style>\n",
       "<table border=\"1\" class=\"dataframe\">\n",
       "  <thead>\n",
       "    <tr style=\"text-align: right;\">\n",
       "      <th></th>\n",
       "      <th>log_price</th>\n",
       "      <th>tax_class_at_sale_2</th>\n",
       "      <th>tax_class_at_sale_3</th>\n",
       "      <th>tax_class_at_sale_4</th>\n",
       "      <th>SanitDistr_10.0</th>\n",
       "      <th>SanitDistr_11.0</th>\n",
       "      <th>SanitDistr_12.0</th>\n",
       "      <th>SanitDistr_13.0</th>\n",
       "      <th>SanitDistr_14.0</th>\n",
       "      <th>SanitDistr_15.0</th>\n",
       "      <th>...</th>\n",
       "      <th>SchoolDist_15.0</th>\n",
       "      <th>SchoolDist_16.0</th>\n",
       "      <th>SchoolDist_17.0</th>\n",
       "      <th>SchoolDist_18.0</th>\n",
       "      <th>SchoolDist_19.0</th>\n",
       "      <th>SchoolDist_20.0</th>\n",
       "      <th>SchoolDist_21.0</th>\n",
       "      <th>SchoolDist_22.0</th>\n",
       "      <th>SchoolDist_23.0</th>\n",
       "      <th>SchoolDist_32.0</th>\n",
       "    </tr>\n",
       "  </thead>\n",
       "  <tbody>\n",
       "    <tr>\n",
       "      <th>2</th>\n",
       "      <td>19.644456</td>\n",
       "      <td>0</td>\n",
       "      <td>0</td>\n",
       "      <td>1</td>\n",
       "      <td>0</td>\n",
       "      <td>0</td>\n",
       "      <td>0</td>\n",
       "      <td>0</td>\n",
       "      <td>0</td>\n",
       "      <td>0</td>\n",
       "      <td>...</td>\n",
       "      <td>0</td>\n",
       "      <td>0</td>\n",
       "      <td>0</td>\n",
       "      <td>0</td>\n",
       "      <td>0</td>\n",
       "      <td>0</td>\n",
       "      <td>0</td>\n",
       "      <td>0</td>\n",
       "      <td>0</td>\n",
       "      <td>0</td>\n",
       "    </tr>\n",
       "    <tr>\n",
       "      <th>3</th>\n",
       "      <td>19.439337</td>\n",
       "      <td>0</td>\n",
       "      <td>0</td>\n",
       "      <td>1</td>\n",
       "      <td>0</td>\n",
       "      <td>0</td>\n",
       "      <td>0</td>\n",
       "      <td>0</td>\n",
       "      <td>0</td>\n",
       "      <td>0</td>\n",
       "      <td>...</td>\n",
       "      <td>0</td>\n",
       "      <td>0</td>\n",
       "      <td>0</td>\n",
       "      <td>0</td>\n",
       "      <td>0</td>\n",
       "      <td>0</td>\n",
       "      <td>0</td>\n",
       "      <td>1</td>\n",
       "      <td>0</td>\n",
       "      <td>0</td>\n",
       "    </tr>\n",
       "    <tr>\n",
       "      <th>4</th>\n",
       "      <td>19.126250</td>\n",
       "      <td>0</td>\n",
       "      <td>0</td>\n",
       "      <td>1</td>\n",
       "      <td>0</td>\n",
       "      <td>0</td>\n",
       "      <td>0</td>\n",
       "      <td>0</td>\n",
       "      <td>0</td>\n",
       "      <td>0</td>\n",
       "      <td>...</td>\n",
       "      <td>0</td>\n",
       "      <td>0</td>\n",
       "      <td>0</td>\n",
       "      <td>0</td>\n",
       "      <td>0</td>\n",
       "      <td>0</td>\n",
       "      <td>0</td>\n",
       "      <td>0</td>\n",
       "      <td>0</td>\n",
       "      <td>0</td>\n",
       "    </tr>\n",
       "    <tr>\n",
       "      <th>6</th>\n",
       "      <td>18.957174</td>\n",
       "      <td>0</td>\n",
       "      <td>0</td>\n",
       "      <td>1</td>\n",
       "      <td>0</td>\n",
       "      <td>0</td>\n",
       "      <td>0</td>\n",
       "      <td>0</td>\n",
       "      <td>0</td>\n",
       "      <td>0</td>\n",
       "      <td>...</td>\n",
       "      <td>0</td>\n",
       "      <td>0</td>\n",
       "      <td>0</td>\n",
       "      <td>0</td>\n",
       "      <td>0</td>\n",
       "      <td>0</td>\n",
       "      <td>0</td>\n",
       "      <td>0</td>\n",
       "      <td>0</td>\n",
       "      <td>0</td>\n",
       "    </tr>\n",
       "    <tr>\n",
       "      <th>7</th>\n",
       "      <td>18.945409</td>\n",
       "      <td>1</td>\n",
       "      <td>0</td>\n",
       "      <td>0</td>\n",
       "      <td>0</td>\n",
       "      <td>0</td>\n",
       "      <td>0</td>\n",
       "      <td>0</td>\n",
       "      <td>0</td>\n",
       "      <td>0</td>\n",
       "      <td>...</td>\n",
       "      <td>0</td>\n",
       "      <td>0</td>\n",
       "      <td>0</td>\n",
       "      <td>0</td>\n",
       "      <td>0</td>\n",
       "      <td>0</td>\n",
       "      <td>0</td>\n",
       "      <td>0</td>\n",
       "      <td>0</td>\n",
       "      <td>0</td>\n",
       "    </tr>\n",
       "  </tbody>\n",
       "</table>\n",
       "<p>5 rows × 55 columns</p>\n",
       "</div>"
      ],
      "text/plain": [
       "   log_price  tax_class_at_sale_2  tax_class_at_sale_3  tax_class_at_sale_4  \\\n",
       "2  19.644456                    0                    0                    1   \n",
       "3  19.439337                    0                    0                    1   \n",
       "4  19.126250                    0                    0                    1   \n",
       "6  18.957174                    0                    0                    1   \n",
       "7  18.945409                    1                    0                    0   \n",
       "\n",
       "   SanitDistr_10.0  SanitDistr_11.0  SanitDistr_12.0  SanitDistr_13.0  \\\n",
       "2                0                0                0                0   \n",
       "3                0                0                0                0   \n",
       "4                0                0                0                0   \n",
       "6                0                0                0                0   \n",
       "7                0                0                0                0   \n",
       "\n",
       "   SanitDistr_14.0  SanitDistr_15.0       ...         SchoolDist_15.0  \\\n",
       "2                0                0       ...                       0   \n",
       "3                0                0       ...                       0   \n",
       "4                0                0       ...                       0   \n",
       "6                0                0       ...                       0   \n",
       "7                0                0       ...                       0   \n",
       "\n",
       "   SchoolDist_16.0  SchoolDist_17.0  SchoolDist_18.0  SchoolDist_19.0  \\\n",
       "2                0                0                0                0   \n",
       "3                0                0                0                0   \n",
       "4                0                0                0                0   \n",
       "6                0                0                0                0   \n",
       "7                0                0                0                0   \n",
       "\n",
       "   SchoolDist_20.0  SchoolDist_21.0  SchoolDist_22.0  SchoolDist_23.0  \\\n",
       "2                0                0                0                0   \n",
       "3                0                0                1                0   \n",
       "4                0                0                0                0   \n",
       "6                0                0                0                0   \n",
       "7                0                0                0                0   \n",
       "\n",
       "   SchoolDist_32.0  \n",
       "2                0  \n",
       "3                0  \n",
       "4                0  \n",
       "6                0  \n",
       "7                0  \n",
       "\n",
       "[5 rows x 55 columns]"
      ]
     },
     "execution_count": 87,
     "metadata": {},
     "output_type": "execute_result"
    }
   ],
   "source": [
    "#What does the dataset look like now?\n",
    "\n",
    "brooklyn_dummy.head()"
   ]
  },
  {
   "cell_type": "code",
   "execution_count": 88,
   "metadata": {},
   "outputs": [
    {
     "data": {
      "text/plain": [
       "log_price              1.000000\n",
       "PolicePrct_84.0        0.123607\n",
       "SanitDistr_2.0         0.108206\n",
       "tax_class_at_sale_4    0.101250\n",
       "SchoolDist_14.0        0.083758\n",
       "SchoolDist_15.0        0.076339\n",
       "PolicePrct_94.0        0.068740\n",
       "SanitDistr_6.0         0.060141\n",
       "PolicePrct_78.0        0.055243\n",
       "PolicePrct_90.0        0.046658\n",
       "tax_class_at_sale_2    0.044815\n",
       "SchoolDist_20.0        0.044733\n",
       "SanitDistr_10.0        0.034736\n",
       "PolicePrct_68.0        0.034569\n",
       "SchoolDist_21.0        0.033752\n",
       "PolicePrct_62.0        0.032221\n",
       "SanitDistr_11.0        0.030874\n",
       "SanitDistr_15.0        0.030570\n",
       "PolicePrct_61.0        0.028063\n",
       "PolicePrct_88.0        0.025513\n",
       "SanitDistr_7.0         0.023808\n",
       "SanitDistr_14.0        0.023538\n",
       "PolicePrct_76.0        0.023433\n",
       "PolicePrct_70.0        0.022385\n",
       "PolicePrct_66.0        0.021897\n",
       "PolicePrct_72.0        0.021338\n",
       "SanitDistr_12.0        0.017460\n",
       "tax_class_at_sale_3    0.016105\n",
       "SanitDistr_9.0         0.007129\n",
       "SanitDistr_13.0        0.006989\n",
       "PolicePrct_71.0        0.005318\n",
       "SanitDistr_55.0        0.001865\n",
       "SchoolDist_22.0       -0.005824\n",
       "SchoolDist_17.0       -0.028421\n",
       "PolicePrct_69.0       -0.030541\n",
       "PolicePrct_63.0       -0.030808\n",
       "SanitDistr_8.0        -0.040236\n",
       "PolicePrct_77.0       -0.040340\n",
       "SanitDistr_18.0       -0.042863\n",
       "PolicePrct_79.0       -0.042987\n",
       "PolicePrct_81.0       -0.043107\n",
       "PolicePrct_83.0       -0.043948\n",
       "SanitDistr_17.0       -0.046683\n",
       "PolicePrct_67.0       -0.046893\n",
       "SchoolDist_32.0       -0.047342\n",
       "SanitDistr_4.0        -0.047902\n",
       "SchoolDist_18.0       -0.052675\n",
       "SchoolDist_16.0       -0.056613\n",
       "SanitDistr_3.0        -0.061007\n",
       "SanitDistr_16.0       -0.072467\n",
       "SchoolDist_23.0       -0.073887\n",
       "PolicePrct_73.0       -0.074056\n",
       "SanitDistr_5.0        -0.104428\n",
       "SchoolDist_19.0       -0.105808\n",
       "PolicePrct_75.0       -0.106142\n",
       "Name: log_price, dtype: float64"
      ]
     },
     "execution_count": 88,
     "metadata": {},
     "output_type": "execute_result"
    }
   ],
   "source": [
    "#I tried using a Seaborn heatmap, but it didn't look nice at all.\n",
    "\n",
    "#There are some variables lightly correlated to the log of the sale price.\n",
    "\n",
    "brooklyn_dummy.corr().loc[:, 'log_price'].sort_values(ascending=False)"
   ]
  },
  {
   "cell_type": "markdown",
   "metadata": {},
   "source": [
    "# Improving the Model Part 1"
   ]
  },
  {
   "cell_type": "code",
   "execution_count": 89,
   "metadata": {},
   "outputs": [],
   "source": [
    "#Here I am setting up a separate series to create a better predictive model.\n",
    "\n",
    "new_regression = brooklyn.loc[:,['tax_class_at_sale','SanitDistr','PolicePrct','SchoolDist','log_price','log_sqft','log_assess','log_area']]"
   ]
  },
  {
   "cell_type": "code",
   "execution_count": 90,
   "metadata": {},
   "outputs": [
    {
     "data": {
      "text/html": [
       "<div>\n",
       "<style scoped>\n",
       "    .dataframe tbody tr th:only-of-type {\n",
       "        vertical-align: middle;\n",
       "    }\n",
       "\n",
       "    .dataframe tbody tr th {\n",
       "        vertical-align: top;\n",
       "    }\n",
       "\n",
       "    .dataframe thead th {\n",
       "        text-align: right;\n",
       "    }\n",
       "</style>\n",
       "<table border=\"1\" class=\"dataframe\">\n",
       "  <thead>\n",
       "    <tr style=\"text-align: right;\">\n",
       "      <th></th>\n",
       "      <th>tax_class_at_sale</th>\n",
       "      <th>SanitDistr</th>\n",
       "      <th>PolicePrct</th>\n",
       "      <th>SchoolDist</th>\n",
       "      <th>log_price</th>\n",
       "      <th>log_sqft</th>\n",
       "      <th>log_assess</th>\n",
       "      <th>log_area</th>\n",
       "    </tr>\n",
       "  </thead>\n",
       "  <tbody>\n",
       "    <tr>\n",
       "      <th>2</th>\n",
       "      <td>4</td>\n",
       "      <td>2.0</td>\n",
       "      <td>84.0</td>\n",
       "      <td>13.0</td>\n",
       "      <td>19.644456</td>\n",
       "      <td>12.626919</td>\n",
       "      <td>17.052747</td>\n",
       "      <td>12.626919</td>\n",
       "    </tr>\n",
       "    <tr>\n",
       "      <th>3</th>\n",
       "      <td>4</td>\n",
       "      <td>18.0</td>\n",
       "      <td>63.0</td>\n",
       "      <td>22.0</td>\n",
       "      <td>19.439337</td>\n",
       "      <td>14.750819</td>\n",
       "      <td>18.824761</td>\n",
       "      <td>14.750819</td>\n",
       "    </tr>\n",
       "    <tr>\n",
       "      <th>4</th>\n",
       "      <td>4</td>\n",
       "      <td>2.0</td>\n",
       "      <td>84.0</td>\n",
       "      <td>13.0</td>\n",
       "      <td>19.126250</td>\n",
       "      <td>12.782686</td>\n",
       "      <td>17.117479</td>\n",
       "      <td>10.308953</td>\n",
       "    </tr>\n",
       "    <tr>\n",
       "      <th>6</th>\n",
       "      <td>4</td>\n",
       "      <td>2.0</td>\n",
       "      <td>84.0</td>\n",
       "      <td>13.0</td>\n",
       "      <td>18.957174</td>\n",
       "      <td>12.579152</td>\n",
       "      <td>17.158708</td>\n",
       "      <td>12.579152</td>\n",
       "    </tr>\n",
       "    <tr>\n",
       "      <th>7</th>\n",
       "      <td>2</td>\n",
       "      <td>1.0</td>\n",
       "      <td>94.0</td>\n",
       "      <td>14.0</td>\n",
       "      <td>18.945409</td>\n",
       "      <td>12.395717</td>\n",
       "      <td>16.992132</td>\n",
       "      <td>10.236382</td>\n",
       "    </tr>\n",
       "  </tbody>\n",
       "</table>\n",
       "</div>"
      ],
      "text/plain": [
       "  tax_class_at_sale SanitDistr PolicePrct SchoolDist  log_price   log_sqft  \\\n",
       "2                 4        2.0       84.0       13.0  19.644456  12.626919   \n",
       "3                 4       18.0       63.0       22.0  19.439337  14.750819   \n",
       "4                 4        2.0       84.0       13.0  19.126250  12.782686   \n",
       "6                 4        2.0       84.0       13.0  18.957174  12.579152   \n",
       "7                 2        1.0       94.0       14.0  18.945409  12.395717   \n",
       "\n",
       "   log_assess   log_area  \n",
       "2   17.052747  12.626919  \n",
       "3   18.824761  14.750819  \n",
       "4   17.117479  10.308953  \n",
       "6   17.158708  12.579152  \n",
       "7   16.992132  10.236382  "
      ]
     },
     "execution_count": 90,
     "metadata": {},
     "output_type": "execute_result"
    }
   ],
   "source": [
    "new_regression.head()"
   ]
  },
  {
   "cell_type": "code",
   "execution_count": 91,
   "metadata": {},
   "outputs": [],
   "source": [
    "new_regression = pd.get_dummies(new_regression, columns=['tax_class_at_sale','SanitDistr','PolicePrct','SchoolDist'], drop_first=True)"
   ]
  },
  {
   "cell_type": "code",
   "execution_count": 92,
   "metadata": {},
   "outputs": [
    {
     "data": {
      "text/html": [
       "<div>\n",
       "<style scoped>\n",
       "    .dataframe tbody tr th:only-of-type {\n",
       "        vertical-align: middle;\n",
       "    }\n",
       "\n",
       "    .dataframe tbody tr th {\n",
       "        vertical-align: top;\n",
       "    }\n",
       "\n",
       "    .dataframe thead th {\n",
       "        text-align: right;\n",
       "    }\n",
       "</style>\n",
       "<table border=\"1\" class=\"dataframe\">\n",
       "  <thead>\n",
       "    <tr style=\"text-align: right;\">\n",
       "      <th></th>\n",
       "      <th>log_price</th>\n",
       "      <th>log_sqft</th>\n",
       "      <th>log_assess</th>\n",
       "      <th>log_area</th>\n",
       "      <th>tax_class_at_sale_2</th>\n",
       "      <th>tax_class_at_sale_3</th>\n",
       "      <th>tax_class_at_sale_4</th>\n",
       "      <th>SanitDistr_10.0</th>\n",
       "      <th>SanitDistr_11.0</th>\n",
       "      <th>SanitDistr_12.0</th>\n",
       "      <th>...</th>\n",
       "      <th>SchoolDist_15.0</th>\n",
       "      <th>SchoolDist_16.0</th>\n",
       "      <th>SchoolDist_17.0</th>\n",
       "      <th>SchoolDist_18.0</th>\n",
       "      <th>SchoolDist_19.0</th>\n",
       "      <th>SchoolDist_20.0</th>\n",
       "      <th>SchoolDist_21.0</th>\n",
       "      <th>SchoolDist_22.0</th>\n",
       "      <th>SchoolDist_23.0</th>\n",
       "      <th>SchoolDist_32.0</th>\n",
       "    </tr>\n",
       "  </thead>\n",
       "  <tbody>\n",
       "    <tr>\n",
       "      <th>2</th>\n",
       "      <td>19.644456</td>\n",
       "      <td>12.626919</td>\n",
       "      <td>17.052747</td>\n",
       "      <td>12.626919</td>\n",
       "      <td>0</td>\n",
       "      <td>0</td>\n",
       "      <td>1</td>\n",
       "      <td>0</td>\n",
       "      <td>0</td>\n",
       "      <td>0</td>\n",
       "      <td>...</td>\n",
       "      <td>0</td>\n",
       "      <td>0</td>\n",
       "      <td>0</td>\n",
       "      <td>0</td>\n",
       "      <td>0</td>\n",
       "      <td>0</td>\n",
       "      <td>0</td>\n",
       "      <td>0</td>\n",
       "      <td>0</td>\n",
       "      <td>0</td>\n",
       "    </tr>\n",
       "    <tr>\n",
       "      <th>3</th>\n",
       "      <td>19.439337</td>\n",
       "      <td>14.750819</td>\n",
       "      <td>18.824761</td>\n",
       "      <td>14.750819</td>\n",
       "      <td>0</td>\n",
       "      <td>0</td>\n",
       "      <td>1</td>\n",
       "      <td>0</td>\n",
       "      <td>0</td>\n",
       "      <td>0</td>\n",
       "      <td>...</td>\n",
       "      <td>0</td>\n",
       "      <td>0</td>\n",
       "      <td>0</td>\n",
       "      <td>0</td>\n",
       "      <td>0</td>\n",
       "      <td>0</td>\n",
       "      <td>0</td>\n",
       "      <td>1</td>\n",
       "      <td>0</td>\n",
       "      <td>0</td>\n",
       "    </tr>\n",
       "    <tr>\n",
       "      <th>4</th>\n",
       "      <td>19.126250</td>\n",
       "      <td>12.782686</td>\n",
       "      <td>17.117479</td>\n",
       "      <td>10.308953</td>\n",
       "      <td>0</td>\n",
       "      <td>0</td>\n",
       "      <td>1</td>\n",
       "      <td>0</td>\n",
       "      <td>0</td>\n",
       "      <td>0</td>\n",
       "      <td>...</td>\n",
       "      <td>0</td>\n",
       "      <td>0</td>\n",
       "      <td>0</td>\n",
       "      <td>0</td>\n",
       "      <td>0</td>\n",
       "      <td>0</td>\n",
       "      <td>0</td>\n",
       "      <td>0</td>\n",
       "      <td>0</td>\n",
       "      <td>0</td>\n",
       "    </tr>\n",
       "    <tr>\n",
       "      <th>6</th>\n",
       "      <td>18.957174</td>\n",
       "      <td>12.579152</td>\n",
       "      <td>17.158708</td>\n",
       "      <td>12.579152</td>\n",
       "      <td>0</td>\n",
       "      <td>0</td>\n",
       "      <td>1</td>\n",
       "      <td>0</td>\n",
       "      <td>0</td>\n",
       "      <td>0</td>\n",
       "      <td>...</td>\n",
       "      <td>0</td>\n",
       "      <td>0</td>\n",
       "      <td>0</td>\n",
       "      <td>0</td>\n",
       "      <td>0</td>\n",
       "      <td>0</td>\n",
       "      <td>0</td>\n",
       "      <td>0</td>\n",
       "      <td>0</td>\n",
       "      <td>0</td>\n",
       "    </tr>\n",
       "    <tr>\n",
       "      <th>7</th>\n",
       "      <td>18.945409</td>\n",
       "      <td>12.395717</td>\n",
       "      <td>16.992132</td>\n",
       "      <td>10.236382</td>\n",
       "      <td>1</td>\n",
       "      <td>0</td>\n",
       "      <td>0</td>\n",
       "      <td>0</td>\n",
       "      <td>0</td>\n",
       "      <td>0</td>\n",
       "      <td>...</td>\n",
       "      <td>0</td>\n",
       "      <td>0</td>\n",
       "      <td>0</td>\n",
       "      <td>0</td>\n",
       "      <td>0</td>\n",
       "      <td>0</td>\n",
       "      <td>0</td>\n",
       "      <td>0</td>\n",
       "      <td>0</td>\n",
       "      <td>0</td>\n",
       "    </tr>\n",
       "  </tbody>\n",
       "</table>\n",
       "<p>5 rows × 58 columns</p>\n",
       "</div>"
      ],
      "text/plain": [
       "   log_price   log_sqft  log_assess   log_area  tax_class_at_sale_2  \\\n",
       "2  19.644456  12.626919   17.052747  12.626919                    0   \n",
       "3  19.439337  14.750819   18.824761  14.750819                    0   \n",
       "4  19.126250  12.782686   17.117479  10.308953                    0   \n",
       "6  18.957174  12.579152   17.158708  12.579152                    0   \n",
       "7  18.945409  12.395717   16.992132  10.236382                    1   \n",
       "\n",
       "   tax_class_at_sale_3  tax_class_at_sale_4  SanitDistr_10.0  SanitDistr_11.0  \\\n",
       "2                    0                    1                0                0   \n",
       "3                    0                    1                0                0   \n",
       "4                    0                    1                0                0   \n",
       "6                    0                    1                0                0   \n",
       "7                    0                    0                0                0   \n",
       "\n",
       "   SanitDistr_12.0       ...         SchoolDist_15.0  SchoolDist_16.0  \\\n",
       "2                0       ...                       0                0   \n",
       "3                0       ...                       0                0   \n",
       "4                0       ...                       0                0   \n",
       "6                0       ...                       0                0   \n",
       "7                0       ...                       0                0   \n",
       "\n",
       "   SchoolDist_17.0  SchoolDist_18.0  SchoolDist_19.0  SchoolDist_20.0  \\\n",
       "2                0                0                0                0   \n",
       "3                0                0                0                0   \n",
       "4                0                0                0                0   \n",
       "6                0                0                0                0   \n",
       "7                0                0                0                0   \n",
       "\n",
       "   SchoolDist_21.0  SchoolDist_22.0  SchoolDist_23.0  SchoolDist_32.0  \n",
       "2                0                0                0                0  \n",
       "3                0                1                0                0  \n",
       "4                0                0                0                0  \n",
       "6                0                0                0                0  \n",
       "7                0                0                0                0  \n",
       "\n",
       "[5 rows x 58 columns]"
      ]
     },
     "execution_count": 92,
     "metadata": {},
     "output_type": "execute_result"
    }
   ],
   "source": [
    "new_regression.head()"
   ]
  },
  {
   "cell_type": "code",
   "execution_count": 93,
   "metadata": {},
   "outputs": [],
   "source": [
    "#Separating the variables between X and y\n",
    "\n",
    "X = new_regression.drop('log_price', axis='columns')\n",
    "y = new_regression.loc[:, 'log_price']"
   ]
  },
  {
   "cell_type": "code",
   "execution_count": 94,
   "metadata": {},
   "outputs": [],
   "source": [
    "#Setting up a training set and a test set\n",
    "#test_size = .3 means 30% of the data is set aside for the test set. 70% of the data is used for the training set\n",
    "#You could also use train_size if you wish\n",
    "\n",
    "from sklearn.model_selection import train_test_split\n",
    "\n",
    "X_train, X_test, y_train, y_test = train_test_split(X, y, test_size = .3, random_state=30)"
   ]
  },
  {
   "cell_type": "code",
   "execution_count": 95,
   "metadata": {},
   "outputs": [
    {
     "data": {
      "text/plain": [
       "LinearRegression(copy_X=True, fit_intercept=True, n_jobs=None,\n",
       "         normalize=False)"
      ]
     },
     "execution_count": 95,
     "metadata": {},
     "output_type": "execute_result"
    }
   ],
   "source": [
    "#Setting up a linear regression model using the training set\n",
    "\n",
    "from sklearn.linear_model import LinearRegression\n",
    "\n",
    "lr = LinearRegression()\n",
    "\n",
    "lr.fit(X_train, y_train)"
   ]
  },
  {
   "cell_type": "code",
   "execution_count": 96,
   "metadata": {},
   "outputs": [
    {
     "name": "stdout",
     "output_type": "stream",
     "text": [
      "0.14127694049819828\n",
      "0.13817807663341786\n"
     ]
    }
   ],
   "source": [
    "#Scoring the model on the training set and test set.\n",
    "\n",
    "print(lr.score(X_train, y_train))\n",
    "print(lr.score(X_test, y_test))"
   ]
  },
  {
   "cell_type": "markdown",
   "metadata": {},
   "source": [
    "### Observations"
   ]
  },
  {
   "cell_type": "markdown",
   "metadata": {},
   "source": [
    "My new model did not capture as much of the variance as the first-pass model (14% to 16%). However, there is only a slight difference in R-squared values from my training set to my test set so I believe I reduced the variance problem greatly. I also believe the feature variables I have in my new model are cleaner and more logical than the first-pass model."
   ]
  },
  {
   "cell_type": "markdown",
   "metadata": {},
   "source": [
    "# Random Forest Regression"
   ]
  },
  {
   "cell_type": "markdown",
   "metadata": {},
   "source": [
    "Using the same series (new_regression) I wanted to see if a Random Forest Regression would be a better predictive model than a standard linear regression"
   ]
  },
  {
   "cell_type": "code",
   "execution_count": 97,
   "metadata": {},
   "outputs": [],
   "source": [
    "#Separating the variables between X and y\n",
    "\n",
    "X2 = new_regression.drop('log_price', axis='columns')\n",
    "y2 = new_regression.loc[:, 'log_price']"
   ]
  },
  {
   "cell_type": "code",
   "execution_count": 98,
   "metadata": {},
   "outputs": [],
   "source": [
    "#Setting up a training set and a test set\n",
    "#test_size = .3 means 30% of the data is set aside for the test set. 70% of the data is used for the training set\n",
    "#You could also use train_size if you wish\n",
    "\n",
    "from sklearn.model_selection import train_test_split\n",
    "\n",
    "X2_train, X2_test, y2_train, y2_test = train_test_split(X2, y2, test_size = .3, random_state=30)"
   ]
  },
  {
   "cell_type": "code",
   "execution_count": 99,
   "metadata": {},
   "outputs": [
    {
     "name": "stdout",
     "output_type": "stream",
     "text": [
      "0.7674510619616797\n",
      "0.0201628194865473\n"
     ]
    }
   ],
   "source": [
    "from sklearn.ensemble import RandomForestRegressor\n",
    "\n",
    "rfr = RandomForestRegressor(n_estimators=200)\n",
    "rfr.fit(X2_train, y2_train)\n",
    "print(rfr.score(X2_train, y2_train))\n",
    "print(rfr.score(X2_test, y2_test))"
   ]
  },
  {
   "cell_type": "markdown",
   "metadata": {},
   "source": [
    "This obvioulsy did not turn out well. The R-squared values for the training set and test set are so different that I don't really even know how to interpret the findings. Essentially the Random Forest model just seems very useless. "
   ]
  },
  {
   "cell_type": "markdown",
   "metadata": {},
   "source": [
    "# Further Feature Variable Analysis"
   ]
  },
  {
   "cell_type": "code",
   "execution_count": 100,
   "metadata": {},
   "outputs": [
    {
     "data": {
      "text/plain": [
       "log_price            1.000000\n",
       "sale_price           0.364995\n",
       "log_assess           0.307295\n",
       "log_sqft             0.289953\n",
       "log_area             0.250965\n",
       "year_of_sale         0.212903\n",
       "LotFront             0.197773\n",
       "BldgFront            0.189912\n",
       "SHAPE_Leng           0.176215\n",
       "BldgArea             0.168297\n",
       "gross_sqft           0.158795\n",
       "BuiltFAR             0.148663\n",
       "ComArea              0.145052\n",
       "NumFloors            0.144699\n",
       "BldgDepth            0.135731\n",
       "CommFAR              0.131965\n",
       "SHAPE_Area           0.118341\n",
       "LotDepth             0.109287\n",
       "UnitsTotal           0.104596\n",
       "LotArea              0.103704\n",
       "AssessTot            0.102366\n",
       "land_sqft            0.102031\n",
       "AssessLand           0.093902\n",
       "commercial_units     0.091040\n",
       "UnitsRes             0.089658\n",
       "ResArea              0.084947\n",
       "residential_units    0.078034\n",
       "ResidFAR             0.065960\n",
       "NumBldgs             0.056797\n",
       "LandUse              0.043850\n",
       "ExemptTot            0.038878\n",
       "HealthCent           0.038406\n",
       "Easements            0.032872\n",
       "FacilFAR             0.030174\n",
       "BsmtCode             0.026121\n",
       "AreaSource           0.022846\n",
       "year_built           0.011728\n",
       "YCoord               0.010206\n",
       "ExemptLand           0.009215\n",
       "CB2010               0.003057\n",
       "lot                 -0.013952\n",
       "Tract2010           -0.014582\n",
       "zip_code            -0.018278\n",
       "block               -0.022234\n",
       "BBL                 -0.022234\n",
       "TaxMap              -0.026425\n",
       "XCoord              -0.029011\n",
       "HealthArea          -0.030116\n",
       "Council             -0.030445\n",
       "ProxCode            -0.045120\n",
       "CD                  -0.058598\n",
       "LotType             -0.086825\n",
       "CT2010              -0.129669\n",
       "Name: log_price, dtype: float64"
      ]
     },
     "execution_count": 100,
     "metadata": {},
     "output_type": "execute_result"
    }
   ],
   "source": [
    "#After lots of cleaning of the dataset, what other feature variables can I include in my model?\n",
    "\n",
    "brooklyn.corr().loc[:, 'log_price'].sort_values(ascending=False)"
   ]
  },
  {
   "cell_type": "code",
   "execution_count": 101,
   "metadata": {},
   "outputs": [],
   "source": [
    "#SHAPE_Area is not in the dictionary, so even if it helps the model I will not use it.\n",
    "\n",
    "#SHAPE_Leng is not in the dictionary, so even if it helps the model I will not use it.\n",
    "\n",
    "#Year of sale might be very important, but I am going to leave it out of this analysis\n"
   ]
  },
  {
   "cell_type": "code",
   "execution_count": 102,
   "metadata": {},
   "outputs": [
    {
     "data": {
      "text/plain": [
       "20.00     4460\n",
       "25.00     2050\n",
       "40.00      634\n",
       "50.00      517\n",
       "100.00     434\n",
       "19.00      339\n",
       "18.00      253\n",
       "60.00      243\n",
       "30.00      210\n",
       "22.00      205\n",
       "19.50      201\n",
       "200.00     195\n",
       "80.00      167\n",
       "75.00      146\n",
       "20.17      137\n",
       "26.00      130\n",
       "20.33      118\n",
       "16.00      118\n",
       "21.00      115\n",
       "18.75      105\n",
       "16.67       98\n",
       "20.50       95\n",
       "24.00       93\n",
       "19.67       89\n",
       "19.17       87\n",
       "19.33       80\n",
       "22.25       77\n",
       "19.75       72\n",
       "23.00       64\n",
       "20.25       63\n",
       "          ... \n",
       "650.00       1\n",
       "683.25       1\n",
       "397.00       1\n",
       "104.67       1\n",
       "491.83       1\n",
       "160.92       1\n",
       "47.75        1\n",
       "343.00       1\n",
       "43.83        1\n",
       "111.25       1\n",
       "38.17        1\n",
       "756.00       1\n",
       "105.60       1\n",
       "109.42       1\n",
       "80.08        1\n",
       "59.67        1\n",
       "44.92        1\n",
       "148.50       1\n",
       "137.56       1\n",
       "212.00       1\n",
       "133.17       1\n",
       "189.83       1\n",
       "81.83        1\n",
       "50.57        1\n",
       "24.44        1\n",
       "63.67        1\n",
       "70.92        1\n",
       "348.75       1\n",
       "38.75        1\n",
       "181.25       1\n",
       "Name: LotFront, Length: 1520, dtype: int64"
      ]
     },
     "execution_count": 102,
     "metadata": {},
     "output_type": "execute_result"
    }
   ],
   "source": [
    "#LotFront is the tax lot's frontage measured in feet.\n",
    "\n",
    "#If a lot fronts on more than one street, the RPAD building address often determines which side of the lot used for \n",
    "#calculating lot frontage.\n",
    "\n",
    "\n",
    "brooklyn.loc[:,\"LotFront\"].value_counts()"
   ]
  },
  {
   "cell_type": "code",
   "execution_count": 103,
   "metadata": {},
   "outputs": [],
   "source": [
    "#I am comfortable scrubbing all zero values for LotFront\n",
    "\n",
    "brooklyn = brooklyn[brooklyn.LotFront != 0]"
   ]
  },
  {
   "cell_type": "code",
   "execution_count": 104,
   "metadata": {},
   "outputs": [
    {
     "data": {
      "image/png": "[encoded data removed]",
      "text/plain": [
       "<Figure size 432x288 with 1 Axes>"
      ]
     },
     "metadata": {
      "needs_background": "light"
     },
     "output_type": "display_data"
    }
   ],
   "source": [
    "#What does the distribution of LotFront look like?\n",
    "\n",
    "ax = brooklyn.loc[:,\"LotFront\"].plot(kind='hist', bins = 20)"
   ]
  },
  {
   "cell_type": "code",
   "execution_count": 105,
   "metadata": {},
   "outputs": [],
   "source": [
    "brooklyn.loc[:, 'log_front'] = np.log(brooklyn.loc[:, 'LotFront'])"
   ]
  },
  {
   "cell_type": "code",
   "execution_count": 106,
   "metadata": {},
   "outputs": [
    {
     "data": {
      "text/plain": [
       "20.00     5258\n",
       "25.00     2115\n",
       "50.00      544\n",
       "40.00      525\n",
       "19.00      465\n",
       "18.00      379\n",
       "22.00      368\n",
       "100.00     333\n",
       "30.00      264\n",
       "60.00      263\n",
       "19.50      213\n",
       "21.00      208\n",
       "16.00      181\n",
       "26.00      162\n",
       "24.00      157\n",
       "80.00      155\n",
       "75.00      139\n",
       "0.00       136\n",
       "23.00      129\n",
       "17.00      117\n",
       "200.00     116\n",
       "18.75       97\n",
       "20.50       95\n",
       "16.67       95\n",
       "19.67       95\n",
       "35.00       93\n",
       "27.00       90\n",
       "28.00       87\n",
       "90.00       79\n",
       "15.00       74\n",
       "          ... \n",
       "208.58       1\n",
       "75.67        1\n",
       "44.67        1\n",
       "74.83        1\n",
       "183.00       1\n",
       "55.42        1\n",
       "177.50       1\n",
       "29.40        1\n",
       "194.00       1\n",
       "127.00       1\n",
       "100.83       1\n",
       "165.92       1\n",
       "170.50       1\n",
       "49.17        1\n",
       "99.65        1\n",
       "224.00       1\n",
       "75.42        1\n",
       "222.00       1\n",
       "54.50        1\n",
       "83.50        1\n",
       "68.75        1\n",
       "27.92        1\n",
       "73.33        1\n",
       "19.80        1\n",
       "52.83        1\n",
       "96.67        1\n",
       "541.00       1\n",
       "118.75       1\n",
       "25.04        1\n",
       "56.83        1\n",
       "Name: BldgFront, Length: 978, dtype: int64"
      ]
     },
     "execution_count": 106,
     "metadata": {},
     "output_type": "execute_result"
    }
   ],
   "source": [
    "#BldgFront is the building’s frontage along the street measured in feet.\n",
    "\n",
    "brooklyn.loc[:,\"BldgFront\"].value_counts()"
   ]
  },
  {
   "cell_type": "code",
   "execution_count": 107,
   "metadata": {},
   "outputs": [],
   "source": [
    "#I am comfortable scrubbing all zero values for BldgFront\n",
    "\n",
    "brooklyn = brooklyn[brooklyn.BldgFront != 0]"
   ]
  },
  {
   "cell_type": "code",
   "execution_count": 108,
   "metadata": {},
   "outputs": [
    {
     "data": {
      "image/png": "[encoded data removed]",
      "text/plain": [
       "<Figure size 432x288 with 1 Axes>"
      ]
     },
     "metadata": {
      "needs_background": "light"
     },
     "output_type": "display_data"
    }
   ],
   "source": [
    "#What does the distribution of BldgFront look like?\n",
    "\n",
    "ax = brooklyn.loc[:,\"BldgFront\"].plot(kind='hist', bins = 20)"
   ]
  },
  {
   "cell_type": "code",
   "execution_count": 109,
   "metadata": {},
   "outputs": [],
   "source": [
    "brooklyn.loc[:, 'log_bldg'] = np.log(brooklyn.loc[:, 'BldgFront'])"
   ]
  },
  {
   "cell_type": "code",
   "execution_count": 110,
   "metadata": {},
   "outputs": [
    {
     "data": {
      "text/plain": [
       "3300.0      441\n",
       "3000.0      429\n",
       "4000.0      275\n",
       "3600.0      241\n",
       "2400.0      188\n",
       "5000.0      178\n",
       "2000.0      167\n",
       "2500.0      157\n",
       "2700.0      154\n",
       "3200.0      142\n",
       "4500.0      141\n",
       "6000.0      131\n",
       "4400.0      131\n",
       "10000.0     121\n",
       "4800.0      114\n",
       "3120.0      113\n",
       "2200.0      112\n",
       "4125.0      104\n",
       "1800.0       98\n",
       "2800.0       96\n",
       "4200.0       90\n",
       "3750.0       90\n",
       "3240.0       83\n",
       "2560.0       78\n",
       "3360.0       76\n",
       "4875.0       75\n",
       "1600.0       72\n",
       "2480.0       71\n",
       "3135.0       71\n",
       "3900.0       69\n",
       "           ... \n",
       "3827.0        1\n",
       "6210.0        1\n",
       "9445.0        1\n",
       "8950.0        1\n",
       "3387.0        1\n",
       "2012.0        1\n",
       "6716.0        1\n",
       "4272.0        1\n",
       "6952.0        1\n",
       "6467.0        1\n",
       "43932.0       1\n",
       "4796.0        1\n",
       "5030.0        1\n",
       "8175.0        1\n",
       "27096.0       1\n",
       "71500.0       1\n",
       "5327.0        1\n",
       "3894.0        1\n",
       "14310.0       1\n",
       "27090.0       1\n",
       "23398.0       1\n",
       "101790.0      1\n",
       "5236.0        1\n",
       "16206.0       1\n",
       "41712.0       1\n",
       "10467.0       1\n",
       "2261.0        1\n",
       "35741.0       1\n",
       "10920.0       1\n",
       "3591.0        1\n",
       "Name: BldgArea, Length: 4508, dtype: int64"
      ]
     },
     "execution_count": 110,
     "metadata": {},
     "output_type": "execute_result"
    }
   ],
   "source": [
    "#BldgArea is the total gross area in square feet, except for condominium measurements which come from the Condo \n",
    "#Declaration and are net square footage not gross.\n",
    "\n",
    "\n",
    "brooklyn.loc[:,\"BldgArea\"].value_counts()"
   ]
  },
  {
   "cell_type": "code",
   "execution_count": 111,
   "metadata": {},
   "outputs": [],
   "source": [
    "#I am comfortable scrubbing all zero values for BldgArea\n",
    "\n",
    "brooklyn = brooklyn[brooklyn.BldgArea != 0]"
   ]
  },
  {
   "cell_type": "code",
   "execution_count": 112,
   "metadata": {},
   "outputs": [
    {
     "data": {
      "image/png": "[encoded data removed]",
      "text/plain": [
       "<Figure size 432x288 with 1 Axes>"
      ]
     },
     "metadata": {
      "needs_background": "light"
     },
     "output_type": "display_data"
    }
   ],
   "source": [
    "#What does the distribution of BldgArea look like?\n",
    "\n",
    "ax = brooklyn.loc[:,\"BldgArea\"].plot(kind='hist', bins = 20)"
   ]
  },
  {
   "cell_type": "code",
   "execution_count": 113,
   "metadata": {},
   "outputs": [],
   "source": [
    "brooklyn.loc[:, 'log_bldgarea'] = np.log(brooklyn.loc[:, 'BldgArea'])"
   ]
  },
  {
   "cell_type": "code",
   "execution_count": 114,
   "metadata": {},
   "outputs": [
    {
     "data": {
      "text/plain": [
       "1.00     1222\n",
       "2.00      454\n",
       "1.65      258\n",
       "1.80      245\n",
       "1.50      236\n",
       "3.00      194\n",
       "1.20      182\n",
       "2.06      176\n",
       "1.95      153\n",
       "0.99      138\n",
       "2.10      135\n",
       "1.40      133\n",
       "2.40      133\n",
       "2.20      128\n",
       "1.88      123\n",
       "2.25      119\n",
       "1.60      117\n",
       "0.90      110\n",
       "0.96      109\n",
       "1.10      102\n",
       "2.70       99\n",
       "1.67       95\n",
       "2.60       94\n",
       "1.35       93\n",
       "1.74       92\n",
       "1.36       91\n",
       "1.56       89\n",
       "1.71       87\n",
       "2.50       87\n",
       "0.80       86\n",
       "         ... \n",
       "20.28       1\n",
       "5.81        1\n",
       "6.81        1\n",
       "7.67        1\n",
       "8.08        1\n",
       "8.18        1\n",
       "5.45        1\n",
       "15.00       1\n",
       "6.95        1\n",
       "7.87        1\n",
       "6.32        1\n",
       "4.17        1\n",
       "5.52        1\n",
       "6.24        1\n",
       "11.48       1\n",
       "7.57        1\n",
       "4.63        1\n",
       "8.42        1\n",
       "8.64        1\n",
       "8.27        1\n",
       "12.22       1\n",
       "7.08        1\n",
       "9.00        1\n",
       "14.00       1\n",
       "6.73        1\n",
       "5.38        1\n",
       "5.36        1\n",
       "11.01       1\n",
       "10.46       1\n",
       "5.11        1\n",
       "Name: BuiltFAR, Length: 635, dtype: int64"
      ]
     },
     "execution_count": 114,
     "metadata": {},
     "output_type": "execute_result"
    }
   ],
   "source": [
    "#The BUILT FLOOR AREA RATIO is the total building floor area divided by the area of the tax lot.\n",
    "\n",
    "brooklyn.loc[:,\"BuiltFAR\"].value_counts()"
   ]
  },
  {
   "cell_type": "code",
   "execution_count": 115,
   "metadata": {},
   "outputs": [],
   "source": [
    "#I am comfortable scrubbing all zero values for BuiltFAR\n",
    "\n",
    "brooklyn = brooklyn[brooklyn.BuiltFAR != 0]"
   ]
  },
  {
   "cell_type": "code",
   "execution_count": 116,
   "metadata": {},
   "outputs": [
    {
     "data": {
      "image/png": "[encoded data removed]",
      "text/plain": [
       "<Figure size 432x288 with 1 Axes>"
      ]
     },
     "metadata": {
      "needs_background": "light"
     },
     "output_type": "display_data"
    }
   ],
   "source": [
    "#What does the distribution of BuiltFAR look like?\n",
    "\n",
    "ax = brooklyn.loc[:,\"BuiltFAR\"].plot(kind='hist', bins = 20)"
   ]
  },
  {
   "cell_type": "code",
   "execution_count": 117,
   "metadata": {},
   "outputs": [],
   "source": [
    "brooklyn.loc[:, 'log_far'] = np.log(brooklyn.loc[:, 'BuiltFAR'])"
   ]
  },
  {
   "cell_type": "code",
   "execution_count": 118,
   "metadata": {},
   "outputs": [
    {
     "data": {
      "text/plain": [
       "3.00     6550\n",
       "2.00     4803\n",
       "1.00     3297\n",
       "4.00     2154\n",
       "6.00      308\n",
       "5.00      289\n",
       "7.00      110\n",
       "2.50       76\n",
       "8.00       65\n",
       "2.75       35\n",
       "3.50       20\n",
       "12.00      19\n",
       "1.50       19\n",
       "0.00       15\n",
       "10.00      14\n",
       "4.50       13\n",
       "9.00       11\n",
       "11.00       9\n",
       "1.25        9\n",
       "13.00       8\n",
       "3.75        6\n",
       "23.00       4\n",
       "14.00       4\n",
       "15.00       4\n",
       "19.00       3\n",
       "4.25        3\n",
       "20.00       3\n",
       "30.00       3\n",
       "51.00       2\n",
       "2.67        2\n",
       "37.00       2\n",
       "3.25        1\n",
       "5.75        1\n",
       "41.00       1\n",
       "33.00       1\n",
       "5.50        1\n",
       "1.75        1\n",
       "1.67        1\n",
       "28.50       1\n",
       "25.00       1\n",
       "57.00       1\n",
       "1.20        1\n",
       "22.00       1\n",
       "34.00       1\n",
       "24.00       1\n",
       "Name: NumFloors, dtype: int64"
      ]
     },
     "execution_count": 118,
     "metadata": {},
     "output_type": "execute_result"
    }
   ],
   "source": [
    "#NumFloors is the number of full and partial stories starting from the ground floor, for the tallest building on the tax lot.\n",
    "\n",
    "#Above ground basements are not included in the NUMBER OF FLOORS.\n",
    "\n",
    "#A roof used for parking, farming, playground, etc. is not included in NUMBER OF FLOORS.\n",
    "\n",
    "brooklyn.loc[:,\"NumFloors\"].value_counts()"
   ]
  },
  {
   "cell_type": "code",
   "execution_count": 119,
   "metadata": {},
   "outputs": [],
   "source": [
    "#I am comfortable scrubbing all zero values for NumFloors\n",
    "\n",
    "brooklyn = brooklyn[brooklyn.NumFloors != 0]"
   ]
  },
  {
   "cell_type": "code",
   "execution_count": 120,
   "metadata": {},
   "outputs": [
    {
     "data": {
      "image/png": "[encoded data removed]",
      "text/plain": [
       "<Figure size 432x288 with 1 Axes>"
      ]
     },
     "metadata": {
      "needs_background": "light"
     },
     "output_type": "display_data"
    }
   ],
   "source": [
    "#What does the distribution of NumFloors look like?\n",
    "\n",
    "ax = brooklyn.loc[:,\"NumFloors\"].plot(kind='hist', bins = 20)"
   ]
  },
  {
   "cell_type": "code",
   "execution_count": 121,
   "metadata": {},
   "outputs": [],
   "source": [
    "brooklyn.loc[:, 'log_floor'] = np.log(brooklyn.loc[:, 'NumFloors'])"
   ]
  },
  {
   "cell_type": "code",
   "execution_count": 122,
   "metadata": {},
   "outputs": [
    {
     "data": {
      "text/plain": [
       "55.00     1648\n",
       "100.00    1637\n",
       "50.00     1403\n",
       "60.00     1096\n",
       "45.00      695\n",
       "40.00      653\n",
       "90.00      604\n",
       "65.00      557\n",
       "80.00      517\n",
       "70.00      496\n",
       "75.00      354\n",
       "52.00      295\n",
       "35.00      279\n",
       "62.00      257\n",
       "56.00      225\n",
       "48.00      223\n",
       "85.00      212\n",
       "58.00      197\n",
       "95.00      186\n",
       "54.00      185\n",
       "64.00      182\n",
       "57.00      167\n",
       "42.00      165\n",
       "68.00      160\n",
       "30.00      156\n",
       "72.00      142\n",
       "200.00     123\n",
       "47.00      120\n",
       "63.00      120\n",
       "66.00      115\n",
       "          ... \n",
       "98.42        1\n",
       "27.77        1\n",
       "88.75        1\n",
       "35.42        1\n",
       "29.40        1\n",
       "70.92        1\n",
       "141.67       1\n",
       "308.00       1\n",
       "74.96        1\n",
       "56.83        1\n",
       "58.13        1\n",
       "150.33       1\n",
       "137.50       1\n",
       "19.92        1\n",
       "108.50       1\n",
       "264.42       1\n",
       "73.33        1\n",
       "81.75        1\n",
       "119.25       1\n",
       "79.58        1\n",
       "80.67        1\n",
       "178.83       1\n",
       "20.82        1\n",
       "53.83        1\n",
       "78.25        1\n",
       "112.08       1\n",
       "53.67        1\n",
       "96.56        1\n",
       "944.50       1\n",
       "170.50       1\n",
       "Name: BldgDepth, Length: 887, dtype: int64"
      ]
     },
     "execution_count": 122,
     "metadata": {},
     "output_type": "execute_result"
    }
   ],
   "source": [
    "#BldgDepth is the building’s depth, which is the effective perpendicular distance, measured in feet.\n",
    "\n",
    "brooklyn.loc[:,\"BldgDepth\"].value_counts()"
   ]
  },
  {
   "cell_type": "code",
   "execution_count": 123,
   "metadata": {},
   "outputs": [],
   "source": [
    "#I am comfortable scrubbing all zero values for BldgDepth\n",
    "\n",
    "brooklyn = brooklyn[brooklyn.BldgDepth != 0]"
   ]
  },
  {
   "cell_type": "code",
   "execution_count": 124,
   "metadata": {},
   "outputs": [
    {
     "data": {
      "image/png": "[encoded data removed]",
      "text/plain": [
       "<Figure size 432x288 with 1 Axes>"
      ]
     },
     "metadata": {
      "needs_background": "light"
     },
     "output_type": "display_data"
    }
   ],
   "source": [
    "#What does the distribution of BldgDepth look like?\n",
    "\n",
    "ax = brooklyn.loc[:,\"BldgDepth\"].plot(kind='hist', bins = 20)"
   ]
  },
  {
   "cell_type": "code",
   "execution_count": 125,
   "metadata": {},
   "outputs": [],
   "source": [
    "brooklyn.loc[:, 'log_depth'] = np.log(brooklyn.loc[:, 'BldgDepth'])"
   ]
  },
  {
   "cell_type": "code",
   "execution_count": 126,
   "metadata": {},
   "outputs": [
    {
     "data": {
      "text/plain": [
       "0.0     13162\n",
       "2.0      1918\n",
       "1.0      1690\n",
       "3.4       441\n",
       "4.0       275\n",
       "3.0       167\n",
       "10.0       75\n",
       "12.0       57\n",
       "4.2        38\n",
       "6.0        22\n",
       "5.0         6\n",
       "0.5         5\n",
       "Name: CommFAR, dtype: int64"
      ]
     },
     "execution_count": 126,
     "metadata": {},
     "output_type": "execute_result"
    }
   ],
   "source": [
    "#The maximum allowable commercial floor area ratio.\n",
    "\n",
    "#The maximum allowable commercial floor area ratios are exclusive of bonuses for plazas, plaza-connected open areas, \n",
    "#arcades, or other amenities.\n",
    "\n",
    "#CommFar might be useful, but the amount of zeroes makes me uneasy. I don't know enough about real-estate to assess this value\n",
    "#so I will not use it in the model\n",
    "\n",
    "brooklyn.loc[:,\"CommFAR\"].value_counts()"
   ]
  },
  {
   "cell_type": "code",
   "execution_count": 127,
   "metadata": {},
   "outputs": [
    {
     "data": {
      "text/plain": [
       "100.00    6431\n",
       "80.00     1182\n",
       "90.00      655\n",
       "75.00      449\n",
       "100.17     417\n",
       "95.00      248\n",
       "200.00     236\n",
       "60.00      204\n",
       "70.00      163\n",
       "50.00      163\n",
       "85.00      158\n",
       "110.00     111\n",
       "105.00     103\n",
       "125.00      86\n",
       "120.00      78\n",
       "82.00       64\n",
       "150.00      63\n",
       "40.00       63\n",
       "97.50       61\n",
       "96.67       53\n",
       "86.00       50\n",
       "92.00       48\n",
       "55.00       47\n",
       "95.17       39\n",
       "78.00       38\n",
       "52.50       37\n",
       "77.00       37\n",
       "100.33      37\n",
       "97.83       37\n",
       "72.00       37\n",
       "          ... \n",
       "215.75       1\n",
       "116.67       1\n",
       "159.17       1\n",
       "205.00       1\n",
       "58.83        1\n",
       "47.17        1\n",
       "89.48        1\n",
       "104.38       1\n",
       "99.80        1\n",
       "59.92        1\n",
       "405.00       1\n",
       "101.01       1\n",
       "39.83        1\n",
       "155.17       1\n",
       "59.42        1\n",
       "106.98       1\n",
       "150.65       1\n",
       "147.83       1\n",
       "67.25        1\n",
       "151.33       1\n",
       "174.50       1\n",
       "50.25        1\n",
       "41.83        1\n",
       "107.42       1\n",
       "152.00       1\n",
       "149.08       1\n",
       "230.25       1\n",
       "146.58       1\n",
       "837.08       1\n",
       "141.60       1\n",
       "Name: LotDepth, Length: 1621, dtype: int64"
      ]
     },
     "execution_count": 127,
     "metadata": {},
     "output_type": "execute_result"
    }
   ],
   "source": [
    "#LotDepth is the tax lot's depth measured in feet.\n",
    "\n",
    "brooklyn.loc[:,\"LotDepth\"].value_counts()"
   ]
  },
  {
   "cell_type": "code",
   "execution_count": 128,
   "metadata": {},
   "outputs": [],
   "source": [
    "#I am comfortable scrubbing all zero values for LotDepth\n",
    "\n",
    "brooklyn = brooklyn[brooklyn.LotDepth != 0]"
   ]
  },
  {
   "cell_type": "code",
   "execution_count": 129,
   "metadata": {},
   "outputs": [
    {
     "data": {
      "image/png": "[encoded data removed]",
      "text/plain": [
       "<Figure size 432x288 with 1 Axes>"
      ]
     },
     "metadata": {
      "needs_background": "light"
     },
     "output_type": "display_data"
    }
   ],
   "source": [
    "#What does the distribution of LotDepth look like?\n",
    "\n",
    "ax = brooklyn.loc[:,\"LotDepth\"].plot(kind='hist', bins = 20)"
   ]
  },
  {
   "cell_type": "code",
   "execution_count": 130,
   "metadata": {},
   "outputs": [],
   "source": [
    "brooklyn.loc[:, 'log_lotdepth'] = np.log(brooklyn.loc[:, 'LotDepth'])"
   ]
  },
  {
   "cell_type": "code",
   "execution_count": 131,
   "metadata": {},
   "outputs": [
    {
     "data": {
      "text/plain": [
       "3.0      4908\n",
       "1.0      4077\n",
       "2.0      2678\n",
       "4.0      1424\n",
       "5.0      1201\n",
       "6.0       964\n",
       "7.0       583\n",
       "8.0       461\n",
       "9.0       210\n",
       "0.0       158\n",
       "10.0      146\n",
       "11.0       78\n",
       "15.0       50\n",
       "16.0       49\n",
       "12.0       44\n",
       "13.0       40\n",
       "17.0       39\n",
       "14.0       35\n",
       "23.0       31\n",
       "24.0       28\n",
       "20.0       26\n",
       "18.0       24\n",
       "25.0       24\n",
       "33.0       23\n",
       "21.0       22\n",
       "19.0       20\n",
       "37.0       17\n",
       "30.0       17\n",
       "26.0       17\n",
       "36.0       15\n",
       "         ... \n",
       "127.0       1\n",
       "197.0       1\n",
       "204.0       1\n",
       "120.0       1\n",
       "153.0       1\n",
       "439.0       1\n",
       "115.0       1\n",
       "272.0       1\n",
       "235.0       1\n",
       "159.0       1\n",
       "166.0       1\n",
       "252.0       1\n",
       "187.0       1\n",
       "82.0        1\n",
       "97.0        1\n",
       "144.0       1\n",
       "378.0       1\n",
       "371.0       1\n",
       "288.0       1\n",
       "183.0       1\n",
       "92.0        1\n",
       "237.0       1\n",
       "110.0       1\n",
       "147.0       1\n",
       "158.0       1\n",
       "119.0       1\n",
       "355.0       1\n",
       "129.0       1\n",
       "184.0       1\n",
       "199.0       1\n",
       "Name: UnitsTotal, Length: 158, dtype: int64"
      ]
     },
     "execution_count": 131,
     "metadata": {},
     "output_type": "execute_result"
    }
   ],
   "source": [
    "#UnitsTotal is the sum of residential and non-residential (offices, retail stores, etc.) units for all buildings on the tax lot.\n",
    "\n",
    "#The count of non-residential units is sometimes not available if the building contains residential units.\n",
    "\n",
    "#Non-residential units are units with a separate use. If a building has 25 different offices it would be counted as 1 unit \n",
    "#because they have the same use.\n",
    "\n",
    "brooklyn.loc[:,\"UnitsTotal\"].value_counts()"
   ]
  },
  {
   "cell_type": "code",
   "execution_count": 132,
   "metadata": {},
   "outputs": [],
   "source": [
    "#I am comfortable scrubbing all zero values for UnitsTotal\n",
    "\n",
    "brooklyn = brooklyn[brooklyn.UnitsTotal != 0]"
   ]
  },
  {
   "cell_type": "code",
   "execution_count": 133,
   "metadata": {},
   "outputs": [
    {
     "data": {
      "image/png": "[encoded data removed]",
      "text/plain": [
       "<Figure size 432x288 with 1 Axes>"
      ]
     },
     "metadata": {
      "needs_background": "light"
     },
     "output_type": "display_data"
    }
   ],
   "source": [
    "#What does the distribution of UnitsTotal look like?\n",
    "\n",
    "ax = brooklyn.loc[:,\"UnitsTotal\"].plot(kind='hist', bins = 20)"
   ]
  },
  {
   "cell_type": "code",
   "execution_count": 134,
   "metadata": {},
   "outputs": [],
   "source": [
    "brooklyn.loc[:, 'log_units'] = np.log(brooklyn.loc[:, 'UnitsTotal'])"
   ]
  },
  {
   "cell_type": "code",
   "execution_count": 135,
   "metadata": {},
   "outputs": [
    {
     "data": {
      "text/plain": [
       "2000.0     1725\n",
       "2500.0     1124\n",
       "1600.0      596\n",
       "1800.0      371\n",
       "4000.0      329\n",
       "5000.0      286\n",
       "1900.0      224\n",
       "1500.0      213\n",
       "10000.0     183\n",
       "6000.0      144\n",
       "1875.0      132\n",
       "3000.0      109\n",
       "1950.0      107\n",
       "1700.0      103\n",
       "2003.0      103\n",
       "8000.0      101\n",
       "2200.0      101\n",
       "2100.0       98\n",
       "2250.0       86\n",
       "1200.0       86\n",
       "1440.0       70\n",
       "2400.0       68\n",
       "7500.0       64\n",
       "1520.0       62\n",
       "3600.0       60\n",
       "20000.0      58\n",
       "2504.0       58\n",
       "1400.0       56\n",
       "1560.0       54\n",
       "2600.0       52\n",
       "           ... \n",
       "4443.0        1\n",
       "7192.0        1\n",
       "9577.0        1\n",
       "657.0         1\n",
       "2485.0        1\n",
       "10028.0       1\n",
       "7239.0        1\n",
       "16730.0       1\n",
       "11816.0       1\n",
       "3128.0        1\n",
       "7255.0        1\n",
       "1854.0        1\n",
       "2983.0        1\n",
       "4392.0        1\n",
       "6976.0        1\n",
       "14160.0       1\n",
       "3239.0        1\n",
       "1847.0        1\n",
       "3044.0        1\n",
       "1623.0        1\n",
       "1974.0        1\n",
       "24524.0       1\n",
       "3528.0        1\n",
       "4416.0        1\n",
       "4845.0        1\n",
       "11718.0       1\n",
       "4959.0        1\n",
       "3814.0        1\n",
       "4345.0        1\n",
       "24850.0       1\n",
       "Name: LotArea, Length: 3593, dtype: int64"
      ]
     },
     "execution_count": 135,
     "metadata": {},
     "output_type": "execute_result"
    }
   ],
   "source": [
    "#LotArea is the total area of the tax lot, expressed in square feet rounded to the nearest integer.\n",
    "\n",
    "#LOT AREA contains street beds when the tax lot contains “paper streets” i.e., street mapped but not built.\n",
    "\n",
    "brooklyn.loc[:,\"LotArea\"].value_counts()"
   ]
  },
  {
   "cell_type": "code",
   "execution_count": 136,
   "metadata": {},
   "outputs": [],
   "source": [
    "#I am comfortable scrubbing all zero values for LotArea\n",
    "\n",
    "brooklyn = brooklyn[brooklyn.LotArea != 0]"
   ]
  },
  {
   "cell_type": "code",
   "execution_count": 137,
   "metadata": {},
   "outputs": [
    {
     "data": {
      "image/png": "[encoded data removed]",
      "text/plain": [
       "<Figure size 432x288 with 1 Axes>"
      ]
     },
     "metadata": {
      "needs_background": "light"
     },
     "output_type": "display_data"
    }
   ],
   "source": [
    "#What does the distribution of LotArea look like?\n",
    "\n",
    "ax = brooklyn.loc[:,\"LotArea\"].plot(kind='hist', bins = 20)"
   ]
  },
  {
   "cell_type": "code",
   "execution_count": 138,
   "metadata": {},
   "outputs": [],
   "source": [
    "brooklyn.loc[:, 'log_lotarea'] = np.log(brooklyn.loc[:, 'LotArea'])"
   ]
  },
  {
   "cell_type": "markdown",
   "metadata": {},
   "source": [
    "# Final Model"
   ]
  },
  {
   "cell_type": "markdown",
   "metadata": {},
   "source": [
    "I am going to build a model based on the log transformations of certain feature variables and the target variable"
   ]
  },
  {
   "cell_type": "code",
   "execution_count": 139,
   "metadata": {},
   "outputs": [],
   "source": [
    "new_brooklyn = brooklyn.loc[:,['log_price','log_sqft','log_assess','log_area','log_lotarea','log_units','log_lotdepth','log_depth','log_front','log_floor','log_far', 'log_bldgarea', 'log_bldg']]"
   ]
  },
  {
   "cell_type": "code",
   "execution_count": 140,
   "metadata": {},
   "outputs": [
    {
     "data": {
      "text/html": [
       "<div>\n",
       "<style scoped>\n",
       "    .dataframe tbody tr th:only-of-type {\n",
       "        vertical-align: middle;\n",
       "    }\n",
       "\n",
       "    .dataframe tbody tr th {\n",
       "        vertical-align: top;\n",
       "    }\n",
       "\n",
       "    .dataframe thead th {\n",
       "        text-align: right;\n",
       "    }\n",
       "</style>\n",
       "<table border=\"1\" class=\"dataframe\">\n",
       "  <thead>\n",
       "    <tr style=\"text-align: right;\">\n",
       "      <th></th>\n",
       "      <th>log_price</th>\n",
       "      <th>log_sqft</th>\n",
       "      <th>log_assess</th>\n",
       "      <th>log_area</th>\n",
       "      <th>log_lotarea</th>\n",
       "      <th>log_units</th>\n",
       "      <th>log_lotdepth</th>\n",
       "      <th>log_depth</th>\n",
       "      <th>log_front</th>\n",
       "      <th>log_floor</th>\n",
       "      <th>log_far</th>\n",
       "      <th>log_bldgarea</th>\n",
       "      <th>log_bldg</th>\n",
       "    </tr>\n",
       "  </thead>\n",
       "  <tbody>\n",
       "    <tr>\n",
       "      <th>4</th>\n",
       "      <td>19.126250</td>\n",
       "      <td>12.782686</td>\n",
       "      <td>17.117479</td>\n",
       "      <td>10.308953</td>\n",
       "      <td>9.916749</td>\n",
       "      <td>0.000000</td>\n",
       "      <td>4.608465</td>\n",
       "      <td>4.608465</td>\n",
       "      <td>5.308268</td>\n",
       "      <td>2.708050</td>\n",
       "      <td>2.890372</td>\n",
       "      <td>12.782686</td>\n",
       "      <td>5.308268</td>\n",
       "    </tr>\n",
       "    <tr>\n",
       "      <th>6</th>\n",
       "      <td>18.957174</td>\n",
       "      <td>12.579152</td>\n",
       "      <td>17.158708</td>\n",
       "      <td>12.579152</td>\n",
       "      <td>9.433484</td>\n",
       "      <td>4.624973</td>\n",
       "      <td>4.828314</td>\n",
       "      <td>4.828314</td>\n",
       "      <td>4.605170</td>\n",
       "      <td>3.610918</td>\n",
       "      <td>3.135494</td>\n",
       "      <td>12.579152</td>\n",
       "      <td>4.521789</td>\n",
       "    </tr>\n",
       "    <tr>\n",
       "      <th>7</th>\n",
       "      <td>18.945409</td>\n",
       "      <td>12.395717</td>\n",
       "      <td>16.992132</td>\n",
       "      <td>10.236382</td>\n",
       "      <td>10.823232</td>\n",
       "      <td>5.468060</td>\n",
       "      <td>5.298317</td>\n",
       "      <td>4.605170</td>\n",
       "      <td>6.255750</td>\n",
       "      <td>1.791759</td>\n",
       "      <td>1.609438</td>\n",
       "      <td>12.395717</td>\n",
       "      <td>6.214608</td>\n",
       "    </tr>\n",
       "    <tr>\n",
       "      <th>9</th>\n",
       "      <td>18.896915</td>\n",
       "      <td>13.212204</td>\n",
       "      <td>16.239871</td>\n",
       "      <td>13.212204</td>\n",
       "      <td>11.642198</td>\n",
       "      <td>0.000000</td>\n",
       "      <td>5.318120</td>\n",
       "      <td>4.393461</td>\n",
       "      <td>6.343880</td>\n",
       "      <td>2.079442</td>\n",
       "      <td>1.609438</td>\n",
       "      <td>13.212204</td>\n",
       "      <td>5.717028</td>\n",
       "    </tr>\n",
       "    <tr>\n",
       "      <th>13</th>\n",
       "      <td>18.743535</td>\n",
       "      <td>12.441524</td>\n",
       "      <td>16.662609</td>\n",
       "      <td>12.441524</td>\n",
       "      <td>9.938082</td>\n",
       "      <td>0.693147</td>\n",
       "      <td>5.327876</td>\n",
       "      <td>5.323010</td>\n",
       "      <td>4.615121</td>\n",
       "      <td>2.397895</td>\n",
       "      <td>2.484907</td>\n",
       "      <td>12.441524</td>\n",
       "      <td>4.605170</td>\n",
       "    </tr>\n",
       "  </tbody>\n",
       "</table>\n",
       "</div>"
      ],
      "text/plain": [
       "    log_price   log_sqft  log_assess   log_area  log_lotarea  log_units  \\\n",
       "4   19.126250  12.782686   17.117479  10.308953     9.916749   0.000000   \n",
       "6   18.957174  12.579152   17.158708  12.579152     9.433484   4.624973   \n",
       "7   18.945409  12.395717   16.992132  10.236382    10.823232   5.468060   \n",
       "9   18.896915  13.212204   16.239871  13.212204    11.642198   0.000000   \n",
       "13  18.743535  12.441524   16.662609  12.441524     9.938082   0.693147   \n",
       "\n",
       "    log_lotdepth  log_depth  log_front  log_floor   log_far  log_bldgarea  \\\n",
       "4       4.608465   4.608465   5.308268   2.708050  2.890372     12.782686   \n",
       "6       4.828314   4.828314   4.605170   3.610918  3.135494     12.579152   \n",
       "7       5.298317   4.605170   6.255750   1.791759  1.609438     12.395717   \n",
       "9       5.318120   4.393461   6.343880   2.079442  1.609438     13.212204   \n",
       "13      5.327876   5.323010   4.615121   2.397895  2.484907     12.441524   \n",
       "\n",
       "    log_bldg  \n",
       "4   5.308268  \n",
       "6   4.521789  \n",
       "7   6.214608  \n",
       "9   5.717028  \n",
       "13  4.605170  "
      ]
     },
     "execution_count": 140,
     "metadata": {},
     "output_type": "execute_result"
    }
   ],
   "source": [
    "new_brooklyn.head()"
   ]
  },
  {
   "cell_type": "code",
   "execution_count": 141,
   "metadata": {},
   "outputs": [
    {
     "data": {
      "text/plain": [
       "log_price       1.000000\n",
       "log_assess      0.303991\n",
       "log_bldgarea    0.293660\n",
       "log_sqft        0.286201\n",
       "log_area        0.245051\n",
       "log_lotarea     0.243917\n",
       "log_bldg        0.242041\n",
       "log_front       0.239864\n",
       "log_depth       0.170753\n",
       "log_lotdepth    0.125975\n",
       "log_units       0.114461\n",
       "log_floor       0.099972\n",
       "log_far         0.095332\n",
       "Name: log_price, dtype: float64"
      ]
     },
     "execution_count": 141,
     "metadata": {},
     "output_type": "execute_result"
    }
   ],
   "source": [
    "new_brooklyn.corr().loc[:, 'log_price'].sort_values(ascending=False)"
   ]
  },
  {
   "cell_type": "code",
   "execution_count": 142,
   "metadata": {},
   "outputs": [
    {
     "data": {
      "image/png": "[encoded data removed]",
      "text/plain": [
       "<Figure size 432x288 with 2 Axes>"
      ]
     },
     "metadata": {
      "needs_background": "light"
     },
     "output_type": "display_data"
    }
   ],
   "source": [
    "#Here is a heatmap of the new model, it does not look very pleasing\n",
    "\n",
    "ax = sns.heatmap(new_brooklyn.corr(), vmin=-1, vmax=1, annot=True, cmap=sns.diverging_palette(h_neg=220, h_pos=10, n=21))"
   ]
  },
  {
   "cell_type": "code",
   "execution_count": 143,
   "metadata": {},
   "outputs": [
    {
     "data": {
      "text/html": [
       "<div>\n",
       "<style scoped>\n",
       "    .dataframe tbody tr th:only-of-type {\n",
       "        vertical-align: middle;\n",
       "    }\n",
       "\n",
       "    .dataframe tbody tr th {\n",
       "        vertical-align: top;\n",
       "    }\n",
       "\n",
       "    .dataframe thead th {\n",
       "        text-align: right;\n",
       "    }\n",
       "</style>\n",
       "<table border=\"1\" class=\"dataframe\">\n",
       "  <thead>\n",
       "    <tr style=\"text-align: right;\">\n",
       "      <th></th>\n",
       "      <th>log_price</th>\n",
       "      <th>log_sqft</th>\n",
       "      <th>log_assess</th>\n",
       "      <th>log_area</th>\n",
       "      <th>log_lotarea</th>\n",
       "      <th>log_units</th>\n",
       "      <th>log_lotdepth</th>\n",
       "      <th>log_depth</th>\n",
       "      <th>log_front</th>\n",
       "      <th>log_floor</th>\n",
       "      <th>log_far</th>\n",
       "      <th>log_bldgarea</th>\n",
       "      <th>log_bldg</th>\n",
       "    </tr>\n",
       "  </thead>\n",
       "  <tbody>\n",
       "    <tr>\n",
       "      <th>log_price</th>\n",
       "      <td>1.000000</td>\n",
       "      <td>0.286201</td>\n",
       "      <td>0.303991</td>\n",
       "      <td>0.245051</td>\n",
       "      <td>0.243917</td>\n",
       "      <td>0.114461</td>\n",
       "      <td>0.125975</td>\n",
       "      <td>0.170753</td>\n",
       "      <td>0.239864</td>\n",
       "      <td>0.099972</td>\n",
       "      <td>0.095332</td>\n",
       "      <td>0.293660</td>\n",
       "      <td>0.242041</td>\n",
       "    </tr>\n",
       "    <tr>\n",
       "      <th>log_sqft</th>\n",
       "      <td>0.286201</td>\n",
       "      <td>1.000000</td>\n",
       "      <td>0.728382</td>\n",
       "      <td>0.761290</td>\n",
       "      <td>0.738226</td>\n",
       "      <td>0.351034</td>\n",
       "      <td>0.493919</td>\n",
       "      <td>0.604059</td>\n",
       "      <td>0.683001</td>\n",
       "      <td>0.311592</td>\n",
       "      <td>0.377423</td>\n",
       "      <td>0.948319</td>\n",
       "      <td>0.727283</td>\n",
       "    </tr>\n",
       "    <tr>\n",
       "      <th>log_assess</th>\n",
       "      <td>0.303991</td>\n",
       "      <td>0.728382</td>\n",
       "      <td>1.000000</td>\n",
       "      <td>0.803170</td>\n",
       "      <td>0.755280</td>\n",
       "      <td>0.122923</td>\n",
       "      <td>0.438641</td>\n",
       "      <td>0.579967</td>\n",
       "      <td>0.732316</td>\n",
       "      <td>0.002794</td>\n",
       "      <td>0.071287</td>\n",
       "      <td>0.760321</td>\n",
       "      <td>0.731318</td>\n",
       "    </tr>\n",
       "    <tr>\n",
       "      <th>log_area</th>\n",
       "      <td>0.245051</td>\n",
       "      <td>0.761290</td>\n",
       "      <td>0.803170</td>\n",
       "      <td>1.000000</td>\n",
       "      <td>0.808336</td>\n",
       "      <td>-0.113259</td>\n",
       "      <td>0.500784</td>\n",
       "      <td>0.652578</td>\n",
       "      <td>0.763835</td>\n",
       "      <td>-0.104807</td>\n",
       "      <td>0.049579</td>\n",
       "      <td>0.795975</td>\n",
       "      <td>0.788664</td>\n",
       "    </tr>\n",
       "    <tr>\n",
       "      <th>log_lotarea</th>\n",
       "      <td>0.243917</td>\n",
       "      <td>0.738226</td>\n",
       "      <td>0.755280</td>\n",
       "      <td>0.808336</td>\n",
       "      <td>1.000000</td>\n",
       "      <td>0.006949</td>\n",
       "      <td>0.673951</td>\n",
       "      <td>0.572497</td>\n",
       "      <td>0.912178</td>\n",
       "      <td>-0.166342</td>\n",
       "      <td>-0.266266</td>\n",
       "      <td>0.766314</td>\n",
       "      <td>0.848430</td>\n",
       "    </tr>\n",
       "    <tr>\n",
       "      <th>log_units</th>\n",
       "      <td>0.114461</td>\n",
       "      <td>0.351034</td>\n",
       "      <td>0.122923</td>\n",
       "      <td>-0.113259</td>\n",
       "      <td>0.006949</td>\n",
       "      <td>1.000000</td>\n",
       "      <td>0.013772</td>\n",
       "      <td>0.018091</td>\n",
       "      <td>0.000095</td>\n",
       "      <td>0.692436</td>\n",
       "      <td>0.574541</td>\n",
       "      <td>0.389596</td>\n",
       "      <td>0.040068</td>\n",
       "    </tr>\n",
       "    <tr>\n",
       "      <th>log_lotdepth</th>\n",
       "      <td>0.125975</td>\n",
       "      <td>0.493919</td>\n",
       "      <td>0.438641</td>\n",
       "      <td>0.500784</td>\n",
       "      <td>0.673951</td>\n",
       "      <td>0.013772</td>\n",
       "      <td>1.000000</td>\n",
       "      <td>0.570068</td>\n",
       "      <td>0.381041</td>\n",
       "      <td>-0.044875</td>\n",
       "      <td>-0.190603</td>\n",
       "      <td>0.508883</td>\n",
       "      <td>0.368682</td>\n",
       "    </tr>\n",
       "    <tr>\n",
       "      <th>log_depth</th>\n",
       "      <td>0.170753</td>\n",
       "      <td>0.604059</td>\n",
       "      <td>0.579967</td>\n",
       "      <td>0.652578</td>\n",
       "      <td>0.572497</td>\n",
       "      <td>0.018091</td>\n",
       "      <td>0.570068</td>\n",
       "      <td>1.000000</td>\n",
       "      <td>0.435159</td>\n",
       "      <td>-0.104712</td>\n",
       "      <td>0.123655</td>\n",
       "      <td>0.622688</td>\n",
       "      <td>0.494250</td>\n",
       "    </tr>\n",
       "    <tr>\n",
       "      <th>log_front</th>\n",
       "      <td>0.239864</td>\n",
       "      <td>0.683001</td>\n",
       "      <td>0.732316</td>\n",
       "      <td>0.763835</td>\n",
       "      <td>0.912178</td>\n",
       "      <td>0.000095</td>\n",
       "      <td>0.381041</td>\n",
       "      <td>0.435159</td>\n",
       "      <td>1.000000</td>\n",
       "      <td>-0.196998</td>\n",
       "      <td>-0.235639</td>\n",
       "      <td>0.703902</td>\n",
       "      <td>0.905485</td>\n",
       "    </tr>\n",
       "    <tr>\n",
       "      <th>log_floor</th>\n",
       "      <td>0.099972</td>\n",
       "      <td>0.311592</td>\n",
       "      <td>0.002794</td>\n",
       "      <td>-0.104807</td>\n",
       "      <td>-0.166342</td>\n",
       "      <td>0.692436</td>\n",
       "      <td>-0.044875</td>\n",
       "      <td>-0.104712</td>\n",
       "      <td>-0.196998</td>\n",
       "      <td>1.000000</td>\n",
       "      <td>0.762293</td>\n",
       "      <td>0.351181</td>\n",
       "      <td>-0.151955</td>\n",
       "    </tr>\n",
       "    <tr>\n",
       "      <th>log_far</th>\n",
       "      <td>0.095332</td>\n",
       "      <td>0.377423</td>\n",
       "      <td>0.071287</td>\n",
       "      <td>0.049579</td>\n",
       "      <td>-0.266266</td>\n",
       "      <td>0.574541</td>\n",
       "      <td>-0.190603</td>\n",
       "      <td>0.123655</td>\n",
       "      <td>-0.235639</td>\n",
       "      <td>0.762293</td>\n",
       "      <td>1.000000</td>\n",
       "      <td>0.415102</td>\n",
       "      <td>-0.069135</td>\n",
       "    </tr>\n",
       "    <tr>\n",
       "      <th>log_bldgarea</th>\n",
       "      <td>0.293660</td>\n",
       "      <td>0.948319</td>\n",
       "      <td>0.760321</td>\n",
       "      <td>0.795975</td>\n",
       "      <td>0.766314</td>\n",
       "      <td>0.389596</td>\n",
       "      <td>0.508883</td>\n",
       "      <td>0.622688</td>\n",
       "      <td>0.703902</td>\n",
       "      <td>0.351181</td>\n",
       "      <td>0.415102</td>\n",
       "      <td>1.000000</td>\n",
       "      <td>0.754803</td>\n",
       "    </tr>\n",
       "    <tr>\n",
       "      <th>log_bldg</th>\n",
       "      <td>0.242041</td>\n",
       "      <td>0.727283</td>\n",
       "      <td>0.731318</td>\n",
       "      <td>0.788664</td>\n",
       "      <td>0.848430</td>\n",
       "      <td>0.040068</td>\n",
       "      <td>0.368682</td>\n",
       "      <td>0.494250</td>\n",
       "      <td>0.905485</td>\n",
       "      <td>-0.151955</td>\n",
       "      <td>-0.069135</td>\n",
       "      <td>0.754803</td>\n",
       "      <td>1.000000</td>\n",
       "    </tr>\n",
       "  </tbody>\n",
       "</table>\n",
       "</div>"
      ],
      "text/plain": [
       "              log_price  log_sqft  log_assess  log_area  log_lotarea  \\\n",
       "log_price      1.000000  0.286201    0.303991  0.245051     0.243917   \n",
       "log_sqft       0.286201  1.000000    0.728382  0.761290     0.738226   \n",
       "log_assess     0.303991  0.728382    1.000000  0.803170     0.755280   \n",
       "log_area       0.245051  0.761290    0.803170  1.000000     0.808336   \n",
       "log_lotarea    0.243917  0.738226    0.755280  0.808336     1.000000   \n",
       "log_units      0.114461  0.351034    0.122923 -0.113259     0.006949   \n",
       "log_lotdepth   0.125975  0.493919    0.438641  0.500784     0.673951   \n",
       "log_depth      0.170753  0.604059    0.579967  0.652578     0.572497   \n",
       "log_front      0.239864  0.683001    0.732316  0.763835     0.912178   \n",
       "log_floor      0.099972  0.311592    0.002794 -0.104807    -0.166342   \n",
       "log_far        0.095332  0.377423    0.071287  0.049579    -0.266266   \n",
       "log_bldgarea   0.293660  0.948319    0.760321  0.795975     0.766314   \n",
       "log_bldg       0.242041  0.727283    0.731318  0.788664     0.848430   \n",
       "\n",
       "              log_units  log_lotdepth  log_depth  log_front  log_floor  \\\n",
       "log_price      0.114461      0.125975   0.170753   0.239864   0.099972   \n",
       "log_sqft       0.351034      0.493919   0.604059   0.683001   0.311592   \n",
       "log_assess     0.122923      0.438641   0.579967   0.732316   0.002794   \n",
       "log_area      -0.113259      0.500784   0.652578   0.763835  -0.104807   \n",
       "log_lotarea    0.006949      0.673951   0.572497   0.912178  -0.166342   \n",
       "log_units      1.000000      0.013772   0.018091   0.000095   0.692436   \n",
       "log_lotdepth   0.013772      1.000000   0.570068   0.381041  -0.044875   \n",
       "log_depth      0.018091      0.570068   1.000000   0.435159  -0.104712   \n",
       "log_front      0.000095      0.381041   0.435159   1.000000  -0.196998   \n",
       "log_floor      0.692436     -0.044875  -0.104712  -0.196998   1.000000   \n",
       "log_far        0.574541     -0.190603   0.123655  -0.235639   0.762293   \n",
       "log_bldgarea   0.389596      0.508883   0.622688   0.703902   0.351181   \n",
       "log_bldg       0.040068      0.368682   0.494250   0.905485  -0.151955   \n",
       "\n",
       "               log_far  log_bldgarea  log_bldg  \n",
       "log_price     0.095332      0.293660  0.242041  \n",
       "log_sqft      0.377423      0.948319  0.727283  \n",
       "log_assess    0.071287      0.760321  0.731318  \n",
       "log_area      0.049579      0.795975  0.788664  \n",
       "log_lotarea  -0.266266      0.766314  0.848430  \n",
       "log_units     0.574541      0.389596  0.040068  \n",
       "log_lotdepth -0.190603      0.508883  0.368682  \n",
       "log_depth     0.123655      0.622688  0.494250  \n",
       "log_front    -0.235639      0.703902  0.905485  \n",
       "log_floor     0.762293      0.351181 -0.151955  \n",
       "log_far       1.000000      0.415102 -0.069135  \n",
       "log_bldgarea  0.415102      1.000000  0.754803  \n",
       "log_bldg     -0.069135      0.754803  1.000000  "
      ]
     },
     "execution_count": 143,
     "metadata": {},
     "output_type": "execute_result"
    }
   ],
   "source": [
    "#Instead here is a plain correlation table\n",
    "\n",
    "#There are several relationships between variables that look like they suffer from collinearity\n",
    "\n",
    "#I will make a cut off at 90% correlation\n",
    "\n",
    "#log_bldgarea is 94% correlated with log_sqft, I'm going to drop log_sqft since that is less correlated to log_price\n",
    "\n",
    "#log_front is 91% correlated with log_lotarea. I'm going to drop log_front since that is less correlated to log_price\n",
    "\n",
    "#log_bldg is 91% correlated with log_front. However, log_front is already being dropped\n",
    "\n",
    "new_brooklyn.corr()"
   ]
  },
  {
   "cell_type": "code",
   "execution_count": 144,
   "metadata": {},
   "outputs": [],
   "source": [
    "final_brooklyn = brooklyn.loc[:,['log_price','log_assess','log_area','log_lotarea','log_units','log_lotdepth','log_depth','log_floor','log_far', 'log_bldgarea', 'log_bldg','tax_class_at_sale','SanitDistr','PolicePrct','SchoolDist']]"
   ]
  },
  {
   "cell_type": "code",
   "execution_count": 145,
   "metadata": {},
   "outputs": [
    {
     "data": {
      "text/html": [
       "<div>\n",
       "<style scoped>\n",
       "    .dataframe tbody tr th:only-of-type {\n",
       "        vertical-align: middle;\n",
       "    }\n",
       "\n",
       "    .dataframe tbody tr th {\n",
       "        vertical-align: top;\n",
       "    }\n",
       "\n",
       "    .dataframe thead th {\n",
       "        text-align: right;\n",
       "    }\n",
       "</style>\n",
       "<table border=\"1\" class=\"dataframe\">\n",
       "  <thead>\n",
       "    <tr style=\"text-align: right;\">\n",
       "      <th></th>\n",
       "      <th>log_price</th>\n",
       "      <th>log_assess</th>\n",
       "      <th>log_area</th>\n",
       "      <th>log_lotarea</th>\n",
       "      <th>log_units</th>\n",
       "      <th>log_lotdepth</th>\n",
       "      <th>log_depth</th>\n",
       "      <th>log_floor</th>\n",
       "      <th>log_far</th>\n",
       "      <th>log_bldgarea</th>\n",
       "      <th>log_bldg</th>\n",
       "      <th>tax_class_at_sale</th>\n",
       "      <th>SanitDistr</th>\n",
       "      <th>PolicePrct</th>\n",
       "      <th>SchoolDist</th>\n",
       "    </tr>\n",
       "  </thead>\n",
       "  <tbody>\n",
       "    <tr>\n",
       "      <th>4</th>\n",
       "      <td>19.126250</td>\n",
       "      <td>17.117479</td>\n",
       "      <td>10.308953</td>\n",
       "      <td>9.916749</td>\n",
       "      <td>0.000000</td>\n",
       "      <td>4.608465</td>\n",
       "      <td>4.608465</td>\n",
       "      <td>2.708050</td>\n",
       "      <td>2.890372</td>\n",
       "      <td>12.782686</td>\n",
       "      <td>5.308268</td>\n",
       "      <td>4</td>\n",
       "      <td>2.0</td>\n",
       "      <td>84.0</td>\n",
       "      <td>13.0</td>\n",
       "    </tr>\n",
       "    <tr>\n",
       "      <th>6</th>\n",
       "      <td>18.957174</td>\n",
       "      <td>17.158708</td>\n",
       "      <td>12.579152</td>\n",
       "      <td>9.433484</td>\n",
       "      <td>4.624973</td>\n",
       "      <td>4.828314</td>\n",
       "      <td>4.828314</td>\n",
       "      <td>3.610918</td>\n",
       "      <td>3.135494</td>\n",
       "      <td>12.579152</td>\n",
       "      <td>4.521789</td>\n",
       "      <td>4</td>\n",
       "      <td>2.0</td>\n",
       "      <td>84.0</td>\n",
       "      <td>13.0</td>\n",
       "    </tr>\n",
       "    <tr>\n",
       "      <th>7</th>\n",
       "      <td>18.945409</td>\n",
       "      <td>16.992132</td>\n",
       "      <td>10.236382</td>\n",
       "      <td>10.823232</td>\n",
       "      <td>5.468060</td>\n",
       "      <td>5.298317</td>\n",
       "      <td>4.605170</td>\n",
       "      <td>1.791759</td>\n",
       "      <td>1.609438</td>\n",
       "      <td>12.395717</td>\n",
       "      <td>6.214608</td>\n",
       "      <td>2</td>\n",
       "      <td>1.0</td>\n",
       "      <td>94.0</td>\n",
       "      <td>14.0</td>\n",
       "    </tr>\n",
       "    <tr>\n",
       "      <th>9</th>\n",
       "      <td>18.896915</td>\n",
       "      <td>16.239871</td>\n",
       "      <td>13.212204</td>\n",
       "      <td>11.642198</td>\n",
       "      <td>0.000000</td>\n",
       "      <td>5.318120</td>\n",
       "      <td>4.393461</td>\n",
       "      <td>2.079442</td>\n",
       "      <td>1.609438</td>\n",
       "      <td>13.212204</td>\n",
       "      <td>5.717028</td>\n",
       "      <td>4</td>\n",
       "      <td>2.0</td>\n",
       "      <td>88.0</td>\n",
       "      <td>14.0</td>\n",
       "    </tr>\n",
       "    <tr>\n",
       "      <th>13</th>\n",
       "      <td>18.743535</td>\n",
       "      <td>16.662609</td>\n",
       "      <td>12.441524</td>\n",
       "      <td>9.938082</td>\n",
       "      <td>0.693147</td>\n",
       "      <td>5.327876</td>\n",
       "      <td>5.323010</td>\n",
       "      <td>2.397895</td>\n",
       "      <td>2.484907</td>\n",
       "      <td>12.441524</td>\n",
       "      <td>4.605170</td>\n",
       "      <td>4</td>\n",
       "      <td>2.0</td>\n",
       "      <td>84.0</td>\n",
       "      <td>13.0</td>\n",
       "    </tr>\n",
       "  </tbody>\n",
       "</table>\n",
       "</div>"
      ],
      "text/plain": [
       "    log_price  log_assess   log_area  log_lotarea  log_units  log_lotdepth  \\\n",
       "4   19.126250   17.117479  10.308953     9.916749   0.000000      4.608465   \n",
       "6   18.957174   17.158708  12.579152     9.433484   4.624973      4.828314   \n",
       "7   18.945409   16.992132  10.236382    10.823232   5.468060      5.298317   \n",
       "9   18.896915   16.239871  13.212204    11.642198   0.000000      5.318120   \n",
       "13  18.743535   16.662609  12.441524     9.938082   0.693147      5.327876   \n",
       "\n",
       "    log_depth  log_floor   log_far  log_bldgarea  log_bldg tax_class_at_sale  \\\n",
       "4    4.608465   2.708050  2.890372     12.782686  5.308268                 4   \n",
       "6    4.828314   3.610918  3.135494     12.579152  4.521789                 4   \n",
       "7    4.605170   1.791759  1.609438     12.395717  6.214608                 2   \n",
       "9    4.393461   2.079442  1.609438     13.212204  5.717028                 4   \n",
       "13   5.323010   2.397895  2.484907     12.441524  4.605170                 4   \n",
       "\n",
       "   SanitDistr PolicePrct SchoolDist  \n",
       "4         2.0       84.0       13.0  \n",
       "6         2.0       84.0       13.0  \n",
       "7         1.0       94.0       14.0  \n",
       "9         2.0       88.0       14.0  \n",
       "13        2.0       84.0       13.0  "
      ]
     },
     "execution_count": 145,
     "metadata": {},
     "output_type": "execute_result"
    }
   ],
   "source": [
    "final_brooklyn.head()"
   ]
  },
  {
   "cell_type": "code",
   "execution_count": 146,
   "metadata": {},
   "outputs": [],
   "source": [
    "final_brooklyn = pd.get_dummies(final_brooklyn, columns=['tax_class_at_sale','SanitDistr','PolicePrct','SchoolDist'], drop_first=True)"
   ]
  },
  {
   "cell_type": "code",
   "execution_count": 147,
   "metadata": {},
   "outputs": [],
   "source": [
    "#Separating the variables between X and y\n",
    "\n",
    "X3 = final_brooklyn.drop('log_price', axis='columns')\n",
    "y3 = final_brooklyn.loc[:, 'log_price']"
   ]
  },
  {
   "cell_type": "code",
   "execution_count": 148,
   "metadata": {},
   "outputs": [],
   "source": [
    "#Setting up a training set and a test set\n",
    "#test_size = .3 means 30% of the data is set aside for the test set. 70% of the data is used for the training set\n",
    "#You could also use train_size if you wish\n",
    "\n",
    "from sklearn.model_selection import train_test_split\n",
    "\n",
    "X3_train, X3_test, y3_train, y3_test = train_test_split(X3, y3, test_size = .3, random_state=30)"
   ]
  },
  {
   "cell_type": "code",
   "execution_count": 149,
   "metadata": {},
   "outputs": [
    {
     "data": {
      "text/plain": [
       "LinearRegression(copy_X=True, fit_intercept=True, n_jobs=None,\n",
       "         normalize=False)"
      ]
     },
     "execution_count": 149,
     "metadata": {},
     "output_type": "execute_result"
    }
   ],
   "source": [
    "#Setting up a linear regression model using the training set\n",
    "\n",
    "from sklearn.linear_model import LinearRegression\n",
    "\n",
    "lr = LinearRegression()\n",
    "\n",
    "lr.fit(X3_train, y3_train)"
   ]
  },
  {
   "cell_type": "code",
   "execution_count": 150,
   "metadata": {},
   "outputs": [
    {
     "name": "stdout",
     "output_type": "stream",
     "text": [
      "0.15640203852782875\n",
      "0.10636996016345523\n"
     ]
    }
   ],
   "source": [
    "#Scoring the model on the training set and test set.\n",
    "\n",
    "print(lr.score(X3_train, y3_train))\n",
    "print(lr.score(X3_test, y3_test))"
   ]
  },
  {
   "cell_type": "markdown",
   "metadata": {},
   "source": [
    "### Observations"
   ]
  },
  {
   "cell_type": "markdown",
   "metadata": {},
   "source": [
    "Not so good"
   ]
  },
  {
   "cell_type": "markdown",
   "metadata": {},
   "source": [
    "# Random Forest Regression Part 2"
   ]
  },
  {
   "cell_type": "code",
   "execution_count": 151,
   "metadata": {},
   "outputs": [],
   "source": [
    "#Separating the variables between X and y\n",
    "\n",
    "X4 = final_brooklyn.drop('log_price', axis='columns')\n",
    "y4 = final_brooklyn.loc[:, 'log_price']"
   ]
  },
  {
   "cell_type": "code",
   "execution_count": 152,
   "metadata": {},
   "outputs": [],
   "source": [
    "#Setting up a training set and a test set\n",
    "#test_size = .3 means 30% of the data is set aside for the test set. 70% of the data is used for the training set\n",
    "#You could also use train_size if you wish\n",
    "\n",
    "from sklearn.model_selection import train_test_split\n",
    "\n",
    "X4_train, X4_test, y4_train, y4_test = train_test_split(X4, y4, test_size = .3, random_state=30)"
   ]
  },
  {
   "cell_type": "code",
   "execution_count": 153,
   "metadata": {},
   "outputs": [
    {
     "name": "stdout",
     "output_type": "stream",
     "text": [
      "0.7620429924984005\n",
      "-0.003304150802541983\n"
     ]
    }
   ],
   "source": [
    "from sklearn.ensemble import RandomForestRegressor\n",
    "\n",
    "rfr = RandomForestRegressor(n_estimators=200)\n",
    "rfr.fit(X4_train, y4_train)\n",
    "print(rfr.score(X4_train, y4_train))\n",
    "print(rfr.score(X4_test, y4_test))"
   ]
  },
  {
   "cell_type": "markdown",
   "metadata": {},
   "source": [
    "Once again just awful. Random Forest Regression has not worked out well for this dataset."
   ]
  },
  {
   "cell_type": "markdown",
   "metadata": {},
   "source": [
    "# Notes/Observations"
   ]
  },
  {
   "cell_type": "markdown",
   "metadata": {},
   "source": [
    "1. I got a MemoryError when I tried to do a regression with many Dummy Variables. I had to decrease the amount of explanatory variables in order to avoid the memory error. new_regression = pd.get_dummies(new_regression, columns=['zip_code','tax_class_at_sale','block','lot','neighborhood','building_class_category','building_class_at_sale','SanitDistr','PolicePrct','SchoolDist'], drop_first=True)"
   ]
  },
  {
   "cell_type": "code",
   "execution_count": null,
   "metadata": {},
   "outputs": [],
   "source": []
  }
 ],
 "metadata": {
  "kernelspec": {
   "display_name": "Python 3",
   "language": "python",
   "name": "python3"
  },
  "language_info": {
   "codemirror_mode": {
    "name": "ipython",
    "version": 3
   },
   "file_extension": ".py",
   "mimetype": "text/x-python",
   "name": "python",
   "nbconvert_exporter": "python",
   "pygments_lexer": "ipython3",
   "version": "3.7.1"
  }
 },
 "nbformat": 4,
 "nbformat_minor": 2
}
